{
 "cells": [
  {
   "cell_type": "markdown",
   "metadata": {
    "collapsed": true
   },
   "source": [
    "# The notebook is to compare Pandas , SFrames and Dask on their capabilities of Data processing.\n",
    "\n",
    "### The challenge with Pandas is it is only in Memory processing, we need to find an alternative to it for processing larger than RAM datasets\n"
   ]
  },
  {
   "cell_type": "markdown",
   "metadata": {},
   "source": [
    "# Writing Pandas operations\n",
    "\n",
    "#### Testing what all operations are there when compared to sas and how they work out on Space and Time usage"
   ]
  },
  {
   "cell_type": "code",
   "execution_count": null,
   "metadata": {
    "collapsed": false
   },
   "outputs": [],
   "source": [
    "import pandas as pd, numpy as np, scipy as sp, sklearn as sk\n",
    "pd , np , sp , sk"
   ]
  },
  {
   "cell_type": "code",
   "execution_count": null,
   "metadata": {
    "collapsed": false,
    "scrolled": false
   },
   "outputs": [],
   "source": [
    "filedir = '/nfs/science/public/tool-eval/sframe/puneett/'\n",
    "filen = ['transactions_200607.csv', 'transactions_200608.csv','transactions_200609.csv','transactions_200610.csv',\n",
    "            'transactions_200611.csv','transactions_200612.csv','transactions_200613.csv','transactions_200614.csv',\n",
    "            'transactions_200615.csv','transactions_200616.csv','transactions_200617.csv','transactions_200618.csv',\n",
    "            'transactions_200619.csv']\n",
    "filename = []\n",
    "for i in filen:\n",
    "    filename.append(filedir+i)\n",
    "print(filename)\n",
    "df = pd.concat([pd.read_csv(x) for x in filename])"
   ]
  },
  {
   "cell_type": "code",
   "execution_count": null,
   "metadata": {
    "collapsed": false
   },
   "outputs": [],
   "source": [
    "df.head()"
   ]
  },
  {
   "cell_type": "code",
   "execution_count": null,
   "metadata": {
    "collapsed": false,
    "scrolled": true
   },
   "outputs": [],
   "source": [
    "df['SHOP_WEEK'].count()"
   ]
  },
  {
   "cell_type": "code",
   "execution_count": null,
   "metadata": {
    "collapsed": true
   },
   "outputs": [],
   "source": [
    "%time df.describe"
   ]
  },
  {
   "cell_type": "code",
   "execution_count": 88,
   "metadata": {
    "collapsed": false
   },
   "outputs": [],
   "source": [
    "#Sorting dataframe Pandas\n",
    "df = df.sort_values(by=['SHOP_WEEK','PROD_CODE'], ascending=[True,False])\n",
    "# df['SHOP_WEEK'].unique()"
   ]
  },
  {
   "cell_type": "code",
   "execution_count": null,
   "metadata": {
    "collapsed": false
   },
   "outputs": [],
   "source": [
    "#Using if else logic to create variable\n",
    "df['TEST_VAR'] = [\n",
    "                  'THIS' if x == 200607 else\n",
    "                  'NOT THIS' if x == 200608 else\n",
    "                  'THAT' if x == 200609 else 'NONE'\n",
    "                  for x in df['SHOP_WEEK']                  \n",
    "                  ]\n",
    "df['TEST_VAR'].unique()"
   ]
  },
  {
   "cell_type": "markdown",
   "metadata": {},
   "source": [
    "##### dropping duplicates and performing aggregates"
   ]
  },
  {
   "cell_type": "code",
   "execution_count": null,
   "metadata": {
    "collapsed": false
   },
   "outputs": [],
   "source": [
    "# pd.DataFrame(df[['CUST_CODE','SHOP_WEEK']].drop_duplicates()).groupby('SHOP_WEEK').count()\n",
    "pd.DataFrame(df.drop_duplicates()).groupby('SHOP_WEEK').sum()['SPEND']"
   ]
  },
  {
   "cell_type": "code",
   "execution_count": null,
   "metadata": {
    "collapsed": false,
    "scrolled": true
   },
   "outputs": [],
   "source": [
    "df.head(10)"
   ]
  },
  {
   "cell_type": "code",
   "execution_count": null,
   "metadata": {
    "collapsed": true
   },
   "outputs": [],
   "source": []
  },
  {
   "cell_type": "code",
   "execution_count": null,
   "metadata": {
    "collapsed": false
   },
   "outputs": [],
   "source": []
  },
  {
   "cell_type": "markdown",
   "metadata": {},
   "source": [
    "# Working SFrame operations from here"
   ]
  },
  {
   "cell_type": "markdown",
   "metadata": {},
   "source": [
    "### Sframes are out-of-core dataframes. \n",
    "\n",
    "#### What does that means?\n",
    "It means that one can store any size of data in Sframe until they run out of memory as well as disk space.\n",
    "\n",
    "##### Currently, SFrame can be created from the following data formats:\n",
    "\n",
    "    csv file (comma separated value)\n",
    "    sframe directory archive (A directory where an sframe was saved previously)\n",
    "    general text file (with csv parsing options, See read_csv())\n",
    "    a Python dictionary\n",
    "    pandas.DataFrame\n",
    "    JSON\n",
    "    Apache Avro\n",
    "    PySpark RDD\n",
    "\n",
    "##### and from the following sources:\n",
    "\n",
    "    your local file system\n",
    "    the GraphLab Server’s file system\n",
    "    HDFS\n",
    "    Amazon S3\n",
    "    HTTP(S)."
   ]
  },
  {
   "cell_type": "code",
   "execution_count": 91,
   "metadata": {
    "collapsed": false
   },
   "outputs": [],
   "source": [
    "import sframe as sf\n",
    "from sframe import SFrame"
   ]
  },
  {
   "cell_type": "code",
   "execution_count": 92,
   "metadata": {
    "collapsed": false
   },
   "outputs": [
    {
     "name": "stdout",
     "output_type": "stream",
     "text": [
      "['/nfs/science/public/tool-eval/sframe/puneett/transactions_200607.csv', '/nfs/science/public/tool-eval/sframe/puneett/transactions_200608.csv', '/nfs/science/public/tool-eval/sframe/puneett/transactions_200609.csv', '/nfs/science/public/tool-eval/sframe/puneett/transactions_200610.csv', '/nfs/science/public/tool-eval/sframe/puneett/transactions_200611.csv', '/nfs/science/public/tool-eval/sframe/puneett/transactions_200612.csv', '/nfs/science/public/tool-eval/sframe/puneett/transactions_200613.csv', '/nfs/science/public/tool-eval/sframe/puneett/transactions_200614.csv', '/nfs/science/public/tool-eval/sframe/puneett/transactions_200615.csv', '/nfs/science/public/tool-eval/sframe/puneett/transactions_200616.csv', '/nfs/science/public/tool-eval/sframe/puneett/transactions_200617.csv', '/nfs/science/public/tool-eval/sframe/puneett/transactions_200618.csv', '/nfs/science/public/tool-eval/sframe/puneett/transactions_200619.csv']\n"
     ]
    },
    {
     "data": {
      "text/html": [
       "<pre>Finished parsing file /nfs/science/public/tool-eval/sframe/puneett/transactions_200607.csv</pre>"
      ],
      "text/plain": [
       "Finished parsing file /nfs/science/public/tool-eval/sframe/puneett/transactions_200607.csv"
      ]
     },
     "metadata": {},
     "output_type": "display_data"
    },
    {
     "data": {
      "text/html": [
       "<pre>Parsing completed. Parsed 100 lines in 2.0831 secs.</pre>"
      ],
      "text/plain": [
       "Parsing completed. Parsed 100 lines in 2.0831 secs."
      ]
     },
     "metadata": {},
     "output_type": "display_data"
    },
    {
     "name": "stdout",
     "output_type": "stream",
     "text": [
      "------------------------------------------------------\n",
      "Inferred types from first 100 line(s) of file as \n",
      "column_type_hints=[int,int,int,int,int,float,str,str,str,str,str,str,str,str,int,str,str,str,str,str,str,str]\n",
      "If parsing fails due to incorrect types, you can correct\n",
      "the inferred type list above and pass it to read_csv in\n",
      "the column_type_hints argument\n",
      "------------------------------------------------------\n"
     ]
    },
    {
     "data": {
      "text/html": [
       "<pre>Read 368617 lines. Lines per second: 173060</pre>"
      ],
      "text/plain": [
       "Read 368617 lines. Lines per second: 173060"
      ]
     },
     "metadata": {},
     "output_type": "display_data"
    },
    {
     "data": {
      "text/html": [
       "<pre>Read 1473313 lines. Lines per second: 161536</pre>"
      ],
      "text/plain": [
       "Read 1473313 lines. Lines per second: 161536"
      ]
     },
     "metadata": {},
     "output_type": "display_data"
    },
    {
     "data": {
      "text/html": [
       "<pre>Finished parsing file /nfs/science/public/tool-eval/sframe/puneett/transactions_200607.csv</pre>"
      ],
      "text/plain": [
       "Finished parsing file /nfs/science/public/tool-eval/sframe/puneett/transactions_200607.csv"
      ]
     },
     "metadata": {},
     "output_type": "display_data"
    },
    {
     "data": {
      "text/html": [
       "<pre>Parsing completed. Parsed 2481430 lines in 15.84 secs.</pre>"
      ],
      "text/plain": [
       "Parsing completed. Parsed 2481430 lines in 15.84 secs."
      ]
     },
     "metadata": {},
     "output_type": "display_data"
    },
    {
     "data": {
      "text/html": [
       "<pre>Finished parsing file /nfs/science/public/tool-eval/sframe/puneett/transactions_200608.csv</pre>"
      ],
      "text/plain": [
       "Finished parsing file /nfs/science/public/tool-eval/sframe/puneett/transactions_200608.csv"
      ]
     },
     "metadata": {},
     "output_type": "display_data"
    },
    {
     "data": {
      "text/html": [
       "<pre>Parsing completed. Parsed 100 lines in 1.7622 secs.</pre>"
      ],
      "text/plain": [
       "Parsing completed. Parsed 100 lines in 1.7622 secs."
      ]
     },
     "metadata": {},
     "output_type": "display_data"
    },
    {
     "name": "stdout",
     "output_type": "stream",
     "text": [
      "------------------------------------------------------\n",
      "Inferred types from first 100 line(s) of file as \n",
      "column_type_hints=[int,int,int,int,int,float,str,str,str,str,str,str,str,str,int,str,str,str,str,str,str,str]\n",
      "If parsing fails due to incorrect types, you can correct\n",
      "the inferred type list above and pass it to read_csv in\n",
      "the column_type_hints argument\n",
      "------------------------------------------------------\n"
     ]
    },
    {
     "data": {
      "text/html": [
       "<pre>Read 368514 lines. Lines per second: 223449</pre>"
      ],
      "text/plain": [
       "Read 368514 lines. Lines per second: 223449"
      ]
     },
     "metadata": {},
     "output_type": "display_data"
    },
    {
     "data": {
      "text/html": [
       "<pre>Read 1473624 lines. Lines per second: 165323</pre>"
      ],
      "text/plain": [
       "Read 1473624 lines. Lines per second: 165323"
      ]
     },
     "metadata": {},
     "output_type": "display_data"
    },
    {
     "data": {
      "text/html": [
       "<pre>Read 2209954 lines. Lines per second: 153996</pre>"
      ],
      "text/plain": [
       "Read 2209954 lines. Lines per second: 153996"
      ]
     },
     "metadata": {},
     "output_type": "display_data"
    },
    {
     "data": {
      "text/html": [
       "<pre>Finished parsing file /nfs/science/public/tool-eval/sframe/puneett/transactions_200608.csv</pre>"
      ],
      "text/plain": [
       "Finished parsing file /nfs/science/public/tool-eval/sframe/puneett/transactions_200608.csv"
      ]
     },
     "metadata": {},
     "output_type": "display_data"
    },
    {
     "data": {
      "text/html": [
       "<pre>Parsing completed. Parsed 2543145 lines in 16.4714 secs.</pre>"
      ],
      "text/plain": [
       "Parsing completed. Parsed 2543145 lines in 16.4714 secs."
      ]
     },
     "metadata": {},
     "output_type": "display_data"
    },
    {
     "data": {
      "text/html": [
       "<pre>Finished parsing file /nfs/science/public/tool-eval/sframe/puneett/transactions_200609.csv</pre>"
      ],
      "text/plain": [
       "Finished parsing file /nfs/science/public/tool-eval/sframe/puneett/transactions_200609.csv"
      ]
     },
     "metadata": {},
     "output_type": "display_data"
    },
    {
     "data": {
      "text/html": [
       "<pre>Parsing completed. Parsed 100 lines in 1.75526 secs.</pre>"
      ],
      "text/plain": [
       "Parsing completed. Parsed 100 lines in 1.75526 secs."
      ]
     },
     "metadata": {},
     "output_type": "display_data"
    },
    {
     "name": "stdout",
     "output_type": "stream",
     "text": [
      "------------------------------------------------------\n",
      "Inferred types from first 100 line(s) of file as \n",
      "column_type_hints=[int,int,int,int,int,float,str,str,str,str,str,str,str,str,int,str,str,str,str,str,str,str]\n",
      "If parsing fails due to incorrect types, you can correct\n",
      "the inferred type list above and pass it to read_csv in\n",
      "the column_type_hints argument\n",
      "------------------------------------------------------\n"
     ]
    },
    {
     "data": {
      "text/html": [
       "<pre>Read 368275 lines. Lines per second: 221533</pre>"
      ],
      "text/plain": [
       "Read 368275 lines. Lines per second: 221533"
      ]
     },
     "metadata": {},
     "output_type": "display_data"
    },
    {
     "data": {
      "text/html": [
       "<pre>Read 1472865 lines. Lines per second: 173463</pre>"
      ],
      "text/plain": [
       "Read 1472865 lines. Lines per second: 173463"
      ]
     },
     "metadata": {},
     "output_type": "display_data"
    },
    {
     "data": {
      "text/html": [
       "<pre>Read 2209113 lines. Lines per second: 160486</pre>"
      ],
      "text/plain": [
       "Read 2209113 lines. Lines per second: 160486"
      ]
     },
     "metadata": {},
     "output_type": "display_data"
    },
    {
     "data": {
      "text/html": [
       "<pre>Finished parsing file /nfs/science/public/tool-eval/sframe/puneett/transactions_200609.csv</pre>"
      ],
      "text/plain": [
       "Finished parsing file /nfs/science/public/tool-eval/sframe/puneett/transactions_200609.csv"
      ]
     },
     "metadata": {},
     "output_type": "display_data"
    },
    {
     "data": {
      "text/html": [
       "<pre>Parsing completed. Parsed 2633216 lines in 16.4819 secs.</pre>"
      ],
      "text/plain": [
       "Parsing completed. Parsed 2633216 lines in 16.4819 secs."
      ]
     },
     "metadata": {},
     "output_type": "display_data"
    },
    {
     "data": {
      "text/html": [
       "<pre>Finished parsing file /nfs/science/public/tool-eval/sframe/puneett/transactions_200610.csv</pre>"
      ],
      "text/plain": [
       "Finished parsing file /nfs/science/public/tool-eval/sframe/puneett/transactions_200610.csv"
      ]
     },
     "metadata": {},
     "output_type": "display_data"
    },
    {
     "data": {
      "text/html": [
       "<pre>Parsing completed. Parsed 100 lines in 1.81463 secs.</pre>"
      ],
      "text/plain": [
       "Parsing completed. Parsed 100 lines in 1.81463 secs."
      ]
     },
     "metadata": {},
     "output_type": "display_data"
    },
    {
     "name": "stdout",
     "output_type": "stream",
     "text": [
      "------------------------------------------------------\n",
      "Inferred types from first 100 line(s) of file as \n",
      "column_type_hints=[int,int,int,int,int,float,str,str,str,str,str,str,str,str,int,str,str,str,str,str,str,str]\n",
      "If parsing fails due to incorrect types, you can correct\n",
      "the inferred type list above and pass it to read_csv in\n",
      "the column_type_hints argument\n",
      "------------------------------------------------------\n"
     ]
    },
    {
     "data": {
      "text/html": [
       "<pre>Read 368627 lines. Lines per second: 200510</pre>"
      ],
      "text/plain": [
       "Read 368627 lines. Lines per second: 200510"
      ]
     },
     "metadata": {},
     "output_type": "display_data"
    },
    {
     "data": {
      "text/html": [
       "<pre>Read 1473708 lines. Lines per second: 160558</pre>"
      ],
      "text/plain": [
       "Read 1473708 lines. Lines per second: 160558"
      ]
     },
     "metadata": {},
     "output_type": "display_data"
    },
    {
     "data": {
      "text/html": [
       "<pre>Read 2210355 lines. Lines per second: 149082</pre>"
      ],
      "text/plain": [
       "Read 2210355 lines. Lines per second: 149082"
      ]
     },
     "metadata": {},
     "output_type": "display_data"
    },
    {
     "data": {
      "text/html": [
       "<pre>Finished parsing file /nfs/science/public/tool-eval/sframe/puneett/transactions_200610.csv</pre>"
      ],
      "text/plain": [
       "Finished parsing file /nfs/science/public/tool-eval/sframe/puneett/transactions_200610.csv"
      ]
     },
     "metadata": {},
     "output_type": "display_data"
    },
    {
     "data": {
      "text/html": [
       "<pre>Parsing completed. Parsed 2609027 lines in 17.0755 secs.</pre>"
      ],
      "text/plain": [
       "Parsing completed. Parsed 2609027 lines in 17.0755 secs."
      ]
     },
     "metadata": {},
     "output_type": "display_data"
    },
    {
     "data": {
      "text/html": [
       "<pre>Finished parsing file /nfs/science/public/tool-eval/sframe/puneett/transactions_200611.csv</pre>"
      ],
      "text/plain": [
       "Finished parsing file /nfs/science/public/tool-eval/sframe/puneett/transactions_200611.csv"
      ]
     },
     "metadata": {},
     "output_type": "display_data"
    },
    {
     "data": {
      "text/html": [
       "<pre>Parsing completed. Parsed 100 lines in 1.3016 secs.</pre>"
      ],
      "text/plain": [
       "Parsing completed. Parsed 100 lines in 1.3016 secs."
      ]
     },
     "metadata": {},
     "output_type": "display_data"
    },
    {
     "name": "stdout",
     "output_type": "stream",
     "text": [
      "------------------------------------------------------\n",
      "Inferred types from first 100 line(s) of file as \n",
      "column_type_hints=[int,int,int,int,int,float,str,str,str,str,str,str,str,str,int,str,str,str,str,str,str,str]\n",
      "If parsing fails due to incorrect types, you can correct\n",
      "the inferred type list above and pass it to read_csv in\n",
      "the column_type_hints argument\n",
      "------------------------------------------------------\n"
     ]
    },
    {
     "data": {
      "text/html": [
       "<pre>Read 368526 lines. Lines per second: 203473</pre>"
      ],
      "text/plain": [
       "Read 368526 lines. Lines per second: 203473"
      ]
     },
     "metadata": {},
     "output_type": "display_data"
    },
    {
     "data": {
      "text/html": [
       "<pre>Read 1473482 lines. Lines per second: 155109</pre>"
      ],
      "text/plain": [
       "Read 1473482 lines. Lines per second: 155109"
      ]
     },
     "metadata": {},
     "output_type": "display_data"
    },
    {
     "data": {
      "text/html": [
       "<pre>Read 2210008 lines. Lines per second: 147534</pre>"
      ],
      "text/plain": [
       "Read 2210008 lines. Lines per second: 147534"
      ]
     },
     "metadata": {},
     "output_type": "display_data"
    },
    {
     "data": {
      "text/html": [
       "<pre>Finished parsing file /nfs/science/public/tool-eval/sframe/puneett/transactions_200611.csv</pre>"
      ],
      "text/plain": [
       "Finished parsing file /nfs/science/public/tool-eval/sframe/puneett/transactions_200611.csv"
      ]
     },
     "metadata": {},
     "output_type": "display_data"
    },
    {
     "data": {
      "text/html": [
       "<pre>Parsing completed. Parsed 2538463 lines in 17.206 secs.</pre>"
      ],
      "text/plain": [
       "Parsing completed. Parsed 2538463 lines in 17.206 secs."
      ]
     },
     "metadata": {},
     "output_type": "display_data"
    },
    {
     "data": {
      "text/html": [
       "<pre>Finished parsing file /nfs/science/public/tool-eval/sframe/puneett/transactions_200612.csv</pre>"
      ],
      "text/plain": [
       "Finished parsing file /nfs/science/public/tool-eval/sframe/puneett/transactions_200612.csv"
      ]
     },
     "metadata": {},
     "output_type": "display_data"
    },
    {
     "data": {
      "text/html": [
       "<pre>Parsing completed. Parsed 100 lines in 1.32603 secs.</pre>"
      ],
      "text/plain": [
       "Parsing completed. Parsed 100 lines in 1.32603 secs."
      ]
     },
     "metadata": {},
     "output_type": "display_data"
    },
    {
     "name": "stdout",
     "output_type": "stream",
     "text": [
      "------------------------------------------------------\n",
      "Inferred types from first 100 line(s) of file as \n",
      "column_type_hints=[int,int,int,int,int,float,str,str,str,str,str,str,str,str,int,str,str,str,str,str,str,str]\n",
      "If parsing fails due to incorrect types, you can correct\n",
      "the inferred type list above and pass it to read_csv in\n",
      "the column_type_hints argument\n",
      "------------------------------------------------------\n"
     ]
    },
    {
     "data": {
      "text/html": [
       "<pre>Read 368199 lines. Lines per second: 194922</pre>"
      ],
      "text/plain": [
       "Read 368199 lines. Lines per second: 194922"
      ]
     },
     "metadata": {},
     "output_type": "display_data"
    },
    {
     "data": {
      "text/html": [
       "<pre>Read 1104414 lines. Lines per second: 153531</pre>"
      ],
      "text/plain": [
       "Read 1104414 lines. Lines per second: 153531"
      ]
     },
     "metadata": {},
     "output_type": "display_data"
    },
    {
     "data": {
      "text/html": [
       "<pre>Read 1840417 lines. Lines per second: 148278</pre>"
      ],
      "text/plain": [
       "Read 1840417 lines. Lines per second: 148278"
      ]
     },
     "metadata": {},
     "output_type": "display_data"
    },
    {
     "data": {
      "text/html": [
       "<pre>Read 2576458 lines. Lines per second: 142218</pre>"
      ],
      "text/plain": [
       "Read 2576458 lines. Lines per second: 142218"
      ]
     },
     "metadata": {},
     "output_type": "display_data"
    },
    {
     "data": {
      "text/html": [
       "<pre>Finished parsing file /nfs/science/public/tool-eval/sframe/puneett/transactions_200612.csv</pre>"
      ],
      "text/plain": [
       "Finished parsing file /nfs/science/public/tool-eval/sframe/puneett/transactions_200612.csv"
      ]
     },
     "metadata": {},
     "output_type": "display_data"
    },
    {
     "data": {
      "text/html": [
       "<pre>Parsing completed. Parsed 2596628 lines in 18.2619 secs.</pre>"
      ],
      "text/plain": [
       "Parsing completed. Parsed 2596628 lines in 18.2619 secs."
      ]
     },
     "metadata": {},
     "output_type": "display_data"
    },
    {
     "data": {
      "text/html": [
       "<pre>Finished parsing file /nfs/science/public/tool-eval/sframe/puneett/transactions_200613.csv</pre>"
      ],
      "text/plain": [
       "Finished parsing file /nfs/science/public/tool-eval/sframe/puneett/transactions_200613.csv"
      ]
     },
     "metadata": {},
     "output_type": "display_data"
    },
    {
     "data": {
      "text/html": [
       "<pre>Parsing completed. Parsed 100 lines in 1.35743 secs.</pre>"
      ],
      "text/plain": [
       "Parsing completed. Parsed 100 lines in 1.35743 secs."
      ]
     },
     "metadata": {},
     "output_type": "display_data"
    },
    {
     "name": "stdout",
     "output_type": "stream",
     "text": [
      "------------------------------------------------------\n",
      "Inferred types from first 100 line(s) of file as \n",
      "column_type_hints=[int,int,int,int,int,float,str,str,str,str,str,str,str,str,int,str,str,str,str,str,str,str]\n",
      "If parsing fails due to incorrect types, you can correct\n",
      "the inferred type list above and pass it to read_csv in\n",
      "the column_type_hints argument\n",
      "------------------------------------------------------\n"
     ]
    },
    {
     "data": {
      "text/html": [
       "<pre>Read 368132 lines. Lines per second: 220610</pre>"
      ],
      "text/plain": [
       "Read 368132 lines. Lines per second: 220610"
      ]
     },
     "metadata": {},
     "output_type": "display_data"
    },
    {
     "data": {
      "text/html": [
       "<pre>Read 1471325 lines. Lines per second: 164716</pre>"
      ],
      "text/plain": [
       "Read 1471325 lines. Lines per second: 164716"
      ]
     },
     "metadata": {},
     "output_type": "display_data"
    },
    {
     "data": {
      "text/html": [
       "<pre>Read 2206942 lines. Lines per second: 151315</pre>"
      ],
      "text/plain": [
       "Read 2206942 lines. Lines per second: 151315"
      ]
     },
     "metadata": {},
     "output_type": "display_data"
    },
    {
     "data": {
      "text/html": [
       "<pre>Finished parsing file /nfs/science/public/tool-eval/sframe/puneett/transactions_200613.csv</pre>"
      ],
      "text/plain": [
       "Finished parsing file /nfs/science/public/tool-eval/sframe/puneett/transactions_200613.csv"
      ]
     },
     "metadata": {},
     "output_type": "display_data"
    },
    {
     "data": {
      "text/html": [
       "<pre>Parsing completed. Parsed 2615378 lines in 17.1288 secs.</pre>"
      ],
      "text/plain": [
       "Parsing completed. Parsed 2615378 lines in 17.1288 secs."
      ]
     },
     "metadata": {},
     "output_type": "display_data"
    },
    {
     "data": {
      "text/html": [
       "<pre>Finished parsing file /nfs/science/public/tool-eval/sframe/puneett/transactions_200614.csv</pre>"
      ],
      "text/plain": [
       "Finished parsing file /nfs/science/public/tool-eval/sframe/puneett/transactions_200614.csv"
      ]
     },
     "metadata": {},
     "output_type": "display_data"
    },
    {
     "data": {
      "text/html": [
       "<pre>Parsing completed. Parsed 100 lines in 1.33388 secs.</pre>"
      ],
      "text/plain": [
       "Parsing completed. Parsed 100 lines in 1.33388 secs."
      ]
     },
     "metadata": {},
     "output_type": "display_data"
    },
    {
     "name": "stdout",
     "output_type": "stream",
     "text": [
      "------------------------------------------------------\n",
      "Inferred types from first 100 line(s) of file as \n",
      "column_type_hints=[int,int,int,int,int,float,str,str,str,str,str,str,str,str,int,str,str,str,str,str,str,str]\n",
      "If parsing fails due to incorrect types, you can correct\n",
      "the inferred type list above and pass it to read_csv in\n",
      "the column_type_hints argument\n",
      "------------------------------------------------------\n"
     ]
    },
    {
     "data": {
      "text/html": [
       "<pre>Read 368606 lines. Lines per second: 207134</pre>"
      ],
      "text/plain": [
       "Read 368606 lines. Lines per second: 207134"
      ]
     },
     "metadata": {},
     "output_type": "display_data"
    },
    {
     "data": {
      "text/html": [
       "<pre>Read 1473359 lines. Lines per second: 159488</pre>"
      ],
      "text/plain": [
       "Read 1473359 lines. Lines per second: 159488"
      ]
     },
     "metadata": {},
     "output_type": "display_data"
    },
    {
     "data": {
      "text/html": [
       "<pre>Read 2210047 lines. Lines per second: 148267</pre>"
      ],
      "text/plain": [
       "Read 2210047 lines. Lines per second: 148267"
      ]
     },
     "metadata": {},
     "output_type": "display_data"
    },
    {
     "data": {
      "text/html": [
       "<pre>Finished parsing file /nfs/science/public/tool-eval/sframe/puneett/transactions_200614.csv</pre>"
      ],
      "text/plain": [
       "Finished parsing file /nfs/science/public/tool-eval/sframe/puneett/transactions_200614.csv"
      ]
     },
     "metadata": {},
     "output_type": "display_data"
    },
    {
     "data": {
      "text/html": [
       "<pre>Parsing completed. Parsed 2624121 lines in 17.2975 secs.</pre>"
      ],
      "text/plain": [
       "Parsing completed. Parsed 2624121 lines in 17.2975 secs."
      ]
     },
     "metadata": {},
     "output_type": "display_data"
    },
    {
     "data": {
      "text/html": [
       "<pre>Finished parsing file /nfs/science/public/tool-eval/sframe/puneett/transactions_200615.csv</pre>"
      ],
      "text/plain": [
       "Finished parsing file /nfs/science/public/tool-eval/sframe/puneett/transactions_200615.csv"
      ]
     },
     "metadata": {},
     "output_type": "display_data"
    },
    {
     "data": {
      "text/html": [
       "<pre>Parsing completed. Parsed 100 lines in 1.33162 secs.</pre>"
      ],
      "text/plain": [
       "Parsing completed. Parsed 100 lines in 1.33162 secs."
      ]
     },
     "metadata": {},
     "output_type": "display_data"
    },
    {
     "name": "stdout",
     "output_type": "stream",
     "text": [
      "------------------------------------------------------\n",
      "Inferred types from first 100 line(s) of file as \n",
      "column_type_hints=[int,int,int,int,int,float,str,str,str,str,str,str,str,str,int,str,str,str,str,str,str,str]\n",
      "If parsing fails due to incorrect types, you can correct\n",
      "the inferred type list above and pass it to read_csv in\n",
      "the column_type_hints argument\n",
      "------------------------------------------------------\n"
     ]
    },
    {
     "data": {
      "text/html": [
       "<pre>Read 368642 lines. Lines per second: 223756</pre>"
      ],
      "text/plain": [
       "Read 368642 lines. Lines per second: 223756"
      ]
     },
     "metadata": {},
     "output_type": "display_data"
    },
    {
     "data": {
      "text/html": [
       "<pre>Read 1473536 lines. Lines per second: 156361</pre>"
      ],
      "text/plain": [
       "Read 1473536 lines. Lines per second: 156361"
      ]
     },
     "metadata": {},
     "output_type": "display_data"
    },
    {
     "data": {
      "text/html": [
       "<pre>Read 2210197 lines. Lines per second: 148184</pre>"
      ],
      "text/plain": [
       "Read 2210197 lines. Lines per second: 148184"
      ]
     },
     "metadata": {},
     "output_type": "display_data"
    },
    {
     "data": {
      "text/html": [
       "<pre>Finished parsing file /nfs/science/public/tool-eval/sframe/puneett/transactions_200615.csv</pre>"
      ],
      "text/plain": [
       "Finished parsing file /nfs/science/public/tool-eval/sframe/puneett/transactions_200615.csv"
      ]
     },
     "metadata": {},
     "output_type": "display_data"
    },
    {
     "data": {
      "text/html": [
       "<pre>Parsing completed. Parsed 2687882 lines in 18.1397 secs.</pre>"
      ],
      "text/plain": [
       "Parsing completed. Parsed 2687882 lines in 18.1397 secs."
      ]
     },
     "metadata": {},
     "output_type": "display_data"
    },
    {
     "data": {
      "text/html": [
       "<pre>Finished parsing file /nfs/science/public/tool-eval/sframe/puneett/transactions_200616.csv</pre>"
      ],
      "text/plain": [
       "Finished parsing file /nfs/science/public/tool-eval/sframe/puneett/transactions_200616.csv"
      ]
     },
     "metadata": {},
     "output_type": "display_data"
    },
    {
     "data": {
      "text/html": [
       "<pre>Parsing completed. Parsed 100 lines in 1.32114 secs.</pre>"
      ],
      "text/plain": [
       "Parsing completed. Parsed 100 lines in 1.32114 secs."
      ]
     },
     "metadata": {},
     "output_type": "display_data"
    },
    {
     "name": "stdout",
     "output_type": "stream",
     "text": [
      "------------------------------------------------------\n",
      "Inferred types from first 100 line(s) of file as \n",
      "column_type_hints=[int,int,int,int,int,float,str,str,str,str,str,str,str,str,int,str,str,str,str,str,str,str]\n",
      "If parsing fails due to incorrect types, you can correct\n",
      "the inferred type list above and pass it to read_csv in\n",
      "the column_type_hints argument\n",
      "------------------------------------------------------\n"
     ]
    },
    {
     "data": {
      "text/html": [
       "<pre>Read 368586 lines. Lines per second: 219968</pre>"
      ],
      "text/plain": [
       "Read 368586 lines. Lines per second: 219968"
      ]
     },
     "metadata": {},
     "output_type": "display_data"
    },
    {
     "data": {
      "text/html": [
       "<pre>Read 1105381 lines. Lines per second: 164073</pre>"
      ],
      "text/plain": [
       "Read 1105381 lines. Lines per second: 164073"
      ]
     },
     "metadata": {},
     "output_type": "display_data"
    },
    {
     "data": {
      "text/html": [
       "<pre>Read 1842012 lines. Lines per second: 151390</pre>"
      ],
      "text/plain": [
       "Read 1842012 lines. Lines per second: 151390"
      ]
     },
     "metadata": {},
     "output_type": "display_data"
    },
    {
     "data": {
      "text/html": [
       "<pre>Read 2578420 lines. Lines per second: 147490</pre>"
      ],
      "text/plain": [
       "Read 2578420 lines. Lines per second: 147490"
      ]
     },
     "metadata": {},
     "output_type": "display_data"
    },
    {
     "data": {
      "text/html": [
       "<pre>Finished parsing file /nfs/science/public/tool-eval/sframe/puneett/transactions_200616.csv</pre>"
      ],
      "text/plain": [
       "Finished parsing file /nfs/science/public/tool-eval/sframe/puneett/transactions_200616.csv"
      ]
     },
     "metadata": {},
     "output_type": "display_data"
    },
    {
     "data": {
      "text/html": [
       "<pre>Parsing completed. Parsed 2626602 lines in 17.7972 secs.</pre>"
      ],
      "text/plain": [
       "Parsing completed. Parsed 2626602 lines in 17.7972 secs."
      ]
     },
     "metadata": {},
     "output_type": "display_data"
    },
    {
     "data": {
      "text/html": [
       "<pre>Finished parsing file /nfs/science/public/tool-eval/sframe/puneett/transactions_200617.csv</pre>"
      ],
      "text/plain": [
       "Finished parsing file /nfs/science/public/tool-eval/sframe/puneett/transactions_200617.csv"
      ]
     },
     "metadata": {},
     "output_type": "display_data"
    },
    {
     "data": {
      "text/html": [
       "<pre>Parsing completed. Parsed 100 lines in 1.34676 secs.</pre>"
      ],
      "text/plain": [
       "Parsing completed. Parsed 100 lines in 1.34676 secs."
      ]
     },
     "metadata": {},
     "output_type": "display_data"
    },
    {
     "name": "stdout",
     "output_type": "stream",
     "text": [
      "------------------------------------------------------\n",
      "Inferred types from first 100 line(s) of file as \n",
      "column_type_hints=[int,int,int,int,int,float,str,str,str,str,str,str,str,str,int,str,str,str,str,str,str,str]\n",
      "If parsing fails due to incorrect types, you can correct\n",
      "the inferred type list above and pass it to read_csv in\n",
      "the column_type_hints argument\n",
      "------------------------------------------------------\n"
     ]
    },
    {
     "data": {
      "text/html": [
       "<pre>Read 368590 lines. Lines per second: 207632</pre>"
      ],
      "text/plain": [
       "Read 368590 lines. Lines per second: 207632"
      ]
     },
     "metadata": {},
     "output_type": "display_data"
    },
    {
     "data": {
      "text/html": [
       "<pre>Read 1473577 lines. Lines per second: 159223</pre>"
      ],
      "text/plain": [
       "Read 1473577 lines. Lines per second: 159223"
      ]
     },
     "metadata": {},
     "output_type": "display_data"
    },
    {
     "data": {
      "text/html": [
       "<pre>Read 2210097 lines. Lines per second: 148082</pre>"
      ],
      "text/plain": [
       "Read 2210097 lines. Lines per second: 148082"
      ]
     },
     "metadata": {},
     "output_type": "display_data"
    },
    {
     "data": {
      "text/html": [
       "<pre>Finished parsing file /nfs/science/public/tool-eval/sframe/puneett/transactions_200617.csv</pre>"
      ],
      "text/plain": [
       "Finished parsing file /nfs/science/public/tool-eval/sframe/puneett/transactions_200617.csv"
      ]
     },
     "metadata": {},
     "output_type": "display_data"
    },
    {
     "data": {
      "text/html": [
       "<pre>Parsing completed. Parsed 2598869 lines in 17.238 secs.</pre>"
      ],
      "text/plain": [
       "Parsing completed. Parsed 2598869 lines in 17.238 secs."
      ]
     },
     "metadata": {},
     "output_type": "display_data"
    },
    {
     "data": {
      "text/html": [
       "<pre>Finished parsing file /nfs/science/public/tool-eval/sframe/puneett/transactions_200618.csv</pre>"
      ],
      "text/plain": [
       "Finished parsing file /nfs/science/public/tool-eval/sframe/puneett/transactions_200618.csv"
      ]
     },
     "metadata": {},
     "output_type": "display_data"
    },
    {
     "data": {
      "text/html": [
       "<pre>Parsing completed. Parsed 100 lines in 1.33245 secs.</pre>"
      ],
      "text/plain": [
       "Parsing completed. Parsed 100 lines in 1.33245 secs."
      ]
     },
     "metadata": {},
     "output_type": "display_data"
    },
    {
     "name": "stdout",
     "output_type": "stream",
     "text": [
      "------------------------------------------------------\n",
      "Inferred types from first 100 line(s) of file as \n",
      "column_type_hints=[int,int,int,int,int,float,str,str,str,str,str,str,str,str,int,str,str,str,str,str,str,str]\n",
      "If parsing fails due to incorrect types, you can correct\n",
      "the inferred type list above and pass it to read_csv in\n",
      "the column_type_hints argument\n",
      "------------------------------------------------------\n"
     ]
    },
    {
     "data": {
      "text/html": [
       "<pre>Read 368605 lines. Lines per second: 214474</pre>"
      ],
      "text/plain": [
       "Read 368605 lines. Lines per second: 214474"
      ]
     },
     "metadata": {},
     "output_type": "display_data"
    },
    {
     "data": {
      "text/html": [
       "<pre>Read 1105460 lines. Lines per second: 166583</pre>"
      ],
      "text/plain": [
       "Read 1105460 lines. Lines per second: 166583"
      ]
     },
     "metadata": {},
     "output_type": "display_data"
    },
    {
     "data": {
      "text/html": [
       "<pre>Read 1841835 lines. Lines per second: 151900</pre>"
      ],
      "text/plain": [
       "Read 1841835 lines. Lines per second: 151900"
      ]
     },
     "metadata": {},
     "output_type": "display_data"
    },
    {
     "data": {
      "text/html": [
       "<pre>Read 2578620 lines. Lines per second: 149769</pre>"
      ],
      "text/plain": [
       "Read 2578620 lines. Lines per second: 149769"
      ]
     },
     "metadata": {},
     "output_type": "display_data"
    },
    {
     "data": {
      "text/html": [
       "<pre>Finished parsing file /nfs/science/public/tool-eval/sframe/puneett/transactions_200618.csv</pre>"
      ],
      "text/plain": [
       "Finished parsing file /nfs/science/public/tool-eval/sframe/puneett/transactions_200618.csv"
      ]
     },
     "metadata": {},
     "output_type": "display_data"
    },
    {
     "data": {
      "text/html": [
       "<pre>Parsing completed. Parsed 2690395 lines in 18.0321 secs.</pre>"
      ],
      "text/plain": [
       "Parsing completed. Parsed 2690395 lines in 18.0321 secs."
      ]
     },
     "metadata": {},
     "output_type": "display_data"
    },
    {
     "data": {
      "text/html": [
       "<pre>Finished parsing file /nfs/science/public/tool-eval/sframe/puneett/transactions_200619.csv</pre>"
      ],
      "text/plain": [
       "Finished parsing file /nfs/science/public/tool-eval/sframe/puneett/transactions_200619.csv"
      ]
     },
     "metadata": {},
     "output_type": "display_data"
    },
    {
     "data": {
      "text/html": [
       "<pre>Parsing completed. Parsed 100 lines in 1.35462 secs.</pre>"
      ],
      "text/plain": [
       "Parsing completed. Parsed 100 lines in 1.35462 secs."
      ]
     },
     "metadata": {},
     "output_type": "display_data"
    },
    {
     "name": "stdout",
     "output_type": "stream",
     "text": [
      "------------------------------------------------------\n",
      "Inferred types from first 100 line(s) of file as \n",
      "column_type_hints=[int,int,int,int,int,float,str,str,str,str,str,str,str,str,int,str,str,str,str,str,str,str]\n",
      "If parsing fails due to incorrect types, you can correct\n",
      "the inferred type list above and pass it to read_csv in\n",
      "the column_type_hints argument\n",
      "------------------------------------------------------\n"
     ]
    },
    {
     "data": {
      "text/html": [
       "<pre>Read 368833 lines. Lines per second: 232367</pre>"
      ],
      "text/plain": [
       "Read 368833 lines. Lines per second: 232367"
      ]
     },
     "metadata": {},
     "output_type": "display_data"
    },
    {
     "data": {
      "text/html": [
       "<pre>Read 1474573 lines. Lines per second: 159259</pre>"
      ],
      "text/plain": [
       "Read 1474573 lines. Lines per second: 159259"
      ]
     },
     "metadata": {},
     "output_type": "display_data"
    },
    {
     "data": {
      "text/html": [
       "<pre>Read 2211830 lines. Lines per second: 150259</pre>"
      ],
      "text/plain": [
       "Read 2211830 lines. Lines per second: 150259"
      ]
     },
     "metadata": {},
     "output_type": "display_data"
    },
    {
     "data": {
      "text/html": [
       "<pre>Finished parsing file /nfs/science/public/tool-eval/sframe/puneett/transactions_200619.csv</pre>"
      ],
      "text/plain": [
       "Finished parsing file /nfs/science/public/tool-eval/sframe/puneett/transactions_200619.csv"
      ]
     },
     "metadata": {},
     "output_type": "display_data"
    },
    {
     "data": {
      "text/html": [
       "<pre>Parsing completed. Parsed 2605667 lines in 16.9568 secs.</pre>"
      ],
      "text/plain": [
       "Parsing completed. Parsed 2605667 lines in 16.9568 secs."
      ]
     },
     "metadata": {},
     "output_type": "display_data"
    }
   ],
   "source": [
    "# Reading multiple CSVs in SFrames\n",
    "filedir = '/nfs/science/public/tool-eval/sframe/puneett/'\n",
    "filen = ['transactions_200607.csv', 'transactions_200608.csv','transactions_200609.csv','transactions_200610.csv',\n",
    "            'transactions_200611.csv','transactions_200612.csv','transactions_200613.csv','transactions_200614.csv',\n",
    "            'transactions_200615.csv','transactions_200616.csv','transactions_200617.csv','transactions_200618.csv',\n",
    "            'transactions_200619.csv']\n",
    "filename = []\n",
    "for i in filen:\n",
    "    filename.append(filedir+i)\n",
    "print(filename)\n",
    "sf1 = SFrame()\n",
    "# sf1 = sf.append([sf.read_csv(x) for x in filename])\n",
    "for f in filename:\n",
    "    sf1=sf1.append(SFrame.read_csv(f))"
   ]
  },
  {
   "cell_type": "code",
   "execution_count": null,
   "metadata": {
    "collapsed": true
   },
   "outputs": [],
   "source": []
  },
  {
   "cell_type": "code",
   "execution_count": 97,
   "metadata": {
    "collapsed": true
   },
   "outputs": [
    {
     "data": {
      "text/html": [
       "<div style=\"max-height:1000px;max-width:1500px;overflow:auto;\"><table frame=\"box\" rules=\"cols\">\n",
       "    <tr>\n",
       "        <th style=\"padding-left: 1em; padding-right: 1em; text-align: center\">SHOP_WEEK</th>\n",
       "        <th style=\"padding-left: 1em; padding-right: 1em; text-align: center\">SHOP_DATE</th>\n",
       "        <th style=\"padding-left: 1em; padding-right: 1em; text-align: center\">SHOP_WEEKDAY</th>\n",
       "        <th style=\"padding-left: 1em; padding-right: 1em; text-align: center\">SHOP_HOUR</th>\n",
       "        <th style=\"padding-left: 1em; padding-right: 1em; text-align: center\">QUANTITY</th>\n",
       "        <th style=\"padding-left: 1em; padding-right: 1em; text-align: center\">SPEND</th>\n",
       "        <th style=\"padding-left: 1em; padding-right: 1em; text-align: center\">PROD_CODE</th>\n",
       "        <th style=\"padding-left: 1em; padding-right: 1em; text-align: center\">PROD_CODE_10</th>\n",
       "        <th style=\"padding-left: 1em; padding-right: 1em; text-align: center\">PROD_CODE_20</th>\n",
       "    </tr>\n",
       "    <tr>\n",
       "        <td style=\"padding-left: 1em; padding-right: 1em; text-align: center; vertical-align: top\">200607</td>\n",
       "        <td style=\"padding-left: 1em; padding-right: 1em; text-align: center; vertical-align: top\">20060412</td>\n",
       "        <td style=\"padding-left: 1em; padding-right: 1em; text-align: center; vertical-align: top\">4</td>\n",
       "        <td style=\"padding-left: 1em; padding-right: 1em; text-align: center; vertical-align: top\">21</td>\n",
       "        <td style=\"padding-left: 1em; padding-right: 1em; text-align: center; vertical-align: top\">7</td>\n",
       "        <td style=\"padding-left: 1em; padding-right: 1em; text-align: center; vertical-align: top\">3.15</td>\n",
       "        <td style=\"padding-left: 1em; padding-right: 1em; text-align: center; vertical-align: top\">PRD0904230</td>\n",
       "        <td style=\"padding-left: 1em; padding-right: 1em; text-align: center; vertical-align: top\">CL00070</td>\n",
       "        <td style=\"padding-left: 1em; padding-right: 1em; text-align: center; vertical-align: top\">DEP00020</td>\n",
       "    </tr>\n",
       "    <tr>\n",
       "        <td style=\"padding-left: 1em; padding-right: 1em; text-align: center; vertical-align: top\">200607</td>\n",
       "        <td style=\"padding-left: 1em; padding-right: 1em; text-align: center; vertical-align: top\">20060414</td>\n",
       "        <td style=\"padding-left: 1em; padding-right: 1em; text-align: center; vertical-align: top\">6</td>\n",
       "        <td style=\"padding-left: 1em; padding-right: 1em; text-align: center; vertical-align: top\">9</td>\n",
       "        <td style=\"padding-left: 1em; padding-right: 1em; text-align: center; vertical-align: top\">1</td>\n",
       "        <td style=\"padding-left: 1em; padding-right: 1em; text-align: center; vertical-align: top\">0.64</td>\n",
       "        <td style=\"padding-left: 1em; padding-right: 1em; text-align: center; vertical-align: top\">PRD0904223</td>\n",
       "        <td style=\"padding-left: 1em; padding-right: 1em; text-align: center; vertical-align: top\">CL00078</td>\n",
       "        <td style=\"padding-left: 1em; padding-right: 1em; text-align: center; vertical-align: top\">DEP00022</td>\n",
       "    </tr>\n",
       "    <tr>\n",
       "        <td style=\"padding-left: 1em; padding-right: 1em; text-align: center; vertical-align: top\">200607</td>\n",
       "        <td style=\"padding-left: 1em; padding-right: 1em; text-align: center; vertical-align: top\">20060414</td>\n",
       "        <td style=\"padding-left: 1em; padding-right: 1em; text-align: center; vertical-align: top\">6</td>\n",
       "        <td style=\"padding-left: 1em; padding-right: 1em; text-align: center; vertical-align: top\">11</td>\n",
       "        <td style=\"padding-left: 1em; padding-right: 1em; text-align: center; vertical-align: top\">1</td>\n",
       "        <td style=\"padding-left: 1em; padding-right: 1em; text-align: center; vertical-align: top\">0.64</td>\n",
       "        <td style=\"padding-left: 1em; padding-right: 1em; text-align: center; vertical-align: top\">PRD0904223</td>\n",
       "        <td style=\"padding-left: 1em; padding-right: 1em; text-align: center; vertical-align: top\">CL00078</td>\n",
       "        <td style=\"padding-left: 1em; padding-right: 1em; text-align: center; vertical-align: top\">DEP00022</td>\n",
       "    </tr>\n",
       "    <tr>\n",
       "        <td style=\"padding-left: 1em; padding-right: 1em; text-align: center; vertical-align: top\">200607</td>\n",
       "        <td style=\"padding-left: 1em; padding-right: 1em; text-align: center; vertical-align: top\">20060414</td>\n",
       "        <td style=\"padding-left: 1em; padding-right: 1em; text-align: center; vertical-align: top\">6</td>\n",
       "        <td style=\"padding-left: 1em; padding-right: 1em; text-align: center; vertical-align: top\">21</td>\n",
       "        <td style=\"padding-left: 1em; padding-right: 1em; text-align: center; vertical-align: top\">1</td>\n",
       "        <td style=\"padding-left: 1em; padding-right: 1em; text-align: center; vertical-align: top\">0.64</td>\n",
       "        <td style=\"padding-left: 1em; padding-right: 1em; text-align: center; vertical-align: top\">PRD0904223</td>\n",
       "        <td style=\"padding-left: 1em; padding-right: 1em; text-align: center; vertical-align: top\">CL00078</td>\n",
       "        <td style=\"padding-left: 1em; padding-right: 1em; text-align: center; vertical-align: top\">DEP00022</td>\n",
       "    </tr>\n",
       "    <tr>\n",
       "        <td style=\"padding-left: 1em; padding-right: 1em; text-align: center; vertical-align: top\">200607</td>\n",
       "        <td style=\"padding-left: 1em; padding-right: 1em; text-align: center; vertical-align: top\">20060414</td>\n",
       "        <td style=\"padding-left: 1em; padding-right: 1em; text-align: center; vertical-align: top\">6</td>\n",
       "        <td style=\"padding-left: 1em; padding-right: 1em; text-align: center; vertical-align: top\">8</td>\n",
       "        <td style=\"padding-left: 1em; padding-right: 1em; text-align: center; vertical-align: top\">1</td>\n",
       "        <td style=\"padding-left: 1em; padding-right: 1em; text-align: center; vertical-align: top\">0.64</td>\n",
       "        <td style=\"padding-left: 1em; padding-right: 1em; text-align: center; vertical-align: top\">PRD0904223</td>\n",
       "        <td style=\"padding-left: 1em; padding-right: 1em; text-align: center; vertical-align: top\">CL00078</td>\n",
       "        <td style=\"padding-left: 1em; padding-right: 1em; text-align: center; vertical-align: top\">DEP00022</td>\n",
       "    </tr>\n",
       "    <tr>\n",
       "        <td style=\"padding-left: 1em; padding-right: 1em; text-align: center; vertical-align: top\">200607</td>\n",
       "        <td style=\"padding-left: 1em; padding-right: 1em; text-align: center; vertical-align: top\">20060411</td>\n",
       "        <td style=\"padding-left: 1em; padding-right: 1em; text-align: center; vertical-align: top\">3</td>\n",
       "        <td style=\"padding-left: 1em; padding-right: 1em; text-align: center; vertical-align: top\">13</td>\n",
       "        <td style=\"padding-left: 1em; padding-right: 1em; text-align: center; vertical-align: top\">3</td>\n",
       "        <td style=\"padding-left: 1em; padding-right: 1em; text-align: center; vertical-align: top\">1.92</td>\n",
       "        <td style=\"padding-left: 1em; padding-right: 1em; text-align: center; vertical-align: top\">PRD0904223</td>\n",
       "        <td style=\"padding-left: 1em; padding-right: 1em; text-align: center; vertical-align: top\">CL00078</td>\n",
       "        <td style=\"padding-left: 1em; padding-right: 1em; text-align: center; vertical-align: top\">DEP00022</td>\n",
       "    </tr>\n",
       "    <tr>\n",
       "        <td style=\"padding-left: 1em; padding-right: 1em; text-align: center; vertical-align: top\">200607</td>\n",
       "        <td style=\"padding-left: 1em; padding-right: 1em; text-align: center; vertical-align: top\">20060415</td>\n",
       "        <td style=\"padding-left: 1em; padding-right: 1em; text-align: center; vertical-align: top\">7</td>\n",
       "        <td style=\"padding-left: 1em; padding-right: 1em; text-align: center; vertical-align: top\">13</td>\n",
       "        <td style=\"padding-left: 1em; padding-right: 1em; text-align: center; vertical-align: top\">1</td>\n",
       "        <td style=\"padding-left: 1em; padding-right: 1em; text-align: center; vertical-align: top\">0.64</td>\n",
       "        <td style=\"padding-left: 1em; padding-right: 1em; text-align: center; vertical-align: top\">PRD0904223</td>\n",
       "        <td style=\"padding-left: 1em; padding-right: 1em; text-align: center; vertical-align: top\">CL00078</td>\n",
       "        <td style=\"padding-left: 1em; padding-right: 1em; text-align: center; vertical-align: top\">DEP00022</td>\n",
       "    </tr>\n",
       "    <tr>\n",
       "        <td style=\"padding-left: 1em; padding-right: 1em; text-align: center; vertical-align: top\">200607</td>\n",
       "        <td style=\"padding-left: 1em; padding-right: 1em; text-align: center; vertical-align: top\">20060412</td>\n",
       "        <td style=\"padding-left: 1em; padding-right: 1em; text-align: center; vertical-align: top\">4</td>\n",
       "        <td style=\"padding-left: 1em; padding-right: 1em; text-align: center; vertical-align: top\">16</td>\n",
       "        <td style=\"padding-left: 1em; padding-right: 1em; text-align: center; vertical-align: top\">1</td>\n",
       "        <td style=\"padding-left: 1em; padding-right: 1em; text-align: center; vertical-align: top\">2.54</td>\n",
       "        <td style=\"padding-left: 1em; padding-right: 1em; text-align: center; vertical-align: top\">PRD0904225</td>\n",
       "        <td style=\"padding-left: 1em; padding-right: 1em; text-align: center; vertical-align: top\">CL00145</td>\n",
       "        <td style=\"padding-left: 1em; padding-right: 1em; text-align: center; vertical-align: top\">DEP00051</td>\n",
       "    </tr>\n",
       "    <tr>\n",
       "        <td style=\"padding-left: 1em; padding-right: 1em; text-align: center; vertical-align: top\">200607</td>\n",
       "        <td style=\"padding-left: 1em; padding-right: 1em; text-align: center; vertical-align: top\">20060414</td>\n",
       "        <td style=\"padding-left: 1em; padding-right: 1em; text-align: center; vertical-align: top\">6</td>\n",
       "        <td style=\"padding-left: 1em; padding-right: 1em; text-align: center; vertical-align: top\">17</td>\n",
       "        <td style=\"padding-left: 1em; padding-right: 1em; text-align: center; vertical-align: top\">1</td>\n",
       "        <td style=\"padding-left: 1em; padding-right: 1em; text-align: center; vertical-align: top\">0.45</td>\n",
       "        <td style=\"padding-left: 1em; padding-right: 1em; text-align: center; vertical-align: top\">PRD0904230</td>\n",
       "        <td style=\"padding-left: 1em; padding-right: 1em; text-align: center; vertical-align: top\">CL00070</td>\n",
       "        <td style=\"padding-left: 1em; padding-right: 1em; text-align: center; vertical-align: top\">DEP00020</td>\n",
       "    </tr>\n",
       "    <tr>\n",
       "        <td style=\"padding-left: 1em; padding-right: 1em; text-align: center; vertical-align: top\">200607</td>\n",
       "        <td style=\"padding-left: 1em; padding-right: 1em; text-align: center; vertical-align: top\">20060415</td>\n",
       "        <td style=\"padding-left: 1em; padding-right: 1em; text-align: center; vertical-align: top\">7</td>\n",
       "        <td style=\"padding-left: 1em; padding-right: 1em; text-align: center; vertical-align: top\">12</td>\n",
       "        <td style=\"padding-left: 1em; padding-right: 1em; text-align: center; vertical-align: top\">4</td>\n",
       "        <td style=\"padding-left: 1em; padding-right: 1em; text-align: center; vertical-align: top\">1.8</td>\n",
       "        <td style=\"padding-left: 1em; padding-right: 1em; text-align: center; vertical-align: top\">PRD0904230</td>\n",
       "        <td style=\"padding-left: 1em; padding-right: 1em; text-align: center; vertical-align: top\">CL00070</td>\n",
       "        <td style=\"padding-left: 1em; padding-right: 1em; text-align: center; vertical-align: top\">DEP00020</td>\n",
       "    </tr>\n",
       "</table>\n",
       "<table frame=\"box\" rules=\"cols\">\n",
       "    <tr>\n",
       "        <th style=\"padding-left: 1em; padding-right: 1em; text-align: center\">PROD_CODE_30</th>\n",
       "        <th style=\"padding-left: 1em; padding-right: 1em; text-align: center\">PROD_CODE_40</th>\n",
       "        <th style=\"padding-left: 1em; padding-right: 1em; text-align: center\">CUST_CODE</th>\n",
       "        <th style=\"padding-left: 1em; padding-right: 1em; text-align: center\">CUST_PRICE_SENSITIVITY</th>\n",
       "        <th style=\"padding-left: 1em; padding-right: 1em; text-align: center\">CUST_LIFESTAGE</th>\n",
       "        <th style=\"padding-left: 1em; padding-right: 1em; text-align: center\">BASKET_ID</th>\n",
       "        <th style=\"padding-left: 1em; padding-right: 1em; text-align: center\">BASKET_SIZE</th>\n",
       "    </tr>\n",
       "    <tr>\n",
       "        <td style=\"padding-left: 1em; padding-right: 1em; text-align: center; vertical-align: top\">G00007</td>\n",
       "        <td style=\"padding-left: 1em; padding-right: 1em; text-align: center; vertical-align: top\">D00002</td>\n",
       "        <td style=\"padding-left: 1em; padding-right: 1em; text-align: center; vertical-align: top\"></td>\n",
       "        <td style=\"padding-left: 1em; padding-right: 1em; text-align: center; vertical-align: top\"></td>\n",
       "        <td style=\"padding-left: 1em; padding-right: 1em; text-align: center; vertical-align: top\"></td>\n",
       "        <td style=\"padding-left: 1em; padding-right: 1em; text-align: center; vertical-align: top\">994100100137015</td>\n",
       "        <td style=\"padding-left: 1em; padding-right: 1em; text-align: center; vertical-align: top\">L</td>\n",
       "    </tr>\n",
       "    <tr>\n",
       "        <td style=\"padding-left: 1em; padding-right: 1em; text-align: center; vertical-align: top\">G00007</td>\n",
       "        <td style=\"padding-left: 1em; padding-right: 1em; text-align: center; vertical-align: top\">D00002</td>\n",
       "        <td style=\"padding-left: 1em; padding-right: 1em; text-align: center; vertical-align: top\">CUST0000329587</td>\n",
       "        <td style=\"padding-left: 1em; padding-right: 1em; text-align: center; vertical-align: top\">MM</td>\n",
       "        <td style=\"padding-left: 1em; padding-right: 1em; text-align: center; vertical-align: top\">PE</td>\n",
       "        <td style=\"padding-left: 1em; padding-right: 1em; text-align: center; vertical-align: top\">994100100350176</td>\n",
       "        <td style=\"padding-left: 1em; padding-right: 1em; text-align: center; vertical-align: top\">L</td>\n",
       "    </tr>\n",
       "    <tr>\n",
       "        <td style=\"padding-left: 1em; padding-right: 1em; text-align: center; vertical-align: top\">G00007</td>\n",
       "        <td style=\"padding-left: 1em; padding-right: 1em; text-align: center; vertical-align: top\">D00002</td>\n",
       "        <td style=\"padding-left: 1em; padding-right: 1em; text-align: center; vertical-align: top\">CUST0000783842</td>\n",
       "        <td style=\"padding-left: 1em; padding-right: 1em; text-align: center; vertical-align: top\">MM</td>\n",
       "        <td style=\"padding-left: 1em; padding-right: 1em; text-align: center; vertical-align: top\">OA</td>\n",
       "        <td style=\"padding-left: 1em; padding-right: 1em; text-align: center; vertical-align: top\">994100100622564</td>\n",
       "        <td style=\"padding-left: 1em; padding-right: 1em; text-align: center; vertical-align: top\">M</td>\n",
       "    </tr>\n",
       "    <tr>\n",
       "        <td style=\"padding-left: 1em; padding-right: 1em; text-align: center; vertical-align: top\">G00007</td>\n",
       "        <td style=\"padding-left: 1em; padding-right: 1em; text-align: center; vertical-align: top\">D00002</td>\n",
       "        <td style=\"padding-left: 1em; padding-right: 1em; text-align: center; vertical-align: top\">CUST0000799634</td>\n",
       "        <td style=\"padding-left: 1em; padding-right: 1em; text-align: center; vertical-align: top\">UM</td>\n",
       "        <td style=\"padding-left: 1em; padding-right: 1em; text-align: center; vertical-align: top\">YA</td>\n",
       "        <td style=\"padding-left: 1em; padding-right: 1em; text-align: center; vertical-align: top\">994100100632187</td>\n",
       "        <td style=\"padding-left: 1em; padding-right: 1em; text-align: center; vertical-align: top\">M</td>\n",
       "    </tr>\n",
       "    <tr>\n",
       "        <td style=\"padding-left: 1em; padding-right: 1em; text-align: center; vertical-align: top\">G00007</td>\n",
       "        <td style=\"padding-left: 1em; padding-right: 1em; text-align: center; vertical-align: top\">D00002</td>\n",
       "        <td style=\"padding-left: 1em; padding-right: 1em; text-align: center; vertical-align: top\">CUST0000917922</td>\n",
       "        <td style=\"padding-left: 1em; padding-right: 1em; text-align: center; vertical-align: top\">LA</td>\n",
       "        <td style=\"padding-left: 1em; padding-right: 1em; text-align: center; vertical-align: top\">YF</td>\n",
       "        <td style=\"padding-left: 1em; padding-right: 1em; text-align: center; vertical-align: top\">994100100703328</td>\n",
       "        <td style=\"padding-left: 1em; padding-right: 1em; text-align: center; vertical-align: top\">L</td>\n",
       "    </tr>\n",
       "    <tr>\n",
       "        <td style=\"padding-left: 1em; padding-right: 1em; text-align: center; vertical-align: top\">G00007</td>\n",
       "        <td style=\"padding-left: 1em; padding-right: 1em; text-align: center; vertical-align: top\">D00002</td>\n",
       "        <td style=\"padding-left: 1em; padding-right: 1em; text-align: center; vertical-align: top\">CUST0000926123</td>\n",
       "        <td style=\"padding-left: 1em; padding-right: 1em; text-align: center; vertical-align: top\">LA</td>\n",
       "        <td style=\"padding-left: 1em; padding-right: 1em; text-align: center; vertical-align: top\">OA</td>\n",
       "        <td style=\"padding-left: 1em; padding-right: 1em; text-align: center; vertical-align: top\">994100100708267</td>\n",
       "        <td style=\"padding-left: 1em; padding-right: 1em; text-align: center; vertical-align: top\">L</td>\n",
       "    </tr>\n",
       "    <tr>\n",
       "        <td style=\"padding-left: 1em; padding-right: 1em; text-align: center; vertical-align: top\">G00007</td>\n",
       "        <td style=\"padding-left: 1em; padding-right: 1em; text-align: center; vertical-align: top\">D00002</td>\n",
       "        <td style=\"padding-left: 1em; padding-right: 1em; text-align: center; vertical-align: top\"></td>\n",
       "        <td style=\"padding-left: 1em; padding-right: 1em; text-align: center; vertical-align: top\"></td>\n",
       "        <td style=\"padding-left: 1em; padding-right: 1em; text-align: center; vertical-align: top\"></td>\n",
       "        <td style=\"padding-left: 1em; padding-right: 1em; text-align: center; vertical-align: top\">994100100101540</td>\n",
       "        <td style=\"padding-left: 1em; padding-right: 1em; text-align: center; vertical-align: top\">L</td>\n",
       "    </tr>\n",
       "    <tr>\n",
       "        <td style=\"padding-left: 1em; padding-right: 1em; text-align: center; vertical-align: top\">G00015</td>\n",
       "        <td style=\"padding-left: 1em; padding-right: 1em; text-align: center; vertical-align: top\">D00003</td>\n",
       "        <td style=\"padding-left: 1em; padding-right: 1em; text-align: center; vertical-align: top\">CUST0000988612</td>\n",
       "        <td style=\"padding-left: 1em; padding-right: 1em; text-align: center; vertical-align: top\">MM</td>\n",
       "        <td style=\"padding-left: 1em; padding-right: 1em; text-align: center; vertical-align: top\">OT</td>\n",
       "        <td style=\"padding-left: 1em; padding-right: 1em; text-align: center; vertical-align: top\">994100100745760</td>\n",
       "        <td style=\"padding-left: 1em; padding-right: 1em; text-align: center; vertical-align: top\">M</td>\n",
       "    </tr>\n",
       "    <tr>\n",
       "        <td style=\"padding-left: 1em; padding-right: 1em; text-align: center; vertical-align: top\">G00007</td>\n",
       "        <td style=\"padding-left: 1em; padding-right: 1em; text-align: center; vertical-align: top\">D00002</td>\n",
       "        <td style=\"padding-left: 1em; padding-right: 1em; text-align: center; vertical-align: top\">CUST0000050637</td>\n",
       "        <td style=\"padding-left: 1em; padding-right: 1em; text-align: center; vertical-align: top\">LA</td>\n",
       "        <td style=\"padding-left: 1em; padding-right: 1em; text-align: center; vertical-align: top\">OT</td>\n",
       "        <td style=\"padding-left: 1em; padding-right: 1em; text-align: center; vertical-align: top\">994100100183348</td>\n",
       "        <td style=\"padding-left: 1em; padding-right: 1em; text-align: center; vertical-align: top\">L</td>\n",
       "    </tr>\n",
       "    <tr>\n",
       "        <td style=\"padding-left: 1em; padding-right: 1em; text-align: center; vertical-align: top\">G00007</td>\n",
       "        <td style=\"padding-left: 1em; padding-right: 1em; text-align: center; vertical-align: top\">D00002</td>\n",
       "        <td style=\"padding-left: 1em; padding-right: 1em; text-align: center; vertical-align: top\">CUST0000344447</td>\n",
       "        <td style=\"padding-left: 1em; padding-right: 1em; text-align: center; vertical-align: top\">MM</td>\n",
       "        <td style=\"padding-left: 1em; padding-right: 1em; text-align: center; vertical-align: top\">YF</td>\n",
       "        <td style=\"padding-left: 1em; padding-right: 1em; text-align: center; vertical-align: top\">994100100359080</td>\n",
       "        <td style=\"padding-left: 1em; padding-right: 1em; text-align: center; vertical-align: top\">L</td>\n",
       "    </tr>\n",
       "</table>\n",
       "<table frame=\"box\" rules=\"cols\">\n",
       "    <tr>\n",
       "        <th style=\"padding-left: 1em; padding-right: 1em; text-align: center\">BASKET_PRICE_SENSITIVITY</th>\n",
       "        <th style=\"padding-left: 1em; padding-right: 1em; text-align: center\">BASKET_TYPE</th>\n",
       "        <th style=\"padding-left: 1em; padding-right: 1em; text-align: center\">BASKET_DOMINANT_MISSION</th>\n",
       "        <th style=\"padding-left: 1em; padding-right: 1em; text-align: center\">STORE_CODE</th>\n",
       "        <th style=\"padding-left: 1em; padding-right: 1em; text-align: center\">STORE_FORMAT</th>\n",
       "        <th style=\"padding-left: 1em; padding-right: 1em; text-align: center\">STORE_REGION</th>\n",
       "    </tr>\n",
       "    <tr>\n",
       "        <td style=\"padding-left: 1em; padding-right: 1em; text-align: center; vertical-align: top\">LA</td>\n",
       "        <td style=\"padding-left: 1em; padding-right: 1em; text-align: center; vertical-align: top\">Top Up</td>\n",
       "        <td style=\"padding-left: 1em; padding-right: 1em; text-align: center; vertical-align: top\">Fresh</td>\n",
       "        <td style=\"padding-left: 1em; padding-right: 1em; text-align: center; vertical-align: top\">STORE01958</td>\n",
       "        <td style=\"padding-left: 1em; padding-right: 1em; text-align: center; vertical-align: top\">LS</td>\n",
       "        <td style=\"padding-left: 1em; padding-right: 1em; text-align: center; vertical-align: top\">S02</td>\n",
       "    </tr>\n",
       "    <tr>\n",
       "        <td style=\"padding-left: 1em; padding-right: 1em; text-align: center; vertical-align: top\">MM</td>\n",
       "        <td style=\"padding-left: 1em; padding-right: 1em; text-align: center; vertical-align: top\">Top Up</td>\n",
       "        <td style=\"padding-left: 1em; padding-right: 1em; text-align: center; vertical-align: top\">Fresh</td>\n",
       "        <td style=\"padding-left: 1em; padding-right: 1em; text-align: center; vertical-align: top\">STORE01958</td>\n",
       "        <td style=\"padding-left: 1em; padding-right: 1em; text-align: center; vertical-align: top\">LS</td>\n",
       "        <td style=\"padding-left: 1em; padding-right: 1em; text-align: center; vertical-align: top\">S02</td>\n",
       "    </tr>\n",
       "    <tr>\n",
       "        <td style=\"padding-left: 1em; padding-right: 1em; text-align: center; vertical-align: top\">LA</td>\n",
       "        <td style=\"padding-left: 1em; padding-right: 1em; text-align: center; vertical-align: top\">Top Up</td>\n",
       "        <td style=\"padding-left: 1em; padding-right: 1em; text-align: center; vertical-align: top\">Fresh</td>\n",
       "        <td style=\"padding-left: 1em; padding-right: 1em; text-align: center; vertical-align: top\">STORE01958</td>\n",
       "        <td style=\"padding-left: 1em; padding-right: 1em; text-align: center; vertical-align: top\">LS</td>\n",
       "        <td style=\"padding-left: 1em; padding-right: 1em; text-align: center; vertical-align: top\">S02</td>\n",
       "    </tr>\n",
       "    <tr>\n",
       "        <td style=\"padding-left: 1em; padding-right: 1em; text-align: center; vertical-align: top\">MM</td>\n",
       "        <td style=\"padding-left: 1em; padding-right: 1em; text-align: center; vertical-align: top\">Top Up</td>\n",
       "        <td style=\"padding-left: 1em; padding-right: 1em; text-align: center; vertical-align: top\">Fresh</td>\n",
       "        <td style=\"padding-left: 1em; padding-right: 1em; text-align: center; vertical-align: top\">STORE01958</td>\n",
       "        <td style=\"padding-left: 1em; padding-right: 1em; text-align: center; vertical-align: top\">LS</td>\n",
       "        <td style=\"padding-left: 1em; padding-right: 1em; text-align: center; vertical-align: top\">S02</td>\n",
       "    </tr>\n",
       "    <tr>\n",
       "        <td style=\"padding-left: 1em; padding-right: 1em; text-align: center; vertical-align: top\">LA</td>\n",
       "        <td style=\"padding-left: 1em; padding-right: 1em; text-align: center; vertical-align: top\">Top Up</td>\n",
       "        <td style=\"padding-left: 1em; padding-right: 1em; text-align: center; vertical-align: top\">Mixed</td>\n",
       "        <td style=\"padding-left: 1em; padding-right: 1em; text-align: center; vertical-align: top\">STORE01958</td>\n",
       "        <td style=\"padding-left: 1em; padding-right: 1em; text-align: center; vertical-align: top\">LS</td>\n",
       "        <td style=\"padding-left: 1em; padding-right: 1em; text-align: center; vertical-align: top\">S02</td>\n",
       "    </tr>\n",
       "    <tr>\n",
       "        <td style=\"padding-left: 1em; padding-right: 1em; text-align: center; vertical-align: top\">LA</td>\n",
       "        <td style=\"padding-left: 1em; padding-right: 1em; text-align: center; vertical-align: top\">Full Shop</td>\n",
       "        <td style=\"padding-left: 1em; padding-right: 1em; text-align: center; vertical-align: top\">Fresh</td>\n",
       "        <td style=\"padding-left: 1em; padding-right: 1em; text-align: center; vertical-align: top\">STORE01958</td>\n",
       "        <td style=\"padding-left: 1em; padding-right: 1em; text-align: center; vertical-align: top\">LS</td>\n",
       "        <td style=\"padding-left: 1em; padding-right: 1em; text-align: center; vertical-align: top\">S02</td>\n",
       "    </tr>\n",
       "    <tr>\n",
       "        <td style=\"padding-left: 1em; padding-right: 1em; text-align: center; vertical-align: top\">LA</td>\n",
       "        <td style=\"padding-left: 1em; padding-right: 1em; text-align: center; vertical-align: top\">Top Up</td>\n",
       "        <td style=\"padding-left: 1em; padding-right: 1em; text-align: center; vertical-align: top\">Mixed</td>\n",
       "        <td style=\"padding-left: 1em; padding-right: 1em; text-align: center; vertical-align: top\">STORE01958</td>\n",
       "        <td style=\"padding-left: 1em; padding-right: 1em; text-align: center; vertical-align: top\">LS</td>\n",
       "        <td style=\"padding-left: 1em; padding-right: 1em; text-align: center; vertical-align: top\">S02</td>\n",
       "    </tr>\n",
       "    <tr>\n",
       "        <td style=\"padding-left: 1em; padding-right: 1em; text-align: center; vertical-align: top\">MM</td>\n",
       "        <td style=\"padding-left: 1em; padding-right: 1em; text-align: center; vertical-align: top\">Top Up</td>\n",
       "        <td style=\"padding-left: 1em; padding-right: 1em; text-align: center; vertical-align: top\">Grocery</td>\n",
       "        <td style=\"padding-left: 1em; padding-right: 1em; text-align: center; vertical-align: top\">STORE01958</td>\n",
       "        <td style=\"padding-left: 1em; padding-right: 1em; text-align: center; vertical-align: top\">LS</td>\n",
       "        <td style=\"padding-left: 1em; padding-right: 1em; text-align: center; vertical-align: top\">S02</td>\n",
       "    </tr>\n",
       "    <tr>\n",
       "        <td style=\"padding-left: 1em; padding-right: 1em; text-align: center; vertical-align: top\">LA</td>\n",
       "        <td style=\"padding-left: 1em; padding-right: 1em; text-align: center; vertical-align: top\">Top Up</td>\n",
       "        <td style=\"padding-left: 1em; padding-right: 1em; text-align: center; vertical-align: top\">Grocery</td>\n",
       "        <td style=\"padding-left: 1em; padding-right: 1em; text-align: center; vertical-align: top\">STORE01958</td>\n",
       "        <td style=\"padding-left: 1em; padding-right: 1em; text-align: center; vertical-align: top\">LS</td>\n",
       "        <td style=\"padding-left: 1em; padding-right: 1em; text-align: center; vertical-align: top\">S02</td>\n",
       "    </tr>\n",
       "    <tr>\n",
       "        <td style=\"padding-left: 1em; padding-right: 1em; text-align: center; vertical-align: top\">MM</td>\n",
       "        <td style=\"padding-left: 1em; padding-right: 1em; text-align: center; vertical-align: top\">Full Shop</td>\n",
       "        <td style=\"padding-left: 1em; padding-right: 1em; text-align: center; vertical-align: top\">Fresh</td>\n",
       "        <td style=\"padding-left: 1em; padding-right: 1em; text-align: center; vertical-align: top\">STORE01958</td>\n",
       "        <td style=\"padding-left: 1em; padding-right: 1em; text-align: center; vertical-align: top\">LS</td>\n",
       "        <td style=\"padding-left: 1em; padding-right: 1em; text-align: center; vertical-align: top\">S02</td>\n",
       "    </tr>\n",
       "</table>\n",
       "[33850823 rows x 22 columns]<br/>Note: Only the head of the SFrame is printed.<br/>You can use print_rows(num_rows=m, num_columns=n) to print more rows and columns.\n",
       "</div>"
      ],
      "text/plain": [
       "Columns:\n",
       "\tSHOP_WEEK\tint\n",
       "\tSHOP_DATE\tint\n",
       "\tSHOP_WEEKDAY\tint\n",
       "\tSHOP_HOUR\tint\n",
       "\tQUANTITY\tint\n",
       "\tSPEND\tfloat\n",
       "\tPROD_CODE\tstr\n",
       "\tPROD_CODE_10\tstr\n",
       "\tPROD_CODE_20\tstr\n",
       "\tPROD_CODE_30\tstr\n",
       "\tPROD_CODE_40\tstr\n",
       "\tCUST_CODE\tstr\n",
       "\tCUST_PRICE_SENSITIVITY\tstr\n",
       "\tCUST_LIFESTAGE\tstr\n",
       "\tBASKET_ID\tint\n",
       "\tBASKET_SIZE\tstr\n",
       "\tBASKET_PRICE_SENSITIVITY\tstr\n",
       "\tBASKET_TYPE\tstr\n",
       "\tBASKET_DOMINANT_MISSION\tstr\n",
       "\tSTORE_CODE\tstr\n",
       "\tSTORE_FORMAT\tstr\n",
       "\tSTORE_REGION\tstr\n",
       "\n",
       "Rows: 33850823\n",
       "\n",
       "Data:\n",
       "+-----------+-----------+--------------+-----------+----------+-------+\n",
       "| SHOP_WEEK | SHOP_DATE | SHOP_WEEKDAY | SHOP_HOUR | QUANTITY | SPEND |\n",
       "+-----------+-----------+--------------+-----------+----------+-------+\n",
       "|   200607  |  20060412 |      4       |     21    |    7     |  3.15 |\n",
       "|   200607  |  20060414 |      6       |     9     |    1     |  0.64 |\n",
       "|   200607  |  20060414 |      6       |     11    |    1     |  0.64 |\n",
       "|   200607  |  20060414 |      6       |     21    |    1     |  0.64 |\n",
       "|   200607  |  20060414 |      6       |     8     |    1     |  0.64 |\n",
       "|   200607  |  20060411 |      3       |     13    |    3     |  1.92 |\n",
       "|   200607  |  20060415 |      7       |     13    |    1     |  0.64 |\n",
       "|   200607  |  20060412 |      4       |     16    |    1     |  2.54 |\n",
       "|   200607  |  20060414 |      6       |     17    |    1     |  0.45 |\n",
       "|   200607  |  20060415 |      7       |     12    |    4     |  1.8  |\n",
       "+-----------+-----------+--------------+-----------+----------+-------+\n",
       "+------------+--------------+--------------+--------------+--------------+\n",
       "| PROD_CODE  | PROD_CODE_10 | PROD_CODE_20 | PROD_CODE_30 | PROD_CODE_40 |\n",
       "+------------+--------------+--------------+--------------+--------------+\n",
       "| PRD0904230 |   CL00070    |   DEP00020   |    G00007    |    D00002    |\n",
       "| PRD0904223 |   CL00078    |   DEP00022   |    G00007    |    D00002    |\n",
       "| PRD0904223 |   CL00078    |   DEP00022   |    G00007    |    D00002    |\n",
       "| PRD0904223 |   CL00078    |   DEP00022   |    G00007    |    D00002    |\n",
       "| PRD0904223 |   CL00078    |   DEP00022   |    G00007    |    D00002    |\n",
       "| PRD0904223 |   CL00078    |   DEP00022   |    G00007    |    D00002    |\n",
       "| PRD0904223 |   CL00078    |   DEP00022   |    G00007    |    D00002    |\n",
       "| PRD0904225 |   CL00145    |   DEP00051   |    G00015    |    D00003    |\n",
       "| PRD0904230 |   CL00070    |   DEP00020   |    G00007    |    D00002    |\n",
       "| PRD0904230 |   CL00070    |   DEP00020   |    G00007    |    D00002    |\n",
       "+------------+--------------+--------------+--------------+--------------+\n",
       "+----------------+------------------------+----------------+-----------------+-------------+\n",
       "|   CUST_CODE    | CUST_PRICE_SENSITIVITY | CUST_LIFESTAGE |    BASKET_ID    | BASKET_SIZE |\n",
       "+----------------+------------------------+----------------+-----------------+-------------+\n",
       "|                |                        |                | 994100100137015 |      L      |\n",
       "| CUST0000329587 |           MM           |       PE       | 994100100350176 |      L      |\n",
       "| CUST0000783842 |           MM           |       OA       | 994100100622564 |      M      |\n",
       "| CUST0000799634 |           UM           |       YA       | 994100100632187 |      M      |\n",
       "| CUST0000917922 |           LA           |       YF       | 994100100703328 |      L      |\n",
       "| CUST0000926123 |           LA           |       OA       | 994100100708267 |      L      |\n",
       "|                |                        |                | 994100100101540 |      L      |\n",
       "| CUST0000988612 |           MM           |       OT       | 994100100745760 |      M      |\n",
       "| CUST0000050637 |           LA           |       OT       | 994100100183348 |      L      |\n",
       "| CUST0000344447 |           MM           |       YF       | 994100100359080 |      L      |\n",
       "+----------------+------------------------+----------------+-----------------+-------------+\n",
       "+--------------------------+-------------+-------------------------+------------+-----+\n",
       "| BASKET_PRICE_SENSITIVITY | BASKET_TYPE | BASKET_DOMINANT_MISSION | STORE_CODE | ... |\n",
       "+--------------------------+-------------+-------------------------+------------+-----+\n",
       "|            LA            |    Top Up   |          Fresh          | STORE01958 | ... |\n",
       "|            MM            |    Top Up   |          Fresh          | STORE01958 | ... |\n",
       "|            LA            |    Top Up   |          Fresh          | STORE01958 | ... |\n",
       "|            MM            |    Top Up   |          Fresh          | STORE01958 | ... |\n",
       "|            LA            |    Top Up   |          Mixed          | STORE01958 | ... |\n",
       "|            LA            |  Full Shop  |          Fresh          | STORE01958 | ... |\n",
       "|            LA            |    Top Up   |          Mixed          | STORE01958 | ... |\n",
       "|            MM            |    Top Up   |         Grocery         | STORE01958 | ... |\n",
       "|            LA            |    Top Up   |         Grocery         | STORE01958 | ... |\n",
       "|            MM            |  Full Shop  |          Fresh          | STORE01958 | ... |\n",
       "+--------------------------+-------------+-------------------------+------------+-----+\n",
       "[33850823 rows x 22 columns]\n",
       "Note: Only the head of the SFrame is printed.\n",
       "You can use print_rows(num_rows=m, num_columns=n) to print more rows and columns."
      ]
     },
     "execution_count": 97,
     "metadata": {},
     "output_type": "execute_result"
    }
   ],
   "source": [
    "#Sorting a Sframe\n",
    "sf1.sort(['SHOP_WEEK'])"
   ]
  },
  {
   "cell_type": "code",
   "execution_count": 116,
   "metadata": {
    "collapsed": true
   },
   "outputs": [
    {
     "name": "stdout",
     "output_type": "stream",
     "text": [
      "33850823\n"
     ]
    },
    {
     "data": {
      "text/html": [
       "<div style=\"max-height:1000px;max-width:1500px;overflow:auto;\"><table frame=\"box\" rules=\"cols\">\n",
       "    <tr>\n",
       "        <th style=\"padding-left: 1em; padding-right: 1em; text-align: center\">SHOP_WEEK</th>\n",
       "        <th style=\"padding-left: 1em; padding-right: 1em; text-align: center\">SHOP_DATE</th>\n",
       "        <th style=\"padding-left: 1em; padding-right: 1em; text-align: center\">SHOP_WEEKDAY</th>\n",
       "        <th style=\"padding-left: 1em; padding-right: 1em; text-align: center\">SHOP_HOUR</th>\n",
       "        <th style=\"padding-left: 1em; padding-right: 1em; text-align: center\">QUANTITY</th>\n",
       "        <th style=\"padding-left: 1em; padding-right: 1em; text-align: center\">SPEND</th>\n",
       "        <th style=\"padding-left: 1em; padding-right: 1em; text-align: center\">PROD_CODE</th>\n",
       "        <th style=\"padding-left: 1em; padding-right: 1em; text-align: center\">PROD_CODE_10</th>\n",
       "        <th style=\"padding-left: 1em; padding-right: 1em; text-align: center\">PROD_CODE_20</th>\n",
       "    </tr>\n",
       "    <tr>\n",
       "        <td style=\"padding-left: 1em; padding-right: 1em; text-align: center; vertical-align: top\">200607</td>\n",
       "        <td style=\"padding-left: 1em; padding-right: 1em; text-align: center; vertical-align: top\">20060410</td>\n",
       "        <td style=\"padding-left: 1em; padding-right: 1em; text-align: center; vertical-align: top\">2</td>\n",
       "        <td style=\"padding-left: 1em; padding-right: 1em; text-align: center; vertical-align: top\">16</td>\n",
       "        <td style=\"padding-left: 1em; padding-right: 1em; text-align: center; vertical-align: top\">1</td>\n",
       "        <td style=\"padding-left: 1em; padding-right: 1em; text-align: center; vertical-align: top\">1.01</td>\n",
       "        <td style=\"padding-left: 1em; padding-right: 1em; text-align: center; vertical-align: top\">PRD0900005</td>\n",
       "        <td style=\"padding-left: 1em; padding-right: 1em; text-align: center; vertical-align: top\">CL00155</td>\n",
       "        <td style=\"padding-left: 1em; padding-right: 1em; text-align: center; vertical-align: top\">DEP00053</td>\n",
       "    </tr>\n",
       "    <tr>\n",
       "        <td style=\"padding-left: 1em; padding-right: 1em; text-align: center; vertical-align: top\">200607</td>\n",
       "        <td style=\"padding-left: 1em; padding-right: 1em; text-align: center; vertical-align: top\">20060416</td>\n",
       "        <td style=\"padding-left: 1em; padding-right: 1em; text-align: center; vertical-align: top\">1</td>\n",
       "        <td style=\"padding-left: 1em; padding-right: 1em; text-align: center; vertical-align: top\">9</td>\n",
       "        <td style=\"padding-left: 1em; padding-right: 1em; text-align: center; vertical-align: top\">3</td>\n",
       "        <td style=\"padding-left: 1em; padding-right: 1em; text-align: center; vertical-align: top\">3.03</td>\n",
       "        <td style=\"padding-left: 1em; padding-right: 1em; text-align: center; vertical-align: top\">PRD0900005</td>\n",
       "        <td style=\"padding-left: 1em; padding-right: 1em; text-align: center; vertical-align: top\">CL00155</td>\n",
       "        <td style=\"padding-left: 1em; padding-right: 1em; text-align: center; vertical-align: top\">DEP00053</td>\n",
       "    </tr>\n",
       "    <tr>\n",
       "        <td style=\"padding-left: 1em; padding-right: 1em; text-align: center; vertical-align: top\">200607</td>\n",
       "        <td style=\"padding-left: 1em; padding-right: 1em; text-align: center; vertical-align: top\">20060413</td>\n",
       "        <td style=\"padding-left: 1em; padding-right: 1em; text-align: center; vertical-align: top\">5</td>\n",
       "        <td style=\"padding-left: 1em; padding-right: 1em; text-align: center; vertical-align: top\">19</td>\n",
       "        <td style=\"padding-left: 1em; padding-right: 1em; text-align: center; vertical-align: top\">1</td>\n",
       "        <td style=\"padding-left: 1em; padding-right: 1em; text-align: center; vertical-align: top\">0.22</td>\n",
       "        <td style=\"padding-left: 1em; padding-right: 1em; text-align: center; vertical-align: top\">PRD0900006</td>\n",
       "        <td style=\"padding-left: 1em; padding-right: 1em; text-align: center; vertical-align: top\">CL00103</td>\n",
       "        <td style=\"padding-left: 1em; padding-right: 1em; text-align: center; vertical-align: top\">DEP00035</td>\n",
       "    </tr>\n",
       "    <tr>\n",
       "        <td style=\"padding-left: 1em; padding-right: 1em; text-align: center; vertical-align: top\">200607</td>\n",
       "        <td style=\"padding-left: 1em; padding-right: 1em; text-align: center; vertical-align: top\">20060416</td>\n",
       "        <td style=\"padding-left: 1em; padding-right: 1em; text-align: center; vertical-align: top\">1</td>\n",
       "        <td style=\"padding-left: 1em; padding-right: 1em; text-align: center; vertical-align: top\">17</td>\n",
       "        <td style=\"padding-left: 1em; padding-right: 1em; text-align: center; vertical-align: top\">1</td>\n",
       "        <td style=\"padding-left: 1em; padding-right: 1em; text-align: center; vertical-align: top\">0.22</td>\n",
       "        <td style=\"padding-left: 1em; padding-right: 1em; text-align: center; vertical-align: top\">PRD0900007</td>\n",
       "        <td style=\"padding-left: 1em; padding-right: 1em; text-align: center; vertical-align: top\">CL00103</td>\n",
       "        <td style=\"padding-left: 1em; padding-right: 1em; text-align: center; vertical-align: top\">DEP00035</td>\n",
       "    </tr>\n",
       "    <tr>\n",
       "        <td style=\"padding-left: 1em; padding-right: 1em; text-align: center; vertical-align: top\">200607</td>\n",
       "        <td style=\"padding-left: 1em; padding-right: 1em; text-align: center; vertical-align: top\">20060414</td>\n",
       "        <td style=\"padding-left: 1em; padding-right: 1em; text-align: center; vertical-align: top\">6</td>\n",
       "        <td style=\"padding-left: 1em; padding-right: 1em; text-align: center; vertical-align: top\">17</td>\n",
       "        <td style=\"padding-left: 1em; padding-right: 1em; text-align: center; vertical-align: top\">1</td>\n",
       "        <td style=\"padding-left: 1em; padding-right: 1em; text-align: center; vertical-align: top\">1.77</td>\n",
       "        <td style=\"padding-left: 1em; padding-right: 1em; text-align: center; vertical-align: top\">PRD0900008</td>\n",
       "        <td style=\"padding-left: 1em; padding-right: 1em; text-align: center; vertical-align: top\">CL00042</td>\n",
       "        <td style=\"padding-left: 1em; padding-right: 1em; text-align: center; vertical-align: top\">DEP00011</td>\n",
       "    </tr>\n",
       "    <tr>\n",
       "        <td style=\"padding-left: 1em; padding-right: 1em; text-align: center; vertical-align: top\">200607</td>\n",
       "        <td style=\"padding-left: 1em; padding-right: 1em; text-align: center; vertical-align: top\">20060411</td>\n",
       "        <td style=\"padding-left: 1em; padding-right: 1em; text-align: center; vertical-align: top\">3</td>\n",
       "        <td style=\"padding-left: 1em; padding-right: 1em; text-align: center; vertical-align: top\">16</td>\n",
       "        <td style=\"padding-left: 1em; padding-right: 1em; text-align: center; vertical-align: top\">1</td>\n",
       "        <td style=\"padding-left: 1em; padding-right: 1em; text-align: center; vertical-align: top\">1.05</td>\n",
       "        <td style=\"padding-left: 1em; padding-right: 1em; text-align: center; vertical-align: top\">PRD0900011</td>\n",
       "        <td style=\"padding-left: 1em; padding-right: 1em; text-align: center; vertical-align: top\">CL00033</td>\n",
       "        <td style=\"padding-left: 1em; padding-right: 1em; text-align: center; vertical-align: top\">DEP00008</td>\n",
       "    </tr>\n",
       "    <tr>\n",
       "        <td style=\"padding-left: 1em; padding-right: 1em; text-align: center; vertical-align: top\">200607</td>\n",
       "        <td style=\"padding-left: 1em; padding-right: 1em; text-align: center; vertical-align: top\">20060411</td>\n",
       "        <td style=\"padding-left: 1em; padding-right: 1em; text-align: center; vertical-align: top\">3</td>\n",
       "        <td style=\"padding-left: 1em; padding-right: 1em; text-align: center; vertical-align: top\">14</td>\n",
       "        <td style=\"padding-left: 1em; padding-right: 1em; text-align: center; vertical-align: top\">1</td>\n",
       "        <td style=\"padding-left: 1em; padding-right: 1em; text-align: center; vertical-align: top\">0.92</td>\n",
       "        <td style=\"padding-left: 1em; padding-right: 1em; text-align: center; vertical-align: top\">PRD0900014</td>\n",
       "        <td style=\"padding-left: 1em; padding-right: 1em; text-align: center; vertical-align: top\">CL00089</td>\n",
       "        <td style=\"padding-left: 1em; padding-right: 1em; text-align: center; vertical-align: top\">DEP00025</td>\n",
       "    </tr>\n",
       "    <tr>\n",
       "        <td style=\"padding-left: 1em; padding-right: 1em; text-align: center; vertical-align: top\">200607</td>\n",
       "        <td style=\"padding-left: 1em; padding-right: 1em; text-align: center; vertical-align: top\">20060414</td>\n",
       "        <td style=\"padding-left: 1em; padding-right: 1em; text-align: center; vertical-align: top\">6</td>\n",
       "        <td style=\"padding-left: 1em; padding-right: 1em; text-align: center; vertical-align: top\">17</td>\n",
       "        <td style=\"padding-left: 1em; padding-right: 1em; text-align: center; vertical-align: top\">1</td>\n",
       "        <td style=\"padding-left: 1em; padding-right: 1em; text-align: center; vertical-align: top\">1.99</td>\n",
       "        <td style=\"padding-left: 1em; padding-right: 1em; text-align: center; vertical-align: top\">PRD0900017</td>\n",
       "        <td style=\"padding-left: 1em; padding-right: 1em; text-align: center; vertical-align: top\">CL00140</td>\n",
       "        <td style=\"padding-left: 1em; padding-right: 1em; text-align: center; vertical-align: top\">DEP00049</td>\n",
       "    </tr>\n",
       "    <tr>\n",
       "        <td style=\"padding-left: 1em; padding-right: 1em; text-align: center; vertical-align: top\">200607</td>\n",
       "        <td style=\"padding-left: 1em; padding-right: 1em; text-align: center; vertical-align: top\">20060414</td>\n",
       "        <td style=\"padding-left: 1em; padding-right: 1em; text-align: center; vertical-align: top\">6</td>\n",
       "        <td style=\"padding-left: 1em; padding-right: 1em; text-align: center; vertical-align: top\">16</td>\n",
       "        <td style=\"padding-left: 1em; padding-right: 1em; text-align: center; vertical-align: top\">1</td>\n",
       "        <td style=\"padding-left: 1em; padding-right: 1em; text-align: center; vertical-align: top\">1.48</td>\n",
       "        <td style=\"padding-left: 1em; padding-right: 1em; text-align: center; vertical-align: top\">PRD0900021</td>\n",
       "        <td style=\"padding-left: 1em; padding-right: 1em; text-align: center; vertical-align: top\">CL00006</td>\n",
       "        <td style=\"padding-left: 1em; padding-right: 1em; text-align: center; vertical-align: top\">DEP00002</td>\n",
       "    </tr>\n",
       "    <tr>\n",
       "        <td style=\"padding-left: 1em; padding-right: 1em; text-align: center; vertical-align: top\">200607</td>\n",
       "        <td style=\"padding-left: 1em; padding-right: 1em; text-align: center; vertical-align: top\">20060411</td>\n",
       "        <td style=\"padding-left: 1em; padding-right: 1em; text-align: center; vertical-align: top\">3</td>\n",
       "        <td style=\"padding-left: 1em; padding-right: 1em; text-align: center; vertical-align: top\">20</td>\n",
       "        <td style=\"padding-left: 1em; padding-right: 1em; text-align: center; vertical-align: top\">1</td>\n",
       "        <td style=\"padding-left: 1em; padding-right: 1em; text-align: center; vertical-align: top\">1.38</td>\n",
       "        <td style=\"padding-left: 1em; padding-right: 1em; text-align: center; vertical-align: top\">PRD0900026</td>\n",
       "        <td style=\"padding-left: 1em; padding-right: 1em; text-align: center; vertical-align: top\">CL00144</td>\n",
       "        <td style=\"padding-left: 1em; padding-right: 1em; text-align: center; vertical-align: top\">DEP00051</td>\n",
       "    </tr>\n",
       "</table>\n",
       "<table frame=\"box\" rules=\"cols\">\n",
       "    <tr>\n",
       "        <th style=\"padding-left: 1em; padding-right: 1em; text-align: center\">PROD_CODE_30</th>\n",
       "        <th style=\"padding-left: 1em; padding-right: 1em; text-align: center\">PROD_CODE_40</th>\n",
       "        <th style=\"padding-left: 1em; padding-right: 1em; text-align: center\">CUST_CODE</th>\n",
       "        <th style=\"padding-left: 1em; padding-right: 1em; text-align: center\">CUST_PRICE_SENSITIVITY</th>\n",
       "        <th style=\"padding-left: 1em; padding-right: 1em; text-align: center\">CUST_LIFESTAGE</th>\n",
       "        <th style=\"padding-left: 1em; padding-right: 1em; text-align: center\">BASKET_ID</th>\n",
       "        <th style=\"padding-left: 1em; padding-right: 1em; text-align: center\">BASKET_SIZE</th>\n",
       "    </tr>\n",
       "    <tr>\n",
       "        <td style=\"padding-left: 1em; padding-right: 1em; text-align: center; vertical-align: top\">G00016</td>\n",
       "        <td style=\"padding-left: 1em; padding-right: 1em; text-align: center; vertical-align: top\">D00003</td>\n",
       "        <td style=\"padding-left: 1em; padding-right: 1em; text-align: center; vertical-align: top\">CUST0000167145</td>\n",
       "        <td style=\"padding-left: 1em; padding-right: 1em; text-align: center; vertical-align: top\">LA</td>\n",
       "        <td style=\"padding-left: 1em; padding-right: 1em; text-align: center; vertical-align: top\">YA</td>\n",
       "        <td style=\"padding-left: 1em; padding-right: 1em; text-align: center; vertical-align: top\">994100100253028</td>\n",
       "        <td style=\"padding-left: 1em; padding-right: 1em; text-align: center; vertical-align: top\">L</td>\n",
       "    </tr>\n",
       "    <tr>\n",
       "        <td style=\"padding-left: 1em; padding-right: 1em; text-align: center; vertical-align: top\">G00016</td>\n",
       "        <td style=\"padding-left: 1em; padding-right: 1em; text-align: center; vertical-align: top\">D00003</td>\n",
       "        <td style=\"padding-left: 1em; padding-right: 1em; text-align: center; vertical-align: top\">CUST0000246027</td>\n",
       "        <td style=\"padding-left: 1em; padding-right: 1em; text-align: center; vertical-align: top\">UM</td>\n",
       "        <td style=\"padding-left: 1em; padding-right: 1em; text-align: center; vertical-align: top\">YA</td>\n",
       "        <td style=\"padding-left: 1em; padding-right: 1em; text-align: center; vertical-align: top\">994100100299966</td>\n",
       "        <td style=\"padding-left: 1em; padding-right: 1em; text-align: center; vertical-align: top\">L</td>\n",
       "    </tr>\n",
       "    <tr>\n",
       "        <td style=\"padding-left: 1em; padding-right: 1em; text-align: center; vertical-align: top\">G00010</td>\n",
       "        <td style=\"padding-left: 1em; padding-right: 1em; text-align: center; vertical-align: top\">D00003</td>\n",
       "        <td style=\"padding-left: 1em; padding-right: 1em; text-align: center; vertical-align: top\">CUST0000140993</td>\n",
       "        <td style=\"padding-left: 1em; padding-right: 1em; text-align: center; vertical-align: top\">LA</td>\n",
       "        <td style=\"padding-left: 1em; padding-right: 1em; text-align: center; vertical-align: top\">OT</td>\n",
       "        <td style=\"padding-left: 1em; padding-right: 1em; text-align: center; vertical-align: top\">994100100237197</td>\n",
       "        <td style=\"padding-left: 1em; padding-right: 1em; text-align: center; vertical-align: top\">L</td>\n",
       "    </tr>\n",
       "    <tr>\n",
       "        <td style=\"padding-left: 1em; padding-right: 1em; text-align: center; vertical-align: top\">G00010</td>\n",
       "        <td style=\"padding-left: 1em; padding-right: 1em; text-align: center; vertical-align: top\">D00003</td>\n",
       "        <td style=\"padding-left: 1em; padding-right: 1em; text-align: center; vertical-align: top\">CUST0000938246</td>\n",
       "        <td style=\"padding-left: 1em; padding-right: 1em; text-align: center; vertical-align: top\">MM</td>\n",
       "        <td style=\"padding-left: 1em; padding-right: 1em; text-align: center; vertical-align: top\">OA</td>\n",
       "        <td style=\"padding-left: 1em; padding-right: 1em; text-align: center; vertical-align: top\">994100100715506</td>\n",
       "        <td style=\"padding-left: 1em; padding-right: 1em; text-align: center; vertical-align: top\">L</td>\n",
       "    </tr>\n",
       "    <tr>\n",
       "        <td style=\"padding-left: 1em; padding-right: 1em; text-align: center; vertical-align: top\">G00004</td>\n",
       "        <td style=\"padding-left: 1em; padding-right: 1em; text-align: center; vertical-align: top\">D00002</td>\n",
       "        <td style=\"padding-left: 1em; padding-right: 1em; text-align: center; vertical-align: top\">CUST0000994485</td>\n",
       "        <td style=\"padding-left: 1em; padding-right: 1em; text-align: center; vertical-align: top\">MM</td>\n",
       "        <td style=\"padding-left: 1em; padding-right: 1em; text-align: center; vertical-align: top\"></td>\n",
       "        <td style=\"padding-left: 1em; padding-right: 1em; text-align: center; vertical-align: top\">994100100749139</td>\n",
       "        <td style=\"padding-left: 1em; padding-right: 1em; text-align: center; vertical-align: top\">L</td>\n",
       "    </tr>\n",
       "    <tr>\n",
       "        <td style=\"padding-left: 1em; padding-right: 1em; text-align: center; vertical-align: top\">G00004</td>\n",
       "        <td style=\"padding-left: 1em; padding-right: 1em; text-align: center; vertical-align: top\">D00002</td>\n",
       "        <td style=\"padding-left: 1em; padding-right: 1em; text-align: center; vertical-align: top\"></td>\n",
       "        <td style=\"padding-left: 1em; padding-right: 1em; text-align: center; vertical-align: top\"></td>\n",
       "        <td style=\"padding-left: 1em; padding-right: 1em; text-align: center; vertical-align: top\"></td>\n",
       "        <td style=\"padding-left: 1em; padding-right: 1em; text-align: center; vertical-align: top\">994100100100943</td>\n",
       "        <td style=\"padding-left: 1em; padding-right: 1em; text-align: center; vertical-align: top\">L</td>\n",
       "    </tr>\n",
       "    <tr>\n",
       "        <td style=\"padding-left: 1em; padding-right: 1em; text-align: center; vertical-align: top\">G00008</td>\n",
       "        <td style=\"padding-left: 1em; padding-right: 1em; text-align: center; vertical-align: top\">D00002</td>\n",
       "        <td style=\"padding-left: 1em; padding-right: 1em; text-align: center; vertical-align: top\">CUST0000618211</td>\n",
       "        <td style=\"padding-left: 1em; padding-right: 1em; text-align: center; vertical-align: top\">LA</td>\n",
       "        <td style=\"padding-left: 1em; padding-right: 1em; text-align: center; vertical-align: top\">YF</td>\n",
       "        <td style=\"padding-left: 1em; padding-right: 1em; text-align: center; vertical-align: top\">994100100522743</td>\n",
       "        <td style=\"padding-left: 1em; padding-right: 1em; text-align: center; vertical-align: top\">L</td>\n",
       "    </tr>\n",
       "    <tr>\n",
       "        <td style=\"padding-left: 1em; padding-right: 1em; text-align: center; vertical-align: top\">G00014</td>\n",
       "        <td style=\"padding-left: 1em; padding-right: 1em; text-align: center; vertical-align: top\">D00003</td>\n",
       "        <td style=\"padding-left: 1em; padding-right: 1em; text-align: center; vertical-align: top\">CUST0000994485</td>\n",
       "        <td style=\"padding-left: 1em; padding-right: 1em; text-align: center; vertical-align: top\">MM</td>\n",
       "        <td style=\"padding-left: 1em; padding-right: 1em; text-align: center; vertical-align: top\"></td>\n",
       "        <td style=\"padding-left: 1em; padding-right: 1em; text-align: center; vertical-align: top\">994100100749139</td>\n",
       "        <td style=\"padding-left: 1em; padding-right: 1em; text-align: center; vertical-align: top\">L</td>\n",
       "    </tr>\n",
       "    <tr>\n",
       "        <td style=\"padding-left: 1em; padding-right: 1em; text-align: center; vertical-align: top\">G00001</td>\n",
       "        <td style=\"padding-left: 1em; padding-right: 1em; text-align: center; vertical-align: top\">D00001</td>\n",
       "        <td style=\"padding-left: 1em; padding-right: 1em; text-align: center; vertical-align: top\">CUST0000576800</td>\n",
       "        <td style=\"padding-left: 1em; padding-right: 1em; text-align: center; vertical-align: top\">MM</td>\n",
       "        <td style=\"padding-left: 1em; padding-right: 1em; text-align: center; vertical-align: top\">OA</td>\n",
       "        <td style=\"padding-left: 1em; padding-right: 1em; text-align: center; vertical-align: top\">994100100497892</td>\n",
       "        <td style=\"padding-left: 1em; padding-right: 1em; text-align: center; vertical-align: top\">L</td>\n",
       "    </tr>\n",
       "    <tr>\n",
       "        <td style=\"padding-left: 1em; padding-right: 1em; text-align: center; vertical-align: top\">G00015</td>\n",
       "        <td style=\"padding-left: 1em; padding-right: 1em; text-align: center; vertical-align: top\">D00003</td>\n",
       "        <td style=\"padding-left: 1em; padding-right: 1em; text-align: center; vertical-align: top\">CUST0000701067</td>\n",
       "        <td style=\"padding-left: 1em; padding-right: 1em; text-align: center; vertical-align: top\">MM</td>\n",
       "        <td style=\"padding-left: 1em; padding-right: 1em; text-align: center; vertical-align: top\">OT</td>\n",
       "        <td style=\"padding-left: 1em; padding-right: 1em; text-align: center; vertical-align: top\">994100100572935</td>\n",
       "        <td style=\"padding-left: 1em; padding-right: 1em; text-align: center; vertical-align: top\">S</td>\n",
       "    </tr>\n",
       "</table>\n",
       "<table frame=\"box\" rules=\"cols\">\n",
       "    <tr>\n",
       "        <th style=\"padding-left: 1em; padding-right: 1em; text-align: center\">BASKET_PRICE_SENSITIVITY</th>\n",
       "        <th style=\"padding-left: 1em; padding-right: 1em; text-align: center\">BASKET_TYPE</th>\n",
       "        <th style=\"padding-left: 1em; padding-right: 1em; text-align: center\">BASKET_DOMINANT_MISSION</th>\n",
       "        <th style=\"padding-left: 1em; padding-right: 1em; text-align: center\">STORE_CODE</th>\n",
       "        <th style=\"padding-left: 1em; padding-right: 1em; text-align: center\">STORE_FORMAT</th>\n",
       "        <th style=\"padding-left: 1em; padding-right: 1em; text-align: center\">STORE_REGION</th>\n",
       "    </tr>\n",
       "    <tr>\n",
       "        <td style=\"padding-left: 1em; padding-right: 1em; text-align: center; vertical-align: top\">MM</td>\n",
       "        <td style=\"padding-left: 1em; padding-right: 1em; text-align: center; vertical-align: top\">Top Up</td>\n",
       "        <td style=\"padding-left: 1em; padding-right: 1em; text-align: center; vertical-align: top\">Mixed</td>\n",
       "        <td style=\"padding-left: 1em; padding-right: 1em; text-align: center; vertical-align: top\">STORE00001</td>\n",
       "        <td style=\"padding-left: 1em; padding-right: 1em; text-align: center; vertical-align: top\">LS</td>\n",
       "        <td style=\"padding-left: 1em; padding-right: 1em; text-align: center; vertical-align: top\">E02</td>\n",
       "    </tr>\n",
       "    <tr>\n",
       "        <td style=\"padding-left: 1em; padding-right: 1em; text-align: center; vertical-align: top\">UM</td>\n",
       "        <td style=\"padding-left: 1em; padding-right: 1em; text-align: center; vertical-align: top\">Top Up</td>\n",
       "        <td style=\"padding-left: 1em; padding-right: 1em; text-align: center; vertical-align: top\">Fresh</td>\n",
       "        <td style=\"padding-left: 1em; padding-right: 1em; text-align: center; vertical-align: top\">STORE00001</td>\n",
       "        <td style=\"padding-left: 1em; padding-right: 1em; text-align: center; vertical-align: top\">LS</td>\n",
       "        <td style=\"padding-left: 1em; padding-right: 1em; text-align: center; vertical-align: top\">E02</td>\n",
       "    </tr>\n",
       "    <tr>\n",
       "        <td style=\"padding-left: 1em; padding-right: 1em; text-align: center; vertical-align: top\">MM</td>\n",
       "        <td style=\"padding-left: 1em; padding-right: 1em; text-align: center; vertical-align: top\">Full Shop</td>\n",
       "        <td style=\"padding-left: 1em; padding-right: 1em; text-align: center; vertical-align: top\">Mixed</td>\n",
       "        <td style=\"padding-left: 1em; padding-right: 1em; text-align: center; vertical-align: top\">STORE00001</td>\n",
       "        <td style=\"padding-left: 1em; padding-right: 1em; text-align: center; vertical-align: top\">LS</td>\n",
       "        <td style=\"padding-left: 1em; padding-right: 1em; text-align: center; vertical-align: top\">E02</td>\n",
       "    </tr>\n",
       "    <tr>\n",
       "        <td style=\"padding-left: 1em; padding-right: 1em; text-align: center; vertical-align: top\">MM</td>\n",
       "        <td style=\"padding-left: 1em; padding-right: 1em; text-align: center; vertical-align: top\">Full Shop</td>\n",
       "        <td style=\"padding-left: 1em; padding-right: 1em; text-align: center; vertical-align: top\">Fresh</td>\n",
       "        <td style=\"padding-left: 1em; padding-right: 1em; text-align: center; vertical-align: top\">STORE00001</td>\n",
       "        <td style=\"padding-left: 1em; padding-right: 1em; text-align: center; vertical-align: top\">LS</td>\n",
       "        <td style=\"padding-left: 1em; padding-right: 1em; text-align: center; vertical-align: top\">E02</td>\n",
       "    </tr>\n",
       "    <tr>\n",
       "        <td style=\"padding-left: 1em; padding-right: 1em; text-align: center; vertical-align: top\">UM</td>\n",
       "        <td style=\"padding-left: 1em; padding-right: 1em; text-align: center; vertical-align: top\">Full Shop</td>\n",
       "        <td style=\"padding-left: 1em; padding-right: 1em; text-align: center; vertical-align: top\">Mixed</td>\n",
       "        <td style=\"padding-left: 1em; padding-right: 1em; text-align: center; vertical-align: top\">STORE00001</td>\n",
       "        <td style=\"padding-left: 1em; padding-right: 1em; text-align: center; vertical-align: top\">LS</td>\n",
       "        <td style=\"padding-left: 1em; padding-right: 1em; text-align: center; vertical-align: top\">E02</td>\n",
       "    </tr>\n",
       "    <tr>\n",
       "        <td style=\"padding-left: 1em; padding-right: 1em; text-align: center; vertical-align: top\">UM</td>\n",
       "        <td style=\"padding-left: 1em; padding-right: 1em; text-align: center; vertical-align: top\">Top Up</td>\n",
       "        <td style=\"padding-left: 1em; padding-right: 1em; text-align: center; vertical-align: top\">Fresh</td>\n",
       "        <td style=\"padding-left: 1em; padding-right: 1em; text-align: center; vertical-align: top\">STORE00001</td>\n",
       "        <td style=\"padding-left: 1em; padding-right: 1em; text-align: center; vertical-align: top\">LS</td>\n",
       "        <td style=\"padding-left: 1em; padding-right: 1em; text-align: center; vertical-align: top\">E02</td>\n",
       "    </tr>\n",
       "    <tr>\n",
       "        <td style=\"padding-left: 1em; padding-right: 1em; text-align: center; vertical-align: top\">LA</td>\n",
       "        <td style=\"padding-left: 1em; padding-right: 1em; text-align: center; vertical-align: top\">Full Shop</td>\n",
       "        <td style=\"padding-left: 1em; padding-right: 1em; text-align: center; vertical-align: top\">Fresh</td>\n",
       "        <td style=\"padding-left: 1em; padding-right: 1em; text-align: center; vertical-align: top\">STORE00001</td>\n",
       "        <td style=\"padding-left: 1em; padding-right: 1em; text-align: center; vertical-align: top\">LS</td>\n",
       "        <td style=\"padding-left: 1em; padding-right: 1em; text-align: center; vertical-align: top\">E02</td>\n",
       "    </tr>\n",
       "    <tr>\n",
       "        <td style=\"padding-left: 1em; padding-right: 1em; text-align: center; vertical-align: top\">UM</td>\n",
       "        <td style=\"padding-left: 1em; padding-right: 1em; text-align: center; vertical-align: top\">Full Shop</td>\n",
       "        <td style=\"padding-left: 1em; padding-right: 1em; text-align: center; vertical-align: top\">Mixed</td>\n",
       "        <td style=\"padding-left: 1em; padding-right: 1em; text-align: center; vertical-align: top\">STORE00001</td>\n",
       "        <td style=\"padding-left: 1em; padding-right: 1em; text-align: center; vertical-align: top\">LS</td>\n",
       "        <td style=\"padding-left: 1em; padding-right: 1em; text-align: center; vertical-align: top\">E02</td>\n",
       "    </tr>\n",
       "    <tr>\n",
       "        <td style=\"padding-left: 1em; padding-right: 1em; text-align: center; vertical-align: top\">MM</td>\n",
       "        <td style=\"padding-left: 1em; padding-right: 1em; text-align: center; vertical-align: top\">Top Up</td>\n",
       "        <td style=\"padding-left: 1em; padding-right: 1em; text-align: center; vertical-align: top\">Fresh</td>\n",
       "        <td style=\"padding-left: 1em; padding-right: 1em; text-align: center; vertical-align: top\">STORE00001</td>\n",
       "        <td style=\"padding-left: 1em; padding-right: 1em; text-align: center; vertical-align: top\">LS</td>\n",
       "        <td style=\"padding-left: 1em; padding-right: 1em; text-align: center; vertical-align: top\">E02</td>\n",
       "    </tr>\n",
       "    <tr>\n",
       "        <td style=\"padding-left: 1em; padding-right: 1em; text-align: center; vertical-align: top\">MM</td>\n",
       "        <td style=\"padding-left: 1em; padding-right: 1em; text-align: center; vertical-align: top\">Small Shop</td>\n",
       "        <td style=\"padding-left: 1em; padding-right: 1em; text-align: center; vertical-align: top\">Mixed</td>\n",
       "        <td style=\"padding-left: 1em; padding-right: 1em; text-align: center; vertical-align: top\">STORE00001</td>\n",
       "        <td style=\"padding-left: 1em; padding-right: 1em; text-align: center; vertical-align: top\">LS</td>\n",
       "        <td style=\"padding-left: 1em; padding-right: 1em; text-align: center; vertical-align: top\">E02</td>\n",
       "    </tr>\n",
       "</table>\n",
       "[33850823 rows x 22 columns]<br/>Note: Only the head of the SFrame is printed.<br/>You can use print_rows(num_rows=m, num_columns=n) to print more rows and columns.\n",
       "</div>"
      ],
      "text/plain": [
       "Columns:\n",
       "\tSHOP_WEEK\tint\n",
       "\tSHOP_DATE\tint\n",
       "\tSHOP_WEEKDAY\tint\n",
       "\tSHOP_HOUR\tint\n",
       "\tQUANTITY\tint\n",
       "\tSPEND\tfloat\n",
       "\tPROD_CODE\tstr\n",
       "\tPROD_CODE_10\tstr\n",
       "\tPROD_CODE_20\tstr\n",
       "\tPROD_CODE_30\tstr\n",
       "\tPROD_CODE_40\tstr\n",
       "\tCUST_CODE\tstr\n",
       "\tCUST_PRICE_SENSITIVITY\tstr\n",
       "\tCUST_LIFESTAGE\tstr\n",
       "\tBASKET_ID\tint\n",
       "\tBASKET_SIZE\tstr\n",
       "\tBASKET_PRICE_SENSITIVITY\tstr\n",
       "\tBASKET_TYPE\tstr\n",
       "\tBASKET_DOMINANT_MISSION\tstr\n",
       "\tSTORE_CODE\tstr\n",
       "\tSTORE_FORMAT\tstr\n",
       "\tSTORE_REGION\tstr\n",
       "\n",
       "Rows: 33850823\n",
       "\n",
       "Data:\n",
       "+-----------+-----------+--------------+-----------+----------+-------+\n",
       "| SHOP_WEEK | SHOP_DATE | SHOP_WEEKDAY | SHOP_HOUR | QUANTITY | SPEND |\n",
       "+-----------+-----------+--------------+-----------+----------+-------+\n",
       "|   200607  |  20060410 |      2       |     16    |    1     |  1.01 |\n",
       "|   200607  |  20060416 |      1       |     9     |    3     |  3.03 |\n",
       "|   200607  |  20060413 |      5       |     19    |    1     |  0.22 |\n",
       "|   200607  |  20060416 |      1       |     17    |    1     |  0.22 |\n",
       "|   200607  |  20060414 |      6       |     17    |    1     |  1.77 |\n",
       "|   200607  |  20060411 |      3       |     16    |    1     |  1.05 |\n",
       "|   200607  |  20060411 |      3       |     14    |    1     |  0.92 |\n",
       "|   200607  |  20060414 |      6       |     17    |    1     |  1.99 |\n",
       "|   200607  |  20060414 |      6       |     16    |    1     |  1.48 |\n",
       "|   200607  |  20060411 |      3       |     20    |    1     |  1.38 |\n",
       "+-----------+-----------+--------------+-----------+----------+-------+\n",
       "+------------+--------------+--------------+--------------+--------------+\n",
       "| PROD_CODE  | PROD_CODE_10 | PROD_CODE_20 | PROD_CODE_30 | PROD_CODE_40 |\n",
       "+------------+--------------+--------------+--------------+--------------+\n",
       "| PRD0900005 |   CL00155    |   DEP00053   |    G00016    |    D00003    |\n",
       "| PRD0900005 |   CL00155    |   DEP00053   |    G00016    |    D00003    |\n",
       "| PRD0900006 |   CL00103    |   DEP00035   |    G00010    |    D00003    |\n",
       "| PRD0900007 |   CL00103    |   DEP00035   |    G00010    |    D00003    |\n",
       "| PRD0900008 |   CL00042    |   DEP00011   |    G00004    |    D00002    |\n",
       "| PRD0900011 |   CL00033    |   DEP00008   |    G00004    |    D00002    |\n",
       "| PRD0900014 |   CL00089    |   DEP00025   |    G00008    |    D00002    |\n",
       "| PRD0900017 |   CL00140    |   DEP00049   |    G00014    |    D00003    |\n",
       "| PRD0900021 |   CL00006    |   DEP00002   |    G00001    |    D00001    |\n",
       "| PRD0900026 |   CL00144    |   DEP00051   |    G00015    |    D00003    |\n",
       "+------------+--------------+--------------+--------------+--------------+\n",
       "+----------------+------------------------+----------------+-----------------+-------------+\n",
       "|   CUST_CODE    | CUST_PRICE_SENSITIVITY | CUST_LIFESTAGE |    BASKET_ID    | BASKET_SIZE |\n",
       "+----------------+------------------------+----------------+-----------------+-------------+\n",
       "| CUST0000167145 |           LA           |       YA       | 994100100253028 |      L      |\n",
       "| CUST0000246027 |           UM           |       YA       | 994100100299966 |      L      |\n",
       "| CUST0000140993 |           LA           |       OT       | 994100100237197 |      L      |\n",
       "| CUST0000938246 |           MM           |       OA       | 994100100715506 |      L      |\n",
       "| CUST0000994485 |           MM           |                | 994100100749139 |      L      |\n",
       "|                |                        |                | 994100100100943 |      L      |\n",
       "| CUST0000618211 |           LA           |       YF       | 994100100522743 |      L      |\n",
       "| CUST0000994485 |           MM           |                | 994100100749139 |      L      |\n",
       "| CUST0000576800 |           MM           |       OA       | 994100100497892 |      L      |\n",
       "| CUST0000701067 |           MM           |       OT       | 994100100572935 |      S      |\n",
       "+----------------+------------------------+----------------+-----------------+-------------+\n",
       "+--------------------------+-------------+-------------------------+------------+-----+\n",
       "| BASKET_PRICE_SENSITIVITY | BASKET_TYPE | BASKET_DOMINANT_MISSION | STORE_CODE | ... |\n",
       "+--------------------------+-------------+-------------------------+------------+-----+\n",
       "|            MM            |    Top Up   |          Mixed          | STORE00001 | ... |\n",
       "|            UM            |    Top Up   |          Fresh          | STORE00001 | ... |\n",
       "|            MM            |  Full Shop  |          Mixed          | STORE00001 | ... |\n",
       "|            MM            |  Full Shop  |          Fresh          | STORE00001 | ... |\n",
       "|            UM            |  Full Shop  |          Mixed          | STORE00001 | ... |\n",
       "|            UM            |    Top Up   |          Fresh          | STORE00001 | ... |\n",
       "|            LA            |  Full Shop  |          Fresh          | STORE00001 | ... |\n",
       "|            UM            |  Full Shop  |          Mixed          | STORE00001 | ... |\n",
       "|            MM            |    Top Up   |          Fresh          | STORE00001 | ... |\n",
       "|            MM            |  Small Shop |          Mixed          | STORE00001 | ... |\n",
       "+--------------------------+-------------+-------------------------+------------+-----+\n",
       "[33850823 rows x 22 columns]\n",
       "Note: Only the head of the SFrame is printed.\n",
       "You can use print_rows(num_rows=m, num_columns=n) to print more rows and columns."
      ]
     },
     "execution_count": 116,
     "metadata": {},
     "output_type": "execute_result"
    }
   ],
   "source": [
    "# Row count\n",
    "print(sf1.num_rows())\n",
    "# sf1\n",
    "# displays number of Rows\n",
    "print sf1.column_names()\n",
    "\n",
    "# groupby\n",
    "sf2 = sf1.groupby(key_columns='SHOP_WEEK', operations={'count': sf.aggregate.COUNT()})"
   ]
  },
  {
   "cell_type": "markdown",
   "metadata": {},
   "source": [
    "##### Create a variable based on if-else\n",
    "\n",
    "We don't have a direct way like pandas, however we can use functions or lambdas to apply if else and other control structures on SFrames"
   ]
  },
  {
   "cell_type": "code",
   "execution_count": 114,
   "metadata": {
    "collapsed": false
   },
   "outputs": [],
   "source": [
    "sf1['new_var'] = sf1['SPEND','SHOP_HOUR'].apply(lambda x : 'good' if x['SPEND'] > 2 & x['SHOP_HOUR'] > 10 \n",
    "                                                                  else 'ok' if 2 >= x['SPEND'] > 1 & x['SHOP_HOUR'] <= 10 \n",
    "                                                                  else 'not good' )"
   ]
  },
  {
   "cell_type": "code",
   "execution_count": null,
   "metadata": {
    "collapsed": true
   },
   "outputs": [],
   "source": []
  },
  {
   "cell_type": "code",
   "execution_count": null,
   "metadata": {
    "collapsed": true
   },
   "outputs": [],
   "source": []
  },
  {
   "cell_type": "markdown",
   "metadata": {},
   "source": [
    "# Working Dask Dataframe operations from here"
   ]
  },
  {
   "cell_type": "code",
   "execution_count": null,
   "metadata": {
    "collapsed": true
   },
   "outputs": [],
   "source": [
    "import dask.dataframe as dd"
   ]
  },
  {
   "cell_type": "code",
   "execution_count": null,
   "metadata": {
    "collapsed": false
   },
   "outputs": [],
   "source": []
  }
 ],
 "metadata": {
  "kernelspec": {
   "display_name": "Python 3",
   "language": "python",
   "name": "python3"
  },
  "language_info": {
   "codemirror_mode": {
    "name": "ipython",
    "version": 3
   },
   "file_extension": ".py",
   "mimetype": "text/x-python",
   "name": "python",
   "nbconvert_exporter": "python",
   "pygments_lexer": "ipython3",
   "version": "3.4.3"
  }
 },
 "nbformat": 4,
 "nbformat_minor": 0
}
