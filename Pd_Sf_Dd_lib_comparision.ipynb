{
 "cells": [
  {
   "cell_type": "markdown",
   "metadata": {
    "collapsed": true
   },
   "source": [
    "# The notebook is to compare Pandas , SFrames and Dask on their capabilities of Data processing.\n",
    "\n",
    "### The challenge with Pandas is it is only in Memory processing, we need to find an alternative to it for processing larger than RAM datasets\n"
   ]
  },
  {
   "cell_type": "markdown",
   "metadata": {},
   "source": [
    "# Writing Pandas operations\n",
    "\n",
    "#### Testing what all operations are there when compared to sas and how they work out on Space and Time usage"
   ]
  },
  {
   "cell_type": "code",
   "execution_count": null,
<<<<<<< HEAD
   "metadata": {},
=======
   "metadata": {
    "collapsed": false
   },
>>>>>>> 405479cc1113c3a343a1cfb5751208c616682493
   "outputs": [],
   "source": [
    "import pandas as pd, numpy as np, scipy as sp, sklearn as sk\n",
    "pd , np , sp , sk"
   ]
  },
  {
   "cell_type": "code",
   "execution_count": null,
   "metadata": {
<<<<<<< HEAD
=======
    "collapsed": false,
>>>>>>> 405479cc1113c3a343a1cfb5751208c616682493
    "scrolled": false
   },
   "outputs": [],
   "source": [
    "filedir = '/nfs/science/public/tool-eval/sframe/puneett/'\n",
    "filen = ['transactions_200607.csv', 'transactions_200608.csv','transactions_200609.csv','transactions_200610.csv',\n",
    "            'transactions_200611.csv','transactions_200612.csv','transactions_200613.csv','transactions_200614.csv',\n",
    "            'transactions_200615.csv','transactions_200616.csv','transactions_200617.csv','transactions_200618.csv',\n",
    "            'transactions_200619.csv']\n",
    "filename = []\n",
    "for i in filen:\n",
    "    filename.append(filedir+i)\n",
    "print(filename)\n",
    "df = pd.concat([pd.read_csv(x) for x in filename])"
   ]
  },
  {
   "cell_type": "code",
   "execution_count": null,
<<<<<<< HEAD
   "metadata": {},
=======
   "metadata": {
    "collapsed": false
   },
>>>>>>> 405479cc1113c3a343a1cfb5751208c616682493
   "outputs": [],
   "source": [
    "df.head()"
   ]
  },
  {
   "cell_type": "code",
   "execution_count": null,
   "metadata": {
<<<<<<< HEAD
=======
    "collapsed": false,
>>>>>>> 405479cc1113c3a343a1cfb5751208c616682493
    "scrolled": true
   },
   "outputs": [],
   "source": [
    "df['SHOP_WEEK'].count()"
   ]
  },
  {
   "cell_type": "code",
   "execution_count": null,
   "metadata": {
    "collapsed": true
   },
   "outputs": [],
   "source": [
    "%time df.describe"
   ]
  },
  {
   "cell_type": "code",
   "execution_count": 88,
<<<<<<< HEAD
   "metadata": {},
=======
   "metadata": {
    "collapsed": false
   },
>>>>>>> 405479cc1113c3a343a1cfb5751208c616682493
   "outputs": [],
   "source": [
    "#Sorting dataframe Pandas\n",
    "df = df.sort_values(by=['SHOP_WEEK','PROD_CODE'], ascending=[True,False])\n",
    "# df['SHOP_WEEK'].unique()"
   ]
  },
  {
   "cell_type": "code",
   "execution_count": null,
<<<<<<< HEAD
   "metadata": {},
=======
   "metadata": {
    "collapsed": false
   },
>>>>>>> 405479cc1113c3a343a1cfb5751208c616682493
   "outputs": [],
   "source": [
    "#Using if else logic to create variable\n",
    "df['TEST_VAR'] = [\n",
    "                  'THIS' if x == 200607 else\n",
    "                  'NOT THIS' if x == 200608 else\n",
    "                  'THAT' if x == 200609 else 'NONE'\n",
    "                  for x in df['SHOP_WEEK']                  \n",
    "                  ]\n",
    "df['TEST_VAR'].unique()"
   ]
  },
  {
   "cell_type": "markdown",
   "metadata": {},
   "source": [
    "##### dropping duplicates and performing aggregates"
   ]
  },
  {
   "cell_type": "code",
   "execution_count": null,
<<<<<<< HEAD
   "metadata": {},
=======
   "metadata": {
    "collapsed": false
   },
>>>>>>> 405479cc1113c3a343a1cfb5751208c616682493
   "outputs": [],
   "source": [
    "# pd.DataFrame(df[['CUST_CODE','SHOP_WEEK']].drop_duplicates()).groupby('SHOP_WEEK').count()\n",
    "pd.DataFrame(df.drop_duplicates()).groupby('SHOP_WEEK').sum()['SPEND']"
   ]
  },
  {
   "cell_type": "code",
   "execution_count": null,
   "metadata": {
<<<<<<< HEAD
=======
    "collapsed": false,
>>>>>>> 405479cc1113c3a343a1cfb5751208c616682493
    "scrolled": true
   },
   "outputs": [],
   "source": [
    "df.head(10)"
   ]
  },
  {
   "cell_type": "code",
   "execution_count": null,
   "metadata": {
    "collapsed": true
   },
   "outputs": [],
   "source": []
  },
  {
   "cell_type": "code",
   "execution_count": null,
<<<<<<< HEAD
   "metadata": {},
=======
   "metadata": {
    "collapsed": false
   },
>>>>>>> 405479cc1113c3a343a1cfb5751208c616682493
   "outputs": [],
   "source": []
  },
  {
   "cell_type": "markdown",
   "metadata": {},
   "source": [
    "# Working SFrame operations from here"
   ]
  },
  {
   "cell_type": "markdown",
   "metadata": {},
   "source": [
    "### Sframes are out-of-core dataframes. \n",
    "\n",
    "#### What does that means?\n",
    "It means that one can store any size of data in Sframe until they run out of memory as well as disk space.\n",
    "\n",
    "##### Currently, SFrame can be created from the following data formats:\n",
    "\n",
    "    csv file (comma separated value)\n",
    "    sframe directory archive (A directory where an sframe was saved previously)\n",
    "    general text file (with csv parsing options, See read_csv())\n",
    "    a Python dictionary\n",
    "    pandas.DataFrame\n",
    "    JSON\n",
    "    Apache Avro\n",
    "    PySpark RDD\n",
    "\n",
    "##### and from the following sources:\n",
    "\n",
    "    your local file system\n",
    "    the GraphLab Server’s file system\n",
    "    HDFS\n",
    "    Amazon S3\n",
    "    HTTP(S)."
   ]
  },
  {
   "cell_type": "code",
   "execution_count": 91,
<<<<<<< HEAD
   "metadata": {},
=======
   "metadata": {
    "collapsed": false
   },
>>>>>>> 405479cc1113c3a343a1cfb5751208c616682493
   "outputs": [],
   "source": [
    "import sframe as sf\n",
    "from sframe import SFrame"
   ]
  },
  {
   "cell_type": "code",
   "execution_count": 92,
<<<<<<< HEAD
   "metadata": {},
=======
   "metadata": {
    "collapsed": false
   },
>>>>>>> 405479cc1113c3a343a1cfb5751208c616682493
   "outputs": [
    {
     "name": "stdout",
     "output_type": "stream",
     "text": [
      "['/nfs/science/public/tool-eval/sframe/puneett/transactions_200607.csv', '/nfs/science/public/tool-eval/sframe/puneett/transactions_200608.csv', '/nfs/science/public/tool-eval/sframe/puneett/transactions_200609.csv', '/nfs/science/public/tool-eval/sframe/puneett/transactions_200610.csv', '/nfs/science/public/tool-eval/sframe/puneett/transactions_200611.csv', '/nfs/science/public/tool-eval/sframe/puneett/transactions_200612.csv', '/nfs/science/public/tool-eval/sframe/puneett/transactions_200613.csv', '/nfs/science/public/tool-eval/sframe/puneett/transactions_200614.csv', '/nfs/science/public/tool-eval/sframe/puneett/transactions_200615.csv', '/nfs/science/public/tool-eval/sframe/puneett/transactions_200616.csv', '/nfs/science/public/tool-eval/sframe/puneett/transactions_200617.csv', '/nfs/science/public/tool-eval/sframe/puneett/transactions_200618.csv', '/nfs/science/public/tool-eval/sframe/puneett/transactions_200619.csv']\n"
     ]
    },
    {
     "data": {
      "text/html": [
       "<pre>Finished parsing file /nfs/science/public/tool-eval/sframe/puneett/transactions_200607.csv</pre>"
      ],
      "text/plain": [
       "Finished parsing file /nfs/science/public/tool-eval/sframe/puneett/transactions_200607.csv"
      ]
     },
     "metadata": {},
     "output_type": "display_data"
    },
    {
     "data": {
      "text/html": [
       "<pre>Parsing completed. Parsed 100 lines in 2.0831 secs.</pre>"
      ],
      "text/plain": [
       "Parsing completed. Parsed 100 lines in 2.0831 secs."
      ]
     },
     "metadata": {},
     "output_type": "display_data"
    },
    {
     "name": "stdout",
     "output_type": "stream",
     "text": [
      "------------------------------------------------------\n",
      "Inferred types from first 100 line(s) of file as \n",
      "column_type_hints=[int,int,int,int,int,float,str,str,str,str,str,str,str,str,int,str,str,str,str,str,str,str]\n",
      "If parsing fails due to incorrect types, you can correct\n",
      "the inferred type list above and pass it to read_csv in\n",
      "the column_type_hints argument\n",
      "------------------------------------------------------\n"
     ]
    },
    {
     "data": {
      "text/html": [
       "<pre>Read 368617 lines. Lines per second: 173060</pre>"
      ],
      "text/plain": [
       "Read 368617 lines. Lines per second: 173060"
      ]
     },
     "metadata": {},
     "output_type": "display_data"
    },
    {
     "data": {
      "text/html": [
       "<pre>Read 1473313 lines. Lines per second: 161536</pre>"
      ],
      "text/plain": [
       "Read 1473313 lines. Lines per second: 161536"
      ]
     },
     "metadata": {},
     "output_type": "display_data"
    },
    {
     "data": {
      "text/html": [
       "<pre>Finished parsing file /nfs/science/public/tool-eval/sframe/puneett/transactions_200607.csv</pre>"
      ],
      "text/plain": [
       "Finished parsing file /nfs/science/public/tool-eval/sframe/puneett/transactions_200607.csv"
      ]
     },
     "metadata": {},
     "output_type": "display_data"
    },
    {
     "data": {
      "text/html": [
       "<pre>Parsing completed. Parsed 2481430 lines in 15.84 secs.</pre>"
      ],
      "text/plain": [
       "Parsing completed. Parsed 2481430 lines in 15.84 secs."
      ]
     },
     "metadata": {},
     "output_type": "display_data"
    },
    {
     "data": {
      "text/html": [
       "<pre>Finished parsing file /nfs/science/public/tool-eval/sframe/puneett/transactions_200608.csv</pre>"
      ],
      "text/plain": [
       "Finished parsing file /nfs/science/public/tool-eval/sframe/puneett/transactions_200608.csv"
      ]
     },
     "metadata": {},
     "output_type": "display_data"
    },
    {
     "data": {
      "text/html": [
       "<pre>Parsing completed. Parsed 100 lines in 1.7622 secs.</pre>"
      ],
      "text/plain": [
       "Parsing completed. Parsed 100 lines in 1.7622 secs."
      ]
     },
     "metadata": {},
     "output_type": "display_data"
    },
    {
     "name": "stdout",
     "output_type": "stream",
     "text": [
      "------------------------------------------------------\n",
      "Inferred types from first 100 line(s) of file as \n",
      "column_type_hints=[int,int,int,int,int,float,str,str,str,str,str,str,str,str,int,str,str,str,str,str,str,str]\n",
      "If parsing fails due to incorrect types, you can correct\n",
      "the inferred type list above and pass it to read_csv in\n",
      "the column_type_hints argument\n",
      "------------------------------------------------------\n"
     ]
    },
    {
     "data": {
      "text/html": [
       "<pre>Read 368514 lines. Lines per second: 223449</pre>"
      ],
      "text/plain": [
       "Read 368514 lines. Lines per second: 223449"
      ]
     },
     "metadata": {},
     "output_type": "display_data"
    },
    {
     "data": {
      "text/html": [
       "<pre>Read 1473624 lines. Lines per second: 165323</pre>"
      ],
      "text/plain": [
       "Read 1473624 lines. Lines per second: 165323"
      ]
     },
     "metadata": {},
     "output_type": "display_data"
    },
    {
     "data": {
      "text/html": [
       "<pre>Read 2209954 lines. Lines per second: 153996</pre>"
      ],
      "text/plain": [
       "Read 2209954 lines. Lines per second: 153996"
      ]
     },
     "metadata": {},
     "output_type": "display_data"
    },
    {
     "data": {
      "text/html": [
       "<pre>Finished parsing file /nfs/science/public/tool-eval/sframe/puneett/transactions_200608.csv</pre>"
      ],
      "text/plain": [
       "Finished parsing file /nfs/science/public/tool-eval/sframe/puneett/transactions_200608.csv"
      ]
     },
     "metadata": {},
     "output_type": "display_data"
    },
    {
     "data": {
      "text/html": [
       "<pre>Parsing completed. Parsed 2543145 lines in 16.4714 secs.</pre>"
      ],
      "text/plain": [
       "Parsing completed. Parsed 2543145 lines in 16.4714 secs."
      ]
     },
     "metadata": {},
     "output_type": "display_data"
    },
    {
     "data": {
      "text/html": [
       "<pre>Finished parsing file /nfs/science/public/tool-eval/sframe/puneett/transactions_200609.csv</pre>"
      ],
      "text/plain": [
       "Finished parsing file /nfs/science/public/tool-eval/sframe/puneett/transactions_200609.csv"
      ]
     },
     "metadata": {},
     "output_type": "display_data"
    },
    {
     "data": {
      "text/html": [
       "<pre>Parsing completed. Parsed 100 lines in 1.75526 secs.</pre>"
      ],
      "text/plain": [
       "Parsing completed. Parsed 100 lines in 1.75526 secs."
      ]
     },
     "metadata": {},
     "output_type": "display_data"
    },
    {
     "name": "stdout",
     "output_type": "stream",
     "text": [
      "------------------------------------------------------\n",
      "Inferred types from first 100 line(s) of file as \n",
      "column_type_hints=[int,int,int,int,int,float,str,str,str,str,str,str,str,str,int,str,str,str,str,str,str,str]\n",
      "If parsing fails due to incorrect types, you can correct\n",
      "the inferred type list above and pass it to read_csv in\n",
      "the column_type_hints argument\n",
      "------------------------------------------------------\n"
     ]
    },
    {
     "data": {
      "text/html": [
       "<pre>Read 368275 lines. Lines per second: 221533</pre>"
      ],
      "text/plain": [
       "Read 368275 lines. Lines per second: 221533"
      ]
     },
     "metadata": {},
     "output_type": "display_data"
    },
    {
     "data": {
      "text/html": [
       "<pre>Read 1472865 lines. Lines per second: 173463</pre>"
      ],
      "text/plain": [
       "Read 1472865 lines. Lines per second: 173463"
      ]
     },
     "metadata": {},
     "output_type": "display_data"
    },
    {
     "data": {
      "text/html": [
       "<pre>Read 2209113 lines. Lines per second: 160486</pre>"
      ],
      "text/plain": [
       "Read 2209113 lines. Lines per second: 160486"
      ]
     },
     "metadata": {},
     "output_type": "display_data"
    },
    {
     "data": {
      "text/html": [
       "<pre>Finished parsing file /nfs/science/public/tool-eval/sframe/puneett/transactions_200609.csv</pre>"
      ],
      "text/plain": [
       "Finished parsing file /nfs/science/public/tool-eval/sframe/puneett/transactions_200609.csv"
      ]
     },
     "metadata": {},
     "output_type": "display_data"
    },
    {
     "data": {
      "text/html": [
       "<pre>Parsing completed. Parsed 2633216 lines in 16.4819 secs.</pre>"
      ],
      "text/plain": [
       "Parsing completed. Parsed 2633216 lines in 16.4819 secs."
      ]
     },
     "metadata": {},
     "output_type": "display_data"
    },
    {
     "data": {
      "text/html": [
       "<pre>Finished parsing file /nfs/science/public/tool-eval/sframe/puneett/transactions_200610.csv</pre>"
      ],
      "text/plain": [
       "Finished parsing file /nfs/science/public/tool-eval/sframe/puneett/transactions_200610.csv"
      ]
     },
     "metadata": {},
     "output_type": "display_data"
    },
    {
     "data": {
      "text/html": [
       "<pre>Parsing completed. Parsed 100 lines in 1.81463 secs.</pre>"
      ],
      "text/plain": [
       "Parsing completed. Parsed 100 lines in 1.81463 secs."
      ]
     },
     "metadata": {},
     "output_type": "display_data"
    },
    {
     "name": "stdout",
     "output_type": "stream",
     "text": [
      "------------------------------------------------------\n",
      "Inferred types from first 100 line(s) of file as \n",
      "column_type_hints=[int,int,int,int,int,float,str,str,str,str,str,str,str,str,int,str,str,str,str,str,str,str]\n",
      "If parsing fails due to incorrect types, you can correct\n",
      "the inferred type list above and pass it to read_csv in\n",
      "the column_type_hints argument\n",
      "------------------------------------------------------\n"
     ]
    },
    {
     "data": {
      "text/html": [
       "<pre>Read 368627 lines. Lines per second: 200510</pre>"
      ],
      "text/plain": [
       "Read 368627 lines. Lines per second: 200510"
      ]
     },
     "metadata": {},
     "output_type": "display_data"
    },
    {
     "data": {
      "text/html": [
       "<pre>Read 1473708 lines. Lines per second: 160558</pre>"
      ],
      "text/plain": [
       "Read 1473708 lines. Lines per second: 160558"
      ]
     },
     "metadata": {},
     "output_type": "display_data"
    },
    {
     "data": {
      "text/html": [
       "<pre>Read 2210355 lines. Lines per second: 149082</pre>"
      ],
      "text/plain": [
       "Read 2210355 lines. Lines per second: 149082"
      ]
     },
     "metadata": {},
     "output_type": "display_data"
    },
    {
     "data": {
      "text/html": [
       "<pre>Finished parsing file /nfs/science/public/tool-eval/sframe/puneett/transactions_200610.csv</pre>"
      ],
      "text/plain": [
       "Finished parsing file /nfs/science/public/tool-eval/sframe/puneett/transactions_200610.csv"
      ]
     },
     "metadata": {},
     "output_type": "display_data"
    },
    {
     "data": {
      "text/html": [
       "<pre>Parsing completed. Parsed 2609027 lines in 17.0755 secs.</pre>"
      ],
      "text/plain": [
       "Parsing completed. Parsed 2609027 lines in 17.0755 secs."
      ]
     },
     "metadata": {},
     "output_type": "display_data"
    },
    {
     "data": {
      "text/html": [
       "<pre>Finished parsing file /nfs/science/public/tool-eval/sframe/puneett/transactions_200611.csv</pre>"
      ],
      "text/plain": [
       "Finished parsing file /nfs/science/public/tool-eval/sframe/puneett/transactions_200611.csv"
      ]
     },
     "metadata": {},
     "output_type": "display_data"
    },
    {
     "data": {
      "text/html": [
       "<pre>Parsing completed. Parsed 100 lines in 1.3016 secs.</pre>"
      ],
      "text/plain": [
       "Parsing completed. Parsed 100 lines in 1.3016 secs."
      ]
     },
     "metadata": {},
     "output_type": "display_data"
    },
    {
     "name": "stdout",
     "output_type": "stream",
     "text": [
      "------------------------------------------------------\n",
      "Inferred types from first 100 line(s) of file as \n",
      "column_type_hints=[int,int,int,int,int,float,str,str,str,str,str,str,str,str,int,str,str,str,str,str,str,str]\n",
      "If parsing fails due to incorrect types, you can correct\n",
      "the inferred type list above and pass it to read_csv in\n",
      "the column_type_hints argument\n",
      "------------------------------------------------------\n"
     ]
    },
    {
     "data": {
      "text/html": [
       "<pre>Read 368526 lines. Lines per second: 203473</pre>"
      ],
      "text/plain": [
       "Read 368526 lines. Lines per second: 203473"
      ]
     },
     "metadata": {},
     "output_type": "display_data"
    },
    {
     "data": {
      "text/html": [
       "<pre>Read 1473482 lines. Lines per second: 155109</pre>"
      ],
      "text/plain": [
       "Read 1473482 lines. Lines per second: 155109"
      ]
     },
     "metadata": {},
     "output_type": "display_data"
    },
    {
     "data": {
      "text/html": [
       "<pre>Read 2210008 lines. Lines per second: 147534</pre>"
      ],
      "text/plain": [
       "Read 2210008 lines. Lines per second: 147534"
      ]
     },
     "metadata": {},
     "output_type": "display_data"
    },
    {
     "data": {
      "text/html": [
       "<pre>Finished parsing file /nfs/science/public/tool-eval/sframe/puneett/transactions_200611.csv</pre>"
      ],
      "text/plain": [
       "Finished parsing file /nfs/science/public/tool-eval/sframe/puneett/transactions_200611.csv"
      ]
     },
     "metadata": {},
     "output_type": "display_data"
    },
    {
     "data": {
      "text/html": [
       "<pre>Parsing completed. Parsed 2538463 lines in 17.206 secs.</pre>"
      ],
      "text/plain": [
       "Parsing completed. Parsed 2538463 lines in 17.206 secs."
      ]
     },
     "metadata": {},
     "output_type": "display_data"
    },
    {
     "data": {
      "text/html": [
       "<pre>Finished parsing file /nfs/science/public/tool-eval/sframe/puneett/transactions_200612.csv</pre>"
      ],
      "text/plain": [
       "Finished parsing file /nfs/science/public/tool-eval/sframe/puneett/transactions_200612.csv"
      ]
     },
     "metadata": {},
     "output_type": "display_data"
    },
    {
     "data": {
      "text/html": [
       "<pre>Parsing completed. Parsed 100 lines in 1.32603 secs.</pre>"
      ],
      "text/plain": [
       "Parsing completed. Parsed 100 lines in 1.32603 secs."
      ]
     },
     "metadata": {},
     "output_type": "display_data"
    },
    {
     "name": "stdout",
     "output_type": "stream",
     "text": [
      "------------------------------------------------------\n",
      "Inferred types from first 100 line(s) of file as \n",
      "column_type_hints=[int,int,int,int,int,float,str,str,str,str,str,str,str,str,int,str,str,str,str,str,str,str]\n",
      "If parsing fails due to incorrect types, you can correct\n",
      "the inferred type list above and pass it to read_csv in\n",
      "the column_type_hints argument\n",
      "------------------------------------------------------\n"
     ]
    },
    {
     "data": {
      "text/html": [
       "<pre>Read 368199 lines. Lines per second: 194922</pre>"
      ],
      "text/plain": [
       "Read 368199 lines. Lines per second: 194922"
      ]
     },
     "metadata": {},
     "output_type": "display_data"
    },
    {
     "data": {
      "text/html": [
       "<pre>Read 1104414 lines. Lines per second: 153531</pre>"
      ],
      "text/plain": [
       "Read 1104414 lines. Lines per second: 153531"
      ]
     },
     "metadata": {},
     "output_type": "display_data"
    },
    {
     "data": {
      "text/html": [
       "<pre>Read 1840417 lines. Lines per second: 148278</pre>"
      ],
      "text/plain": [
       "Read 1840417 lines. Lines per second: 148278"
      ]
     },
     "metadata": {},
     "output_type": "display_data"
    },
    {
     "data": {
      "text/html": [
       "<pre>Read 2576458 lines. Lines per second: 142218</pre>"
      ],
      "text/plain": [
       "Read 2576458 lines. Lines per second: 142218"
      ]
     },
     "metadata": {},
     "output_type": "display_data"
    },
    {
     "data": {
      "text/html": [
       "<pre>Finished parsing file /nfs/science/public/tool-eval/sframe/puneett/transactions_200612.csv</pre>"
      ],
      "text/plain": [
       "Finished parsing file /nfs/science/public/tool-eval/sframe/puneett/transactions_200612.csv"
      ]
     },
     "metadata": {},
     "output_type": "display_data"
    },
    {
     "data": {
      "text/html": [
       "<pre>Parsing completed. Parsed 2596628 lines in 18.2619 secs.</pre>"
      ],
      "text/plain": [
       "Parsing completed. Parsed 2596628 lines in 18.2619 secs."
      ]
     },
     "metadata": {},
     "output_type": "display_data"
    },
    {
     "data": {
      "text/html": [
       "<pre>Finished parsing file /nfs/science/public/tool-eval/sframe/puneett/transactions_200613.csv</pre>"
      ],
      "text/plain": [
       "Finished parsing file /nfs/science/public/tool-eval/sframe/puneett/transactions_200613.csv"
      ]
     },
     "metadata": {},
     "output_type": "display_data"
    },
    {
     "data": {
      "text/html": [
       "<pre>Parsing completed. Parsed 100 lines in 1.35743 secs.</pre>"
      ],
      "text/plain": [
       "Parsing completed. Parsed 100 lines in 1.35743 secs."
      ]
     },
     "metadata": {},
     "output_type": "display_data"
    },
    {
     "name": "stdout",
     "output_type": "stream",
     "text": [
      "------------------------------------------------------\n",
      "Inferred types from first 100 line(s) of file as \n",
      "column_type_hints=[int,int,int,int,int,float,str,str,str,str,str,str,str,str,int,str,str,str,str,str,str,str]\n",
      "If parsing fails due to incorrect types, you can correct\n",
      "the inferred type list above and pass it to read_csv in\n",
      "the column_type_hints argument\n",
      "------------------------------------------------------\n"
     ]
    },
    {
     "data": {
      "text/html": [
       "<pre>Read 368132 lines. Lines per second: 220610</pre>"
      ],
      "text/plain": [
       "Read 368132 lines. Lines per second: 220610"
      ]
     },
     "metadata": {},
     "output_type": "display_data"
    },
    {
     "data": {
      "text/html": [
       "<pre>Read 1471325 lines. Lines per second: 164716</pre>"
      ],
      "text/plain": [
       "Read 1471325 lines. Lines per second: 164716"
      ]
     },
     "metadata": {},
     "output_type": "display_data"
    },
    {
     "data": {
      "text/html": [
       "<pre>Read 2206942 lines. Lines per second: 151315</pre>"
      ],
      "text/plain": [
       "Read 2206942 lines. Lines per second: 151315"
      ]
     },
     "metadata": {},
     "output_type": "display_data"
    },
    {
     "data": {
      "text/html": [
       "<pre>Finished parsing file /nfs/science/public/tool-eval/sframe/puneett/transactions_200613.csv</pre>"
      ],
      "text/plain": [
       "Finished parsing file /nfs/science/public/tool-eval/sframe/puneett/transactions_200613.csv"
      ]
     },
     "metadata": {},
     "output_type": "display_data"
    },
    {
     "data": {
      "text/html": [
       "<pre>Parsing completed. Parsed 2615378 lines in 17.1288 secs.</pre>"
      ],
      "text/plain": [
       "Parsing completed. Parsed 2615378 lines in 17.1288 secs."
      ]
     },
     "metadata": {},
     "output_type": "display_data"
    },
    {
     "data": {
      "text/html": [
       "<pre>Finished parsing file /nfs/science/public/tool-eval/sframe/puneett/transactions_200614.csv</pre>"
      ],
      "text/plain": [
       "Finished parsing file /nfs/science/public/tool-eval/sframe/puneett/transactions_200614.csv"
      ]
     },
     "metadata": {},
     "output_type": "display_data"
    },
    {
     "data": {
      "text/html": [
       "<pre>Parsing completed. Parsed 100 lines in 1.33388 secs.</pre>"
      ],
      "text/plain": [
       "Parsing completed. Parsed 100 lines in 1.33388 secs."
      ]
     },
     "metadata": {},
     "output_type": "display_data"
    },
    {
     "name": "stdout",
     "output_type": "stream",
     "text": [
      "------------------------------------------------------\n",
      "Inferred types from first 100 line(s) of file as \n",
      "column_type_hints=[int,int,int,int,int,float,str,str,str,str,str,str,str,str,int,str,str,str,str,str,str,str]\n",
      "If parsing fails due to incorrect types, you can correct\n",
      "the inferred type list above and pass it to read_csv in\n",
      "the column_type_hints argument\n",
      "------------------------------------------------------\n"
     ]
    },
    {
     "data": {
      "text/html": [
       "<pre>Read 368606 lines. Lines per second: 207134</pre>"
      ],
      "text/plain": [
       "Read 368606 lines. Lines per second: 207134"
      ]
     },
     "metadata": {},
     "output_type": "display_data"
    },
    {
     "data": {
      "text/html": [
       "<pre>Read 1473359 lines. Lines per second: 159488</pre>"
      ],
      "text/plain": [
       "Read 1473359 lines. Lines per second: 159488"
      ]
     },
     "metadata": {},
     "output_type": "display_data"
    },
    {
     "data": {
      "text/html": [
       "<pre>Read 2210047 lines. Lines per second: 148267</pre>"
      ],
      "text/plain": [
       "Read 2210047 lines. Lines per second: 148267"
      ]
     },
     "metadata": {},
     "output_type": "display_data"
    },
    {
     "data": {
      "text/html": [
       "<pre>Finished parsing file /nfs/science/public/tool-eval/sframe/puneett/transactions_200614.csv</pre>"
      ],
      "text/plain": [
       "Finished parsing file /nfs/science/public/tool-eval/sframe/puneett/transactions_200614.csv"
      ]
     },
     "metadata": {},
     "output_type": "display_data"
    },
    {
     "data": {
      "text/html": [
       "<pre>Parsing completed. Parsed 2624121 lines in 17.2975 secs.</pre>"
      ],
      "text/plain": [
       "Parsing completed. Parsed 2624121 lines in 17.2975 secs."
      ]
     },
     "metadata": {},
     "output_type": "display_data"
    },
    {
     "data": {
      "text/html": [
       "<pre>Finished parsing file /nfs/science/public/tool-eval/sframe/puneett/transactions_200615.csv</pre>"
      ],
      "text/plain": [
       "Finished parsing file /nfs/science/public/tool-eval/sframe/puneett/transactions_200615.csv"
      ]
     },
     "metadata": {},
     "output_type": "display_data"
    },
    {
     "data": {
      "text/html": [
       "<pre>Parsing completed. Parsed 100 lines in 1.33162 secs.</pre>"
      ],
      "text/plain": [
       "Parsing completed. Parsed 100 lines in 1.33162 secs."
      ]
     },
     "metadata": {},
     "output_type": "display_data"
    },
    {
     "name": "stdout",
     "output_type": "stream",
     "text": [
      "------------------------------------------------------\n",
      "Inferred types from first 100 line(s) of file as \n",
      "column_type_hints=[int,int,int,int,int,float,str,str,str,str,str,str,str,str,int,str,str,str,str,str,str,str]\n",
      "If parsing fails due to incorrect types, you can correct\n",
      "the inferred type list above and pass it to read_csv in\n",
      "the column_type_hints argument\n",
      "------------------------------------------------------\n"
     ]
    },
    {
     "data": {
      "text/html": [
       "<pre>Read 368642 lines. Lines per second: 223756</pre>"
      ],
      "text/plain": [
       "Read 368642 lines. Lines per second: 223756"
      ]
     },
     "metadata": {},
     "output_type": "display_data"
    },
    {
     "data": {
      "text/html": [
       "<pre>Read 1473536 lines. Lines per second: 156361</pre>"
      ],
      "text/plain": [
       "Read 1473536 lines. Lines per second: 156361"
      ]
     },
     "metadata": {},
     "output_type": "display_data"
    },
    {
     "data": {
      "text/html": [
       "<pre>Read 2210197 lines. Lines per second: 148184</pre>"
      ],
      "text/plain": [
       "Read 2210197 lines. Lines per second: 148184"
      ]
     },
     "metadata": {},
     "output_type": "display_data"
    },
    {
     "data": {
      "text/html": [
       "<pre>Finished parsing file /nfs/science/public/tool-eval/sframe/puneett/transactions_200615.csv</pre>"
      ],
      "text/plain": [
       "Finished parsing file /nfs/science/public/tool-eval/sframe/puneett/transactions_200615.csv"
      ]
     },
     "metadata": {},
     "output_type": "display_data"
    },
    {
     "data": {
      "text/html": [
       "<pre>Parsing completed. Parsed 2687882 lines in 18.1397 secs.</pre>"
      ],
      "text/plain": [
       "Parsing completed. Parsed 2687882 lines in 18.1397 secs."
      ]
     },
     "metadata": {},
     "output_type": "display_data"
    },
    {
     "data": {
      "text/html": [
       "<pre>Finished parsing file /nfs/science/public/tool-eval/sframe/puneett/transactions_200616.csv</pre>"
      ],
      "text/plain": [
       "Finished parsing file /nfs/science/public/tool-eval/sframe/puneett/transactions_200616.csv"
      ]
     },
     "metadata": {},
     "output_type": "display_data"
    },
    {
     "data": {
      "text/html": [
       "<pre>Parsing completed. Parsed 100 lines in 1.32114 secs.</pre>"
      ],
      "text/plain": [
       "Parsing completed. Parsed 100 lines in 1.32114 secs."
      ]
     },
     "metadata": {},
     "output_type": "display_data"
    },
    {
     "name": "stdout",
     "output_type": "stream",
     "text": [
      "------------------------------------------------------\n",
      "Inferred types from first 100 line(s) of file as \n",
      "column_type_hints=[int,int,int,int,int,float,str,str,str,str,str,str,str,str,int,str,str,str,str,str,str,str]\n",
      "If parsing fails due to incorrect types, you can correct\n",
      "the inferred type list above and pass it to read_csv in\n",
      "the column_type_hints argument\n",
      "------------------------------------------------------\n"
     ]
    },
    {
     "data": {
      "text/html": [
       "<pre>Read 368586 lines. Lines per second: 219968</pre>"
      ],
      "text/plain": [
       "Read 368586 lines. Lines per second: 219968"
      ]
     },
     "metadata": {},
     "output_type": "display_data"
    },
    {
     "data": {
      "text/html": [
       "<pre>Read 1105381 lines. Lines per second: 164073</pre>"
      ],
      "text/plain": [
       "Read 1105381 lines. Lines per second: 164073"
      ]
     },
     "metadata": {},
     "output_type": "display_data"
    },
    {
     "data": {
      "text/html": [
       "<pre>Read 1842012 lines. Lines per second: 151390</pre>"
      ],
      "text/plain": [
       "Read 1842012 lines. Lines per second: 151390"
      ]
     },
     "metadata": {},
     "output_type": "display_data"
    },
    {
     "data": {
      "text/html": [
       "<pre>Read 2578420 lines. Lines per second: 147490</pre>"
      ],
      "text/plain": [
       "Read 2578420 lines. Lines per second: 147490"
      ]
     },
     "metadata": {},
     "output_type": "display_data"
    },
    {
     "data": {
      "text/html": [
       "<pre>Finished parsing file /nfs/science/public/tool-eval/sframe/puneett/transactions_200616.csv</pre>"
      ],
      "text/plain": [
       "Finished parsing file /nfs/science/public/tool-eval/sframe/puneett/transactions_200616.csv"
      ]
     },
     "metadata": {},
     "output_type": "display_data"
    },
    {
     "data": {
      "text/html": [
       "<pre>Parsing completed. Parsed 2626602 lines in 17.7972 secs.</pre>"
      ],
      "text/plain": [
       "Parsing completed. Parsed 2626602 lines in 17.7972 secs."
      ]
     },
     "metadata": {},
     "output_type": "display_data"
    },
    {
     "data": {
      "text/html": [
       "<pre>Finished parsing file /nfs/science/public/tool-eval/sframe/puneett/transactions_200617.csv</pre>"
      ],
      "text/plain": [
       "Finished parsing file /nfs/science/public/tool-eval/sframe/puneett/transactions_200617.csv"
      ]
     },
     "metadata": {},
     "output_type": "display_data"
    },
    {
     "data": {
      "text/html": [
       "<pre>Parsing completed. Parsed 100 lines in 1.34676 secs.</pre>"
      ],
      "text/plain": [
       "Parsing completed. Parsed 100 lines in 1.34676 secs."
      ]
     },
     "metadata": {},
     "output_type": "display_data"
    },
    {
     "name": "stdout",
     "output_type": "stream",
     "text": [
      "------------------------------------------------------\n",
      "Inferred types from first 100 line(s) of file as \n",
      "column_type_hints=[int,int,int,int,int,float,str,str,str,str,str,str,str,str,int,str,str,str,str,str,str,str]\n",
      "If parsing fails due to incorrect types, you can correct\n",
      "the inferred type list above and pass it to read_csv in\n",
      "the column_type_hints argument\n",
      "------------------------------------------------------\n"
     ]
    },
    {
     "data": {
      "text/html": [
       "<pre>Read 368590 lines. Lines per second: 207632</pre>"
      ],
      "text/plain": [
       "Read 368590 lines. Lines per second: 207632"
      ]
     },
     "metadata": {},
     "output_type": "display_data"
    },
    {
     "data": {
      "text/html": [
       "<pre>Read 1473577 lines. Lines per second: 159223</pre>"
      ],
      "text/plain": [
       "Read 1473577 lines. Lines per second: 159223"
      ]
     },
     "metadata": {},
     "output_type": "display_data"
    },
    {
     "data": {
      "text/html": [
       "<pre>Read 2210097 lines. Lines per second: 148082</pre>"
      ],
      "text/plain": [
       "Read 2210097 lines. Lines per second: 148082"
      ]
     },
     "metadata": {},
     "output_type": "display_data"
    },
    {
     "data": {
      "text/html": [
       "<pre>Finished parsing file /nfs/science/public/tool-eval/sframe/puneett/transactions_200617.csv</pre>"
      ],
      "text/plain": [
       "Finished parsing file /nfs/science/public/tool-eval/sframe/puneett/transactions_200617.csv"
      ]
     },
     "metadata": {},
     "output_type": "display_data"
    },
    {
     "data": {
      "text/html": [
       "<pre>Parsing completed. Parsed 2598869 lines in 17.238 secs.</pre>"
      ],
      "text/plain": [
       "Parsing completed. Parsed 2598869 lines in 17.238 secs."
      ]
     },
     "metadata": {},
     "output_type": "display_data"
    },
    {
     "data": {
      "text/html": [
       "<pre>Finished parsing file /nfs/science/public/tool-eval/sframe/puneett/transactions_200618.csv</pre>"
      ],
      "text/plain": [
       "Finished parsing file /nfs/science/public/tool-eval/sframe/puneett/transactions_200618.csv"
      ]
     },
     "metadata": {},
     "output_type": "display_data"
    },
    {
     "data": {
      "text/html": [
       "<pre>Parsing completed. Parsed 100 lines in 1.33245 secs.</pre>"
      ],
      "text/plain": [
       "Parsing completed. Parsed 100 lines in 1.33245 secs."
      ]
     },
     "metadata": {},
     "output_type": "display_data"
    },
    {
     "name": "stdout",
     "output_type": "stream",
     "text": [
      "------------------------------------------------------\n",
      "Inferred types from first 100 line(s) of file as \n",
      "column_type_hints=[int,int,int,int,int,float,str,str,str,str,str,str,str,str,int,str,str,str,str,str,str,str]\n",
      "If parsing fails due to incorrect types, you can correct\n",
      "the inferred type list above and pass it to read_csv in\n",
      "the column_type_hints argument\n",
      "------------------------------------------------------\n"
     ]
    },
    {
     "data": {
      "text/html": [
       "<pre>Read 368605 lines. Lines per second: 214474</pre>"
      ],
      "text/plain": [
       "Read 368605 lines. Lines per second: 214474"
      ]
     },
     "metadata": {},
     "output_type": "display_data"
    },
    {
     "data": {
      "text/html": [
       "<pre>Read 1105460 lines. Lines per second: 166583</pre>"
      ],
      "text/plain": [
       "Read 1105460 lines. Lines per second: 166583"
      ]
     },
     "metadata": {},
     "output_type": "display_data"
    },
    {
     "data": {
      "text/html": [
       "<pre>Read 1841835 lines. Lines per second: 151900</pre>"
      ],
      "text/plain": [
       "Read 1841835 lines. Lines per second: 151900"
      ]
     },
     "metadata": {},
     "output_type": "display_data"
    },
    {
     "data": {
      "text/html": [
       "<pre>Read 2578620 lines. Lines per second: 149769</pre>"
      ],
      "text/plain": [
       "Read 2578620 lines. Lines per second: 149769"
      ]
     },
     "metadata": {},
     "output_type": "display_data"
    },
    {
     "data": {
      "text/html": [
       "<pre>Finished parsing file /nfs/science/public/tool-eval/sframe/puneett/transactions_200618.csv</pre>"
      ],
      "text/plain": [
       "Finished parsing file /nfs/science/public/tool-eval/sframe/puneett/transactions_200618.csv"
      ]
     },
     "metadata": {},
     "output_type": "display_data"
    },
    {
     "data": {
      "text/html": [
       "<pre>Parsing completed. Parsed 2690395 lines in 18.0321 secs.</pre>"
      ],
      "text/plain": [
       "Parsing completed. Parsed 2690395 lines in 18.0321 secs."
      ]
     },
     "metadata": {},
     "output_type": "display_data"
    },
    {
     "data": {
      "text/html": [
       "<pre>Finished parsing file /nfs/science/public/tool-eval/sframe/puneett/transactions_200619.csv</pre>"
      ],
      "text/plain": [
       "Finished parsing file /nfs/science/public/tool-eval/sframe/puneett/transactions_200619.csv"
      ]
     },
     "metadata": {},
     "output_type": "display_data"
    },
    {
     "data": {
      "text/html": [
       "<pre>Parsing completed. Parsed 100 lines in 1.35462 secs.</pre>"
      ],
      "text/plain": [
       "Parsing completed. Parsed 100 lines in 1.35462 secs."
      ]
     },
     "metadata": {},
     "output_type": "display_data"
    },
    {
     "name": "stdout",
     "output_type": "stream",
     "text": [
      "------------------------------------------------------\n",
      "Inferred types from first 100 line(s) of file as \n",
      "column_type_hints=[int,int,int,int,int,float,str,str,str,str,str,str,str,str,int,str,str,str,str,str,str,str]\n",
      "If parsing fails due to incorrect types, you can correct\n",
      "the inferred type list above and pass it to read_csv in\n",
      "the column_type_hints argument\n",
      "------------------------------------------------------\n"
     ]
    },
    {
     "data": {
      "text/html": [
       "<pre>Read 368833 lines. Lines per second: 232367</pre>"
      ],
      "text/plain": [
       "Read 368833 lines. Lines per second: 232367"
      ]
     },
     "metadata": {},
     "output_type": "display_data"
    },
    {
     "data": {
      "text/html": [
       "<pre>Read 1474573 lines. Lines per second: 159259</pre>"
      ],
      "text/plain": [
       "Read 1474573 lines. Lines per second: 159259"
      ]
     },
     "metadata": {},
     "output_type": "display_data"
    },
    {
     "data": {
      "text/html": [
       "<pre>Read 2211830 lines. Lines per second: 150259</pre>"
      ],
      "text/plain": [
       "Read 2211830 lines. Lines per second: 150259"
      ]
     },
     "metadata": {},
     "output_type": "display_data"
    },
    {
     "data": {
      "text/html": [
       "<pre>Finished parsing file /nfs/science/public/tool-eval/sframe/puneett/transactions_200619.csv</pre>"
      ],
      "text/plain": [
       "Finished parsing file /nfs/science/public/tool-eval/sframe/puneett/transactions_200619.csv"
      ]
     },
     "metadata": {},
     "output_type": "display_data"
    },
    {
     "data": {
      "text/html": [
       "<pre>Parsing completed. Parsed 2605667 lines in 16.9568 secs.</pre>"
      ],
      "text/plain": [
       "Parsing completed. Parsed 2605667 lines in 16.9568 secs."
      ]
     },
     "metadata": {},
     "output_type": "display_data"
    }
   ],
   "source": [
    "# Reading multiple CSVs in SFrames\n",
    "filedir = '/nfs/science/public/tool-eval/sframe/puneett/'\n",
    "filen = ['transactions_200607.csv', 'transactions_200608.csv','transactions_200609.csv','transactions_200610.csv',\n",
    "            'transactions_200611.csv','transactions_200612.csv','transactions_200613.csv','transactions_200614.csv',\n",
    "            'transactions_200615.csv','transactions_200616.csv','transactions_200617.csv','transactions_200618.csv',\n",
    "            'transactions_200619.csv']\n",
    "filename = []\n",
    "for i in filen:\n",
    "    filename.append(filedir+i)\n",
    "print(filename)\n",
    "sf1 = SFrame()\n",
    "# sf1 = sf.append([sf.read_csv(x) for x in filename])\n",
    "for f in filename:\n",
    "    sf1=sf1.append(SFrame.read_csv(f))"
   ]
  },
  {
   "cell_type": "code",
   "execution_count": null,
   "metadata": {
    "collapsed": true
   },
   "outputs": [],
   "source": []
  },
  {
   "cell_type": "code",
   "execution_count": 97,
   "metadata": {
    "collapsed": true
   },
   "outputs": [
    {
     "data": {
      "text/html": [
       "<div style=\"max-height:1000px;max-width:1500px;overflow:auto;\"><table frame=\"box\" rules=\"cols\">\n",
       "    <tr>\n",
       "        <th style=\"padding-left: 1em; padding-right: 1em; text-align: center\">SHOP_WEEK</th>\n",
       "        <th style=\"padding-left: 1em; padding-right: 1em; text-align: center\">SHOP_DATE</th>\n",
       "        <th style=\"padding-left: 1em; padding-right: 1em; text-align: center\">SHOP_WEEKDAY</th>\n",
       "        <th style=\"padding-left: 1em; padding-right: 1em; text-align: center\">SHOP_HOUR</th>\n",
       "        <th style=\"padding-left: 1em; padding-right: 1em; text-align: center\">QUANTITY</th>\n",
       "        <th style=\"padding-left: 1em; padding-right: 1em; text-align: center\">SPEND</th>\n",
       "        <th style=\"padding-left: 1em; padding-right: 1em; text-align: center\">PROD_CODE</th>\n",
       "        <th style=\"padding-left: 1em; padding-right: 1em; text-align: center\">PROD_CODE_10</th>\n",
       "        <th style=\"padding-left: 1em; padding-right: 1em; text-align: center\">PROD_CODE_20</th>\n",
       "    </tr>\n",
       "    <tr>\n",
       "        <td style=\"padding-left: 1em; padding-right: 1em; text-align: center; vertical-align: top\">200607</td>\n",
       "        <td style=\"padding-left: 1em; padding-right: 1em; text-align: center; vertical-align: top\">20060412</td>\n",
       "        <td style=\"padding-left: 1em; padding-right: 1em; text-align: center; vertical-align: top\">4</td>\n",
       "        <td style=\"padding-left: 1em; padding-right: 1em; text-align: center; vertical-align: top\">21</td>\n",
       "        <td style=\"padding-left: 1em; padding-right: 1em; text-align: center; vertical-align: top\">7</td>\n",
       "        <td style=\"padding-left: 1em; padding-right: 1em; text-align: center; vertical-align: top\">3.15</td>\n",
       "        <td style=\"padding-left: 1em; padding-right: 1em; text-align: center; vertical-align: top\">PRD0904230</td>\n",
       "        <td style=\"padding-left: 1em; padding-right: 1em; text-align: center; vertical-align: top\">CL00070</td>\n",
       "        <td style=\"padding-left: 1em; padding-right: 1em; text-align: center; vertical-align: top\">DEP00020</td>\n",
       "    </tr>\n",
       "    <tr>\n",
       "        <td style=\"padding-left: 1em; padding-right: 1em; text-align: center; vertical-align: top\">200607</td>\n",
       "        <td style=\"padding-left: 1em; padding-right: 1em; text-align: center; vertical-align: top\">20060414</td>\n",
       "        <td style=\"padding-left: 1em; padding-right: 1em; text-align: center; vertical-align: top\">6</td>\n",
       "        <td style=\"padding-left: 1em; padding-right: 1em; text-align: center; vertical-align: top\">9</td>\n",
       "        <td style=\"padding-left: 1em; padding-right: 1em; text-align: center; vertical-align: top\">1</td>\n",
       "        <td style=\"padding-left: 1em; padding-right: 1em; text-align: center; vertical-align: top\">0.64</td>\n",
       "        <td style=\"padding-left: 1em; padding-right: 1em; text-align: center; vertical-align: top\">PRD0904223</td>\n",
       "        <td style=\"padding-left: 1em; padding-right: 1em; text-align: center; vertical-align: top\">CL00078</td>\n",
       "        <td style=\"padding-left: 1em; padding-right: 1em; text-align: center; vertical-align: top\">DEP00022</td>\n",
       "    </tr>\n",
       "    <tr>\n",
       "        <td style=\"padding-left: 1em; padding-right: 1em; text-align: center; vertical-align: top\">200607</td>\n",
       "        <td style=\"padding-left: 1em; padding-right: 1em; text-align: center; vertical-align: top\">20060414</td>\n",
       "        <td style=\"padding-left: 1em; padding-right: 1em; text-align: center; vertical-align: top\">6</td>\n",
       "        <td style=\"padding-left: 1em; padding-right: 1em; text-align: center; vertical-align: top\">11</td>\n",
       "        <td style=\"padding-left: 1em; padding-right: 1em; text-align: center; vertical-align: top\">1</td>\n",
       "        <td style=\"padding-left: 1em; padding-right: 1em; text-align: center; vertical-align: top\">0.64</td>\n",
       "        <td style=\"padding-left: 1em; padding-right: 1em; text-align: center; vertical-align: top\">PRD0904223</td>\n",
       "        <td style=\"padding-left: 1em; padding-right: 1em; text-align: center; vertical-align: top\">CL00078</td>\n",
       "        <td style=\"padding-left: 1em; padding-right: 1em; text-align: center; vertical-align: top\">DEP00022</td>\n",
       "    </tr>\n",
       "    <tr>\n",
       "        <td style=\"padding-left: 1em; padding-right: 1em; text-align: center; vertical-align: top\">200607</td>\n",
       "        <td style=\"padding-left: 1em; padding-right: 1em; text-align: center; vertical-align: top\">20060414</td>\n",
       "        <td style=\"padding-left: 1em; padding-right: 1em; text-align: center; vertical-align: top\">6</td>\n",
       "        <td style=\"padding-left: 1em; padding-right: 1em; text-align: center; vertical-align: top\">21</td>\n",
       "        <td style=\"padding-left: 1em; padding-right: 1em; text-align: center; vertical-align: top\">1</td>\n",
       "        <td style=\"padding-left: 1em; padding-right: 1em; text-align: center; vertical-align: top\">0.64</td>\n",
       "        <td style=\"padding-left: 1em; padding-right: 1em; text-align: center; vertical-align: top\">PRD0904223</td>\n",
       "        <td style=\"padding-left: 1em; padding-right: 1em; text-align: center; vertical-align: top\">CL00078</td>\n",
       "        <td style=\"padding-left: 1em; padding-right: 1em; text-align: center; vertical-align: top\">DEP00022</td>\n",
       "    </tr>\n",
       "    <tr>\n",
       "        <td style=\"padding-left: 1em; padding-right: 1em; text-align: center; vertical-align: top\">200607</td>\n",
       "        <td style=\"padding-left: 1em; padding-right: 1em; text-align: center; vertical-align: top\">20060414</td>\n",
       "        <td style=\"padding-left: 1em; padding-right: 1em; text-align: center; vertical-align: top\">6</td>\n",
       "        <td style=\"padding-left: 1em; padding-right: 1em; text-align: center; vertical-align: top\">8</td>\n",
       "        <td style=\"padding-left: 1em; padding-right: 1em; text-align: center; vertical-align: top\">1</td>\n",
       "        <td style=\"padding-left: 1em; padding-right: 1em; text-align: center; vertical-align: top\">0.64</td>\n",
       "        <td style=\"padding-left: 1em; padding-right: 1em; text-align: center; vertical-align: top\">PRD0904223</td>\n",
       "        <td style=\"padding-left: 1em; padding-right: 1em; text-align: center; vertical-align: top\">CL00078</td>\n",
       "        <td style=\"padding-left: 1em; padding-right: 1em; text-align: center; vertical-align: top\">DEP00022</td>\n",
       "    </tr>\n",
       "    <tr>\n",
       "        <td style=\"padding-left: 1em; padding-right: 1em; text-align: center; vertical-align: top\">200607</td>\n",
       "        <td style=\"padding-left: 1em; padding-right: 1em; text-align: center; vertical-align: top\">20060411</td>\n",
       "        <td style=\"padding-left: 1em; padding-right: 1em; text-align: center; vertical-align: top\">3</td>\n",
       "        <td style=\"padding-left: 1em; padding-right: 1em; text-align: center; vertical-align: top\">13</td>\n",
       "        <td style=\"padding-left: 1em; padding-right: 1em; text-align: center; vertical-align: top\">3</td>\n",
       "        <td style=\"padding-left: 1em; padding-right: 1em; text-align: center; vertical-align: top\">1.92</td>\n",
       "        <td style=\"padding-left: 1em; padding-right: 1em; text-align: center; vertical-align: top\">PRD0904223</td>\n",
       "        <td style=\"padding-left: 1em; padding-right: 1em; text-align: center; vertical-align: top\">CL00078</td>\n",
       "        <td style=\"padding-left: 1em; padding-right: 1em; text-align: center; vertical-align: top\">DEP00022</td>\n",
       "    </tr>\n",
       "    <tr>\n",
       "        <td style=\"padding-left: 1em; padding-right: 1em; text-align: center; vertical-align: top\">200607</td>\n",
       "        <td style=\"padding-left: 1em; padding-right: 1em; text-align: center; vertical-align: top\">20060415</td>\n",
       "        <td style=\"padding-left: 1em; padding-right: 1em; text-align: center; vertical-align: top\">7</td>\n",
       "        <td style=\"padding-left: 1em; padding-right: 1em; text-align: center; vertical-align: top\">13</td>\n",
       "        <td style=\"padding-left: 1em; padding-right: 1em; text-align: center; vertical-align: top\">1</td>\n",
       "        <td style=\"padding-left: 1em; padding-right: 1em; text-align: center; vertical-align: top\">0.64</td>\n",
       "        <td style=\"padding-left: 1em; padding-right: 1em; text-align: center; vertical-align: top\">PRD0904223</td>\n",
       "        <td style=\"padding-left: 1em; padding-right: 1em; text-align: center; vertical-align: top\">CL00078</td>\n",
       "        <td style=\"padding-left: 1em; padding-right: 1em; text-align: center; vertical-align: top\">DEP00022</td>\n",
       "    </tr>\n",
       "    <tr>\n",
       "        <td style=\"padding-left: 1em; padding-right: 1em; text-align: center; vertical-align: top\">200607</td>\n",
       "        <td style=\"padding-left: 1em; padding-right: 1em; text-align: center; vertical-align: top\">20060412</td>\n",
       "        <td style=\"padding-left: 1em; padding-right: 1em; text-align: center; vertical-align: top\">4</td>\n",
       "        <td style=\"padding-left: 1em; padding-right: 1em; text-align: center; vertical-align: top\">16</td>\n",
       "        <td style=\"padding-left: 1em; padding-right: 1em; text-align: center; vertical-align: top\">1</td>\n",
       "        <td style=\"padding-left: 1em; padding-right: 1em; text-align: center; vertical-align: top\">2.54</td>\n",
       "        <td style=\"padding-left: 1em; padding-right: 1em; text-align: center; vertical-align: top\">PRD0904225</td>\n",
       "        <td style=\"padding-left: 1em; padding-right: 1em; text-align: center; vertical-align: top\">CL00145</td>\n",
       "        <td style=\"padding-left: 1em; padding-right: 1em; text-align: center; vertical-align: top\">DEP00051</td>\n",
       "    </tr>\n",
       "    <tr>\n",
       "        <td style=\"padding-left: 1em; padding-right: 1em; text-align: center; vertical-align: top\">200607</td>\n",
       "        <td style=\"padding-left: 1em; padding-right: 1em; text-align: center; vertical-align: top\">20060414</td>\n",
       "        <td style=\"padding-left: 1em; padding-right: 1em; text-align: center; vertical-align: top\">6</td>\n",
       "        <td style=\"padding-left: 1em; padding-right: 1em; text-align: center; vertical-align: top\">17</td>\n",
       "        <td style=\"padding-left: 1em; padding-right: 1em; text-align: center; vertical-align: top\">1</td>\n",
       "        <td style=\"padding-left: 1em; padding-right: 1em; text-align: center; vertical-align: top\">0.45</td>\n",
       "        <td style=\"padding-left: 1em; padding-right: 1em; text-align: center; vertical-align: top\">PRD0904230</td>\n",
       "        <td style=\"padding-left: 1em; padding-right: 1em; text-align: center; vertical-align: top\">CL00070</td>\n",
       "        <td style=\"padding-left: 1em; padding-right: 1em; text-align: center; vertical-align: top\">DEP00020</td>\n",
       "    </tr>\n",
       "    <tr>\n",
       "        <td style=\"padding-left: 1em; padding-right: 1em; text-align: center; vertical-align: top\">200607</td>\n",
       "        <td style=\"padding-left: 1em; padding-right: 1em; text-align: center; vertical-align: top\">20060415</td>\n",
       "        <td style=\"padding-left: 1em; padding-right: 1em; text-align: center; vertical-align: top\">7</td>\n",
       "        <td style=\"padding-left: 1em; padding-right: 1em; text-align: center; vertical-align: top\">12</td>\n",
       "        <td style=\"padding-left: 1em; padding-right: 1em; text-align: center; vertical-align: top\">4</td>\n",
       "        <td style=\"padding-left: 1em; padding-right: 1em; text-align: center; vertical-align: top\">1.8</td>\n",
       "        <td style=\"padding-left: 1em; padding-right: 1em; text-align: center; vertical-align: top\">PRD0904230</td>\n",
       "        <td style=\"padding-left: 1em; padding-right: 1em; text-align: center; vertical-align: top\">CL00070</td>\n",
       "        <td style=\"padding-left: 1em; padding-right: 1em; text-align: center; vertical-align: top\">DEP00020</td>\n",
       "    </tr>\n",
       "</table>\n",
       "<table frame=\"box\" rules=\"cols\">\n",
       "    <tr>\n",
       "        <th style=\"padding-left: 1em; padding-right: 1em; text-align: center\">PROD_CODE_30</th>\n",
       "        <th style=\"padding-left: 1em; padding-right: 1em; text-align: center\">PROD_CODE_40</th>\n",
       "        <th style=\"padding-left: 1em; padding-right: 1em; text-align: center\">CUST_CODE</th>\n",
       "        <th style=\"padding-left: 1em; padding-right: 1em; text-align: center\">CUST_PRICE_SENSITIVITY</th>\n",
       "        <th style=\"padding-left: 1em; padding-right: 1em; text-align: center\">CUST_LIFESTAGE</th>\n",
       "        <th style=\"padding-left: 1em; padding-right: 1em; text-align: center\">BASKET_ID</th>\n",
       "        <th style=\"padding-left: 1em; padding-right: 1em; text-align: center\">BASKET_SIZE</th>\n",
       "    </tr>\n",
       "    <tr>\n",
       "        <td style=\"padding-left: 1em; padding-right: 1em; text-align: center; vertical-align: top\">G00007</td>\n",
       "        <td style=\"padding-left: 1em; padding-right: 1em; text-align: center; vertical-align: top\">D00002</td>\n",
       "        <td style=\"padding-left: 1em; padding-right: 1em; text-align: center; vertical-align: top\"></td>\n",
       "        <td style=\"padding-left: 1em; padding-right: 1em; text-align: center; vertical-align: top\"></td>\n",
       "        <td style=\"padding-left: 1em; padding-right: 1em; text-align: center; vertical-align: top\"></td>\n",
       "        <td style=\"padding-left: 1em; padding-right: 1em; text-align: center; vertical-align: top\">994100100137015</td>\n",
       "        <td style=\"padding-left: 1em; padding-right: 1em; text-align: center; vertical-align: top\">L</td>\n",
       "    </tr>\n",
       "    <tr>\n",
       "        <td style=\"padding-left: 1em; padding-right: 1em; text-align: center; vertical-align: top\">G00007</td>\n",
       "        <td style=\"padding-left: 1em; padding-right: 1em; text-align: center; vertical-align: top\">D00002</td>\n",
       "        <td style=\"padding-left: 1em; padding-right: 1em; text-align: center; vertical-align: top\">CUST0000329587</td>\n",
       "        <td style=\"padding-left: 1em; padding-right: 1em; text-align: center; vertical-align: top\">MM</td>\n",
       "        <td style=\"padding-left: 1em; padding-right: 1em; text-align: center; vertical-align: top\">PE</td>\n",
       "        <td style=\"padding-left: 1em; padding-right: 1em; text-align: center; vertical-align: top\">994100100350176</td>\n",
       "        <td style=\"padding-left: 1em; padding-right: 1em; text-align: center; vertical-align: top\">L</td>\n",
       "    </tr>\n",
       "    <tr>\n",
       "        <td style=\"padding-left: 1em; padding-right: 1em; text-align: center; vertical-align: top\">G00007</td>\n",
       "        <td style=\"padding-left: 1em; padding-right: 1em; text-align: center; vertical-align: top\">D00002</td>\n",
       "        <td style=\"padding-left: 1em; padding-right: 1em; text-align: center; vertical-align: top\">CUST0000783842</td>\n",
       "        <td style=\"padding-left: 1em; padding-right: 1em; text-align: center; vertical-align: top\">MM</td>\n",
       "        <td style=\"padding-left: 1em; padding-right: 1em; text-align: center; vertical-align: top\">OA</td>\n",
       "        <td style=\"padding-left: 1em; padding-right: 1em; text-align: center; vertical-align: top\">994100100622564</td>\n",
       "        <td style=\"padding-left: 1em; padding-right: 1em; text-align: center; vertical-align: top\">M</td>\n",
       "    </tr>\n",
       "    <tr>\n",
       "        <td style=\"padding-left: 1em; padding-right: 1em; text-align: center; vertical-align: top\">G00007</td>\n",
       "        <td style=\"padding-left: 1em; padding-right: 1em; text-align: center; vertical-align: top\">D00002</td>\n",
       "        <td style=\"padding-left: 1em; padding-right: 1em; text-align: center; vertical-align: top\">CUST0000799634</td>\n",
       "        <td style=\"padding-left: 1em; padding-right: 1em; text-align: center; vertical-align: top\">UM</td>\n",
       "        <td style=\"padding-left: 1em; padding-right: 1em; text-align: center; vertical-align: top\">YA</td>\n",
       "        <td style=\"padding-left: 1em; padding-right: 1em; text-align: center; vertical-align: top\">994100100632187</td>\n",
       "        <td style=\"padding-left: 1em; padding-right: 1em; text-align: center; vertical-align: top\">M</td>\n",
       "    </tr>\n",
       "    <tr>\n",
       "        <td style=\"padding-left: 1em; padding-right: 1em; text-align: center; vertical-align: top\">G00007</td>\n",
       "        <td style=\"padding-left: 1em; padding-right: 1em; text-align: center; vertical-align: top\">D00002</td>\n",
       "        <td style=\"padding-left: 1em; padding-right: 1em; text-align: center; vertical-align: top\">CUST0000917922</td>\n",
       "        <td style=\"padding-left: 1em; padding-right: 1em; text-align: center; vertical-align: top\">LA</td>\n",
       "        <td style=\"padding-left: 1em; padding-right: 1em; text-align: center; vertical-align: top\">YF</td>\n",
       "        <td style=\"padding-left: 1em; padding-right: 1em; text-align: center; vertical-align: top\">994100100703328</td>\n",
       "        <td style=\"padding-left: 1em; padding-right: 1em; text-align: center; vertical-align: top\">L</td>\n",
       "    </tr>\n",
       "    <tr>\n",
       "        <td style=\"padding-left: 1em; padding-right: 1em; text-align: center; vertical-align: top\">G00007</td>\n",
       "        <td style=\"padding-left: 1em; padding-right: 1em; text-align: center; vertical-align: top\">D00002</td>\n",
       "        <td style=\"padding-left: 1em; padding-right: 1em; text-align: center; vertical-align: top\">CUST0000926123</td>\n",
       "        <td style=\"padding-left: 1em; padding-right: 1em; text-align: center; vertical-align: top\">LA</td>\n",
       "        <td style=\"padding-left: 1em; padding-right: 1em; text-align: center; vertical-align: top\">OA</td>\n",
       "        <td style=\"padding-left: 1em; padding-right: 1em; text-align: center; vertical-align: top\">994100100708267</td>\n",
       "        <td style=\"padding-left: 1em; padding-right: 1em; text-align: center; vertical-align: top\">L</td>\n",
       "    </tr>\n",
       "    <tr>\n",
       "        <td style=\"padding-left: 1em; padding-right: 1em; text-align: center; vertical-align: top\">G00007</td>\n",
       "        <td style=\"padding-left: 1em; padding-right: 1em; text-align: center; vertical-align: top\">D00002</td>\n",
       "        <td style=\"padding-left: 1em; padding-right: 1em; text-align: center; vertical-align: top\"></td>\n",
       "        <td style=\"padding-left: 1em; padding-right: 1em; text-align: center; vertical-align: top\"></td>\n",
       "        <td style=\"padding-left: 1em; padding-right: 1em; text-align: center; vertical-align: top\"></td>\n",
       "        <td style=\"padding-left: 1em; padding-right: 1em; text-align: center; vertical-align: top\">994100100101540</td>\n",
       "        <td style=\"padding-left: 1em; padding-right: 1em; text-align: center; vertical-align: top\">L</td>\n",
       "    </tr>\n",
       "    <tr>\n",
       "        <td style=\"padding-left: 1em; padding-right: 1em; text-align: center; vertical-align: top\">G00015</td>\n",
       "        <td style=\"padding-left: 1em; padding-right: 1em; text-align: center; vertical-align: top\">D00003</td>\n",
       "        <td style=\"padding-left: 1em; padding-right: 1em; text-align: center; vertical-align: top\">CUST0000988612</td>\n",
       "        <td style=\"padding-left: 1em; padding-right: 1em; text-align: center; vertical-align: top\">MM</td>\n",
       "        <td style=\"padding-left: 1em; padding-right: 1em; text-align: center; vertical-align: top\">OT</td>\n",
       "        <td style=\"padding-left: 1em; padding-right: 1em; text-align: center; vertical-align: top\">994100100745760</td>\n",
       "        <td style=\"padding-left: 1em; padding-right: 1em; text-align: center; vertical-align: top\">M</td>\n",
       "    </tr>\n",
       "    <tr>\n",
       "        <td style=\"padding-left: 1em; padding-right: 1em; text-align: center; vertical-align: top\">G00007</td>\n",
       "        <td style=\"padding-left: 1em; padding-right: 1em; text-align: center; vertical-align: top\">D00002</td>\n",
       "        <td style=\"padding-left: 1em; padding-right: 1em; text-align: center; vertical-align: top\">CUST0000050637</td>\n",
       "        <td style=\"padding-left: 1em; padding-right: 1em; text-align: center; vertical-align: top\">LA</td>\n",
       "        <td style=\"padding-left: 1em; padding-right: 1em; text-align: center; vertical-align: top\">OT</td>\n",
       "        <td style=\"padding-left: 1em; padding-right: 1em; text-align: center; vertical-align: top\">994100100183348</td>\n",
       "        <td style=\"padding-left: 1em; padding-right: 1em; text-align: center; vertical-align: top\">L</td>\n",
       "    </tr>\n",
       "    <tr>\n",
       "        <td style=\"padding-left: 1em; padding-right: 1em; text-align: center; vertical-align: top\">G00007</td>\n",
       "        <td style=\"padding-left: 1em; padding-right: 1em; text-align: center; vertical-align: top\">D00002</td>\n",
       "        <td style=\"padding-left: 1em; padding-right: 1em; text-align: center; vertical-align: top\">CUST0000344447</td>\n",
       "        <td style=\"padding-left: 1em; padding-right: 1em; text-align: center; vertical-align: top\">MM</td>\n",
       "        <td style=\"padding-left: 1em; padding-right: 1em; text-align: center; vertical-align: top\">YF</td>\n",
       "        <td style=\"padding-left: 1em; padding-right: 1em; text-align: center; vertical-align: top\">994100100359080</td>\n",
       "        <td style=\"padding-left: 1em; padding-right: 1em; text-align: center; vertical-align: top\">L</td>\n",
       "    </tr>\n",
       "</table>\n",
       "<table frame=\"box\" rules=\"cols\">\n",
       "    <tr>\n",
       "        <th style=\"padding-left: 1em; padding-right: 1em; text-align: center\">BASKET_PRICE_SENSITIVITY</th>\n",
       "        <th style=\"padding-left: 1em; padding-right: 1em; text-align: center\">BASKET_TYPE</th>\n",
       "        <th style=\"padding-left: 1em; padding-right: 1em; text-align: center\">BASKET_DOMINANT_MISSION</th>\n",
       "        <th style=\"padding-left: 1em; padding-right: 1em; text-align: center\">STORE_CODE</th>\n",
       "        <th style=\"padding-left: 1em; padding-right: 1em; text-align: center\">STORE_FORMAT</th>\n",
       "        <th style=\"padding-left: 1em; padding-right: 1em; text-align: center\">STORE_REGION</th>\n",
       "    </tr>\n",
       "    <tr>\n",
       "        <td style=\"padding-left: 1em; padding-right: 1em; text-align: center; vertical-align: top\">LA</td>\n",
       "        <td style=\"padding-left: 1em; padding-right: 1em; text-align: center; vertical-align: top\">Top Up</td>\n",
       "        <td style=\"padding-left: 1em; padding-right: 1em; text-align: center; vertical-align: top\">Fresh</td>\n",
       "        <td style=\"padding-left: 1em; padding-right: 1em; text-align: center; vertical-align: top\">STORE01958</td>\n",
       "        <td style=\"padding-left: 1em; padding-right: 1em; text-align: center; vertical-align: top\">LS</td>\n",
       "        <td style=\"padding-left: 1em; padding-right: 1em; text-align: center; vertical-align: top\">S02</td>\n",
       "    </tr>\n",
       "    <tr>\n",
       "        <td style=\"padding-left: 1em; padding-right: 1em; text-align: center; vertical-align: top\">MM</td>\n",
       "        <td style=\"padding-left: 1em; padding-right: 1em; text-align: center; vertical-align: top\">Top Up</td>\n",
       "        <td style=\"padding-left: 1em; padding-right: 1em; text-align: center; vertical-align: top\">Fresh</td>\n",
       "        <td style=\"padding-left: 1em; padding-right: 1em; text-align: center; vertical-align: top\">STORE01958</td>\n",
       "        <td style=\"padding-left: 1em; padding-right: 1em; text-align: center; vertical-align: top\">LS</td>\n",
       "        <td style=\"padding-left: 1em; padding-right: 1em; text-align: center; vertical-align: top\">S02</td>\n",
       "    </tr>\n",
       "    <tr>\n",
       "        <td style=\"padding-left: 1em; padding-right: 1em; text-align: center; vertical-align: top\">LA</td>\n",
       "        <td style=\"padding-left: 1em; padding-right: 1em; text-align: center; vertical-align: top\">Top Up</td>\n",
       "        <td style=\"padding-left: 1em; padding-right: 1em; text-align: center; vertical-align: top\">Fresh</td>\n",
       "        <td style=\"padding-left: 1em; padding-right: 1em; text-align: center; vertical-align: top\">STORE01958</td>\n",
       "        <td style=\"padding-left: 1em; padding-right: 1em; text-align: center; vertical-align: top\">LS</td>\n",
       "        <td style=\"padding-left: 1em; padding-right: 1em; text-align: center; vertical-align: top\">S02</td>\n",
       "    </tr>\n",
       "    <tr>\n",
       "        <td style=\"padding-left: 1em; padding-right: 1em; text-align: center; vertical-align: top\">MM</td>\n",
       "        <td style=\"padding-left: 1em; padding-right: 1em; text-align: center; vertical-align: top\">Top Up</td>\n",
       "        <td style=\"padding-left: 1em; padding-right: 1em; text-align: center; vertical-align: top\">Fresh</td>\n",
       "        <td style=\"padding-left: 1em; padding-right: 1em; text-align: center; vertical-align: top\">STORE01958</td>\n",
       "        <td style=\"padding-left: 1em; padding-right: 1em; text-align: center; vertical-align: top\">LS</td>\n",
       "        <td style=\"padding-left: 1em; padding-right: 1em; text-align: center; vertical-align: top\">S02</td>\n",
       "    </tr>\n",
       "    <tr>\n",
       "        <td style=\"padding-left: 1em; padding-right: 1em; text-align: center; vertical-align: top\">LA</td>\n",
       "        <td style=\"padding-left: 1em; padding-right: 1em; text-align: center; vertical-align: top\">Top Up</td>\n",
       "        <td style=\"padding-left: 1em; padding-right: 1em; text-align: center; vertical-align: top\">Mixed</td>\n",
       "        <td style=\"padding-left: 1em; padding-right: 1em; text-align: center; vertical-align: top\">STORE01958</td>\n",
       "        <td style=\"padding-left: 1em; padding-right: 1em; text-align: center; vertical-align: top\">LS</td>\n",
       "        <td style=\"padding-left: 1em; padding-right: 1em; text-align: center; vertical-align: top\">S02</td>\n",
       "    </tr>\n",
       "    <tr>\n",
       "        <td style=\"padding-left: 1em; padding-right: 1em; text-align: center; vertical-align: top\">LA</td>\n",
       "        <td style=\"padding-left: 1em; padding-right: 1em; text-align: center; vertical-align: top\">Full Shop</td>\n",
       "        <td style=\"padding-left: 1em; padding-right: 1em; text-align: center; vertical-align: top\">Fresh</td>\n",
       "        <td style=\"padding-left: 1em; padding-right: 1em; text-align: center; vertical-align: top\">STORE01958</td>\n",
       "        <td style=\"padding-left: 1em; padding-right: 1em; text-align: center; vertical-align: top\">LS</td>\n",
       "        <td style=\"padding-left: 1em; padding-right: 1em; text-align: center; vertical-align: top\">S02</td>\n",
       "    </tr>\n",
       "    <tr>\n",
       "        <td style=\"padding-left: 1em; padding-right: 1em; text-align: center; vertical-align: top\">LA</td>\n",
       "        <td style=\"padding-left: 1em; padding-right: 1em; text-align: center; vertical-align: top\">Top Up</td>\n",
       "        <td style=\"padding-left: 1em; padding-right: 1em; text-align: center; vertical-align: top\">Mixed</td>\n",
       "        <td style=\"padding-left: 1em; padding-right: 1em; text-align: center; vertical-align: top\">STORE01958</td>\n",
       "        <td style=\"padding-left: 1em; padding-right: 1em; text-align: center; vertical-align: top\">LS</td>\n",
       "        <td style=\"padding-left: 1em; padding-right: 1em; text-align: center; vertical-align: top\">S02</td>\n",
       "    </tr>\n",
       "    <tr>\n",
       "        <td style=\"padding-left: 1em; padding-right: 1em; text-align: center; vertical-align: top\">MM</td>\n",
       "        <td style=\"padding-left: 1em; padding-right: 1em; text-align: center; vertical-align: top\">Top Up</td>\n",
       "        <td style=\"padding-left: 1em; padding-right: 1em; text-align: center; vertical-align: top\">Grocery</td>\n",
       "        <td style=\"padding-left: 1em; padding-right: 1em; text-align: center; vertical-align: top\">STORE01958</td>\n",
       "        <td style=\"padding-left: 1em; padding-right: 1em; text-align: center; vertical-align: top\">LS</td>\n",
       "        <td style=\"padding-left: 1em; padding-right: 1em; text-align: center; vertical-align: top\">S02</td>\n",
       "    </tr>\n",
       "    <tr>\n",
       "        <td style=\"padding-left: 1em; padding-right: 1em; text-align: center; vertical-align: top\">LA</td>\n",
       "        <td style=\"padding-left: 1em; padding-right: 1em; text-align: center; vertical-align: top\">Top Up</td>\n",
       "        <td style=\"padding-left: 1em; padding-right: 1em; text-align: center; vertical-align: top\">Grocery</td>\n",
       "        <td style=\"padding-left: 1em; padding-right: 1em; text-align: center; vertical-align: top\">STORE01958</td>\n",
       "        <td style=\"padding-left: 1em; padding-right: 1em; text-align: center; vertical-align: top\">LS</td>\n",
       "        <td style=\"padding-left: 1em; padding-right: 1em; text-align: center; vertical-align: top\">S02</td>\n",
       "    </tr>\n",
       "    <tr>\n",
       "        <td style=\"padding-left: 1em; padding-right: 1em; text-align: center; vertical-align: top\">MM</td>\n",
       "        <td style=\"padding-left: 1em; padding-right: 1em; text-align: center; vertical-align: top\">Full Shop</td>\n",
       "        <td style=\"padding-left: 1em; padding-right: 1em; text-align: center; vertical-align: top\">Fresh</td>\n",
       "        <td style=\"padding-left: 1em; padding-right: 1em; text-align: center; vertical-align: top\">STORE01958</td>\n",
       "        <td style=\"padding-left: 1em; padding-right: 1em; text-align: center; vertical-align: top\">LS</td>\n",
       "        <td style=\"padding-left: 1em; padding-right: 1em; text-align: center; vertical-align: top\">S02</td>\n",
       "    </tr>\n",
       "</table>\n",
       "[33850823 rows x 22 columns]<br/>Note: Only the head of the SFrame is printed.<br/>You can use print_rows(num_rows=m, num_columns=n) to print more rows and columns.\n",
       "</div>"
      ],
      "text/plain": [
       "Columns:\n",
       "\tSHOP_WEEK\tint\n",
       "\tSHOP_DATE\tint\n",
       "\tSHOP_WEEKDAY\tint\n",
       "\tSHOP_HOUR\tint\n",
       "\tQUANTITY\tint\n",
       "\tSPEND\tfloat\n",
       "\tPROD_CODE\tstr\n",
       "\tPROD_CODE_10\tstr\n",
       "\tPROD_CODE_20\tstr\n",
       "\tPROD_CODE_30\tstr\n",
       "\tPROD_CODE_40\tstr\n",
       "\tCUST_CODE\tstr\n",
       "\tCUST_PRICE_SENSITIVITY\tstr\n",
       "\tCUST_LIFESTAGE\tstr\n",
       "\tBASKET_ID\tint\n",
       "\tBASKET_SIZE\tstr\n",
       "\tBASKET_PRICE_SENSITIVITY\tstr\n",
       "\tBASKET_TYPE\tstr\n",
       "\tBASKET_DOMINANT_MISSION\tstr\n",
       "\tSTORE_CODE\tstr\n",
       "\tSTORE_FORMAT\tstr\n",
       "\tSTORE_REGION\tstr\n",
       "\n",
       "Rows: 33850823\n",
       "\n",
       "Data:\n",
       "+-----------+-----------+--------------+-----------+----------+-------+\n",
       "| SHOP_WEEK | SHOP_DATE | SHOP_WEEKDAY | SHOP_HOUR | QUANTITY | SPEND |\n",
       "+-----------+-----------+--------------+-----------+----------+-------+\n",
       "|   200607  |  20060412 |      4       |     21    |    7     |  3.15 |\n",
       "|   200607  |  20060414 |      6       |     9     |    1     |  0.64 |\n",
       "|   200607  |  20060414 |      6       |     11    |    1     |  0.64 |\n",
       "|   200607  |  20060414 |      6       |     21    |    1     |  0.64 |\n",
       "|   200607  |  20060414 |      6       |     8     |    1     |  0.64 |\n",
       "|   200607  |  20060411 |      3       |     13    |    3     |  1.92 |\n",
       "|   200607  |  20060415 |      7       |     13    |    1     |  0.64 |\n",
       "|   200607  |  20060412 |      4       |     16    |    1     |  2.54 |\n",
       "|   200607  |  20060414 |      6       |     17    |    1     |  0.45 |\n",
       "|   200607  |  20060415 |      7       |     12    |    4     |  1.8  |\n",
       "+-----------+-----------+--------------+-----------+----------+-------+\n",
       "+------------+--------------+--------------+--------------+--------------+\n",
       "| PROD_CODE  | PROD_CODE_10 | PROD_CODE_20 | PROD_CODE_30 | PROD_CODE_40 |\n",
       "+------------+--------------+--------------+--------------+--------------+\n",
       "| PRD0904230 |   CL00070    |   DEP00020   |    G00007    |    D00002    |\n",
       "| PRD0904223 |   CL00078    |   DEP00022   |    G00007    |    D00002    |\n",
       "| PRD0904223 |   CL00078    |   DEP00022   |    G00007    |    D00002    |\n",
       "| PRD0904223 |   CL00078    |   DEP00022   |    G00007    |    D00002    |\n",
       "| PRD0904223 |   CL00078    |   DEP00022   |    G00007    |    D00002    |\n",
       "| PRD0904223 |   CL00078    |   DEP00022   |    G00007    |    D00002    |\n",
       "| PRD0904223 |   CL00078    |   DEP00022   |    G00007    |    D00002    |\n",
       "| PRD0904225 |   CL00145    |   DEP00051   |    G00015    |    D00003    |\n",
       "| PRD0904230 |   CL00070    |   DEP00020   |    G00007    |    D00002    |\n",
       "| PRD0904230 |   CL00070    |   DEP00020   |    G00007    |    D00002    |\n",
       "+------------+--------------+--------------+--------------+--------------+\n",
       "+----------------+------------------------+----------------+-----------------+-------------+\n",
       "|   CUST_CODE    | CUST_PRICE_SENSITIVITY | CUST_LIFESTAGE |    BASKET_ID    | BASKET_SIZE |\n",
       "+----------------+------------------------+----------------+-----------------+-------------+\n",
       "|                |                        |                | 994100100137015 |      L      |\n",
       "| CUST0000329587 |           MM           |       PE       | 994100100350176 |      L      |\n",
       "| CUST0000783842 |           MM           |       OA       | 994100100622564 |      M      |\n",
       "| CUST0000799634 |           UM           |       YA       | 994100100632187 |      M      |\n",
       "| CUST0000917922 |           LA           |       YF       | 994100100703328 |      L      |\n",
       "| CUST0000926123 |           LA           |       OA       | 994100100708267 |      L      |\n",
       "|                |                        |                | 994100100101540 |      L      |\n",
       "| CUST0000988612 |           MM           |       OT       | 994100100745760 |      M      |\n",
       "| CUST0000050637 |           LA           |       OT       | 994100100183348 |      L      |\n",
       "| CUST0000344447 |           MM           |       YF       | 994100100359080 |      L      |\n",
       "+----------------+------------------------+----------------+-----------------+-------------+\n",
       "+--------------------------+-------------+-------------------------+------------+-----+\n",
       "| BASKET_PRICE_SENSITIVITY | BASKET_TYPE | BASKET_DOMINANT_MISSION | STORE_CODE | ... |\n",
       "+--------------------------+-------------+-------------------------+------------+-----+\n",
       "|            LA            |    Top Up   |          Fresh          | STORE01958 | ... |\n",
       "|            MM            |    Top Up   |          Fresh          | STORE01958 | ... |\n",
       "|            LA            |    Top Up   |          Fresh          | STORE01958 | ... |\n",
       "|            MM            |    Top Up   |          Fresh          | STORE01958 | ... |\n",
       "|            LA            |    Top Up   |          Mixed          | STORE01958 | ... |\n",
       "|            LA            |  Full Shop  |          Fresh          | STORE01958 | ... |\n",
       "|            LA            |    Top Up   |          Mixed          | STORE01958 | ... |\n",
       "|            MM            |    Top Up   |         Grocery         | STORE01958 | ... |\n",
       "|            LA            |    Top Up   |         Grocery         | STORE01958 | ... |\n",
       "|            MM            |  Full Shop  |          Fresh          | STORE01958 | ... |\n",
       "+--------------------------+-------------+-------------------------+------------+-----+\n",
       "[33850823 rows x 22 columns]\n",
       "Note: Only the head of the SFrame is printed.\n",
       "You can use print_rows(num_rows=m, num_columns=n) to print more rows and columns."
      ]
     },
     "execution_count": 97,
     "metadata": {},
     "output_type": "execute_result"
    }
   ],
   "source": [
    "#Sorting a Sframe\n",
    "sf1.sort(['SHOP_WEEK'])"
   ]
  },
  {
   "cell_type": "code",
   "execution_count": 116,
   "metadata": {
    "collapsed": true
   },
   "outputs": [
    {
     "name": "stdout",
     "output_type": "stream",
     "text": [
      "33850823\n"
     ]
    },
    {
     "data": {
      "text/html": [
       "<div style=\"max-height:1000px;max-width:1500px;overflow:auto;\"><table frame=\"box\" rules=\"cols\">\n",
       "    <tr>\n",
       "        <th style=\"padding-left: 1em; padding-right: 1em; text-align: center\">SHOP_WEEK</th>\n",
       "        <th style=\"padding-left: 1em; padding-right: 1em; text-align: center\">SHOP_DATE</th>\n",
       "        <th style=\"padding-left: 1em; padding-right: 1em; text-align: center\">SHOP_WEEKDAY</th>\n",
       "        <th style=\"padding-left: 1em; padding-right: 1em; text-align: center\">SHOP_HOUR</th>\n",
       "        <th style=\"padding-left: 1em; padding-right: 1em; text-align: center\">QUANTITY</th>\n",
       "        <th style=\"padding-left: 1em; padding-right: 1em; text-align: center\">SPEND</th>\n",
       "        <th style=\"padding-left: 1em; padding-right: 1em; text-align: center\">PROD_CODE</th>\n",
       "        <th style=\"padding-left: 1em; padding-right: 1em; text-align: center\">PROD_CODE_10</th>\n",
       "        <th style=\"padding-left: 1em; padding-right: 1em; text-align: center\">PROD_CODE_20</th>\n",
       "    </tr>\n",
       "    <tr>\n",
       "        <td style=\"padding-left: 1em; padding-right: 1em; text-align: center; vertical-align: top\">200607</td>\n",
       "        <td style=\"padding-left: 1em; padding-right: 1em; text-align: center; vertical-align: top\">20060410</td>\n",
       "        <td style=\"padding-left: 1em; padding-right: 1em; text-align: center; vertical-align: top\">2</td>\n",
       "        <td style=\"padding-left: 1em; padding-right: 1em; text-align: center; vertical-align: top\">16</td>\n",
       "        <td style=\"padding-left: 1em; padding-right: 1em; text-align: center; vertical-align: top\">1</td>\n",
       "        <td style=\"padding-left: 1em; padding-right: 1em; text-align: center; vertical-align: top\">1.01</td>\n",
       "        <td style=\"padding-left: 1em; padding-right: 1em; text-align: center; vertical-align: top\">PRD0900005</td>\n",
       "        <td style=\"padding-left: 1em; padding-right: 1em; text-align: center; vertical-align: top\">CL00155</td>\n",
       "        <td style=\"padding-left: 1em; padding-right: 1em; text-align: center; vertical-align: top\">DEP00053</td>\n",
       "    </tr>\n",
       "    <tr>\n",
       "        <td style=\"padding-left: 1em; padding-right: 1em; text-align: center; vertical-align: top\">200607</td>\n",
       "        <td style=\"padding-left: 1em; padding-right: 1em; text-align: center; vertical-align: top\">20060416</td>\n",
       "        <td style=\"padding-left: 1em; padding-right: 1em; text-align: center; vertical-align: top\">1</td>\n",
       "        <td style=\"padding-left: 1em; padding-right: 1em; text-align: center; vertical-align: top\">9</td>\n",
       "        <td style=\"padding-left: 1em; padding-right: 1em; text-align: center; vertical-align: top\">3</td>\n",
       "        <td style=\"padding-left: 1em; padding-right: 1em; text-align: center; vertical-align: top\">3.03</td>\n",
       "        <td style=\"padding-left: 1em; padding-right: 1em; text-align: center; vertical-align: top\">PRD0900005</td>\n",
       "        <td style=\"padding-left: 1em; padding-right: 1em; text-align: center; vertical-align: top\">CL00155</td>\n",
       "        <td style=\"padding-left: 1em; padding-right: 1em; text-align: center; vertical-align: top\">DEP00053</td>\n",
       "    </tr>\n",
       "    <tr>\n",
       "        <td style=\"padding-left: 1em; padding-right: 1em; text-align: center; vertical-align: top\">200607</td>\n",
       "        <td style=\"padding-left: 1em; padding-right: 1em; text-align: center; vertical-align: top\">20060413</td>\n",
       "        <td style=\"padding-left: 1em; padding-right: 1em; text-align: center; vertical-align: top\">5</td>\n",
       "        <td style=\"padding-left: 1em; padding-right: 1em; text-align: center; vertical-align: top\">19</td>\n",
       "        <td style=\"padding-left: 1em; padding-right: 1em; text-align: center; vertical-align: top\">1</td>\n",
       "        <td style=\"padding-left: 1em; padding-right: 1em; text-align: center; vertical-align: top\">0.22</td>\n",
       "        <td style=\"padding-left: 1em; padding-right: 1em; text-align: center; vertical-align: top\">PRD0900006</td>\n",
       "        <td style=\"padding-left: 1em; padding-right: 1em; text-align: center; vertical-align: top\">CL00103</td>\n",
       "        <td style=\"padding-left: 1em; padding-right: 1em; text-align: center; vertical-align: top\">DEP00035</td>\n",
       "    </tr>\n",
       "    <tr>\n",
       "        <td style=\"padding-left: 1em; padding-right: 1em; text-align: center; vertical-align: top\">200607</td>\n",
       "        <td style=\"padding-left: 1em; padding-right: 1em; text-align: center; vertical-align: top\">20060416</td>\n",
       "        <td style=\"padding-left: 1em; padding-right: 1em; text-align: center; vertical-align: top\">1</td>\n",
       "        <td style=\"padding-left: 1em; padding-right: 1em; text-align: center; vertical-align: top\">17</td>\n",
       "        <td style=\"padding-left: 1em; padding-right: 1em; text-align: center; vertical-align: top\">1</td>\n",
       "        <td style=\"padding-left: 1em; padding-right: 1em; text-align: center; vertical-align: top\">0.22</td>\n",
       "        <td style=\"padding-left: 1em; padding-right: 1em; text-align: center; vertical-align: top\">PRD0900007</td>\n",
       "        <td style=\"padding-left: 1em; padding-right: 1em; text-align: center; vertical-align: top\">CL00103</td>\n",
       "        <td style=\"padding-left: 1em; padding-right: 1em; text-align: center; vertical-align: top\">DEP00035</td>\n",
       "    </tr>\n",
       "    <tr>\n",
       "        <td style=\"padding-left: 1em; padding-right: 1em; text-align: center; vertical-align: top\">200607</td>\n",
       "        <td style=\"padding-left: 1em; padding-right: 1em; text-align: center; vertical-align: top\">20060414</td>\n",
       "        <td style=\"padding-left: 1em; padding-right: 1em; text-align: center; vertical-align: top\">6</td>\n",
       "        <td style=\"padding-left: 1em; padding-right: 1em; text-align: center; vertical-align: top\">17</td>\n",
       "        <td style=\"padding-left: 1em; padding-right: 1em; text-align: center; vertical-align: top\">1</td>\n",
       "        <td style=\"padding-left: 1em; padding-right: 1em; text-align: center; vertical-align: top\">1.77</td>\n",
       "        <td style=\"padding-left: 1em; padding-right: 1em; text-align: center; vertical-align: top\">PRD0900008</td>\n",
       "        <td style=\"padding-left: 1em; padding-right: 1em; text-align: center; vertical-align: top\">CL00042</td>\n",
       "        <td style=\"padding-left: 1em; padding-right: 1em; text-align: center; vertical-align: top\">DEP00011</td>\n",
       "    </tr>\n",
       "    <tr>\n",
       "        <td style=\"padding-left: 1em; padding-right: 1em; text-align: center; vertical-align: top\">200607</td>\n",
       "        <td style=\"padding-left: 1em; padding-right: 1em; text-align: center; vertical-align: top\">20060411</td>\n",
       "        <td style=\"padding-left: 1em; padding-right: 1em; text-align: center; vertical-align: top\">3</td>\n",
       "        <td style=\"padding-left: 1em; padding-right: 1em; text-align: center; vertical-align: top\">16</td>\n",
       "        <td style=\"padding-left: 1em; padding-right: 1em; text-align: center; vertical-align: top\">1</td>\n",
       "        <td style=\"padding-left: 1em; padding-right: 1em; text-align: center; vertical-align: top\">1.05</td>\n",
       "        <td style=\"padding-left: 1em; padding-right: 1em; text-align: center; vertical-align: top\">PRD0900011</td>\n",
       "        <td style=\"padding-left: 1em; padding-right: 1em; text-align: center; vertical-align: top\">CL00033</td>\n",
       "        <td style=\"padding-left: 1em; padding-right: 1em; text-align: center; vertical-align: top\">DEP00008</td>\n",
       "    </tr>\n",
       "    <tr>\n",
       "        <td style=\"padding-left: 1em; padding-right: 1em; text-align: center; vertical-align: top\">200607</td>\n",
       "        <td style=\"padding-left: 1em; padding-right: 1em; text-align: center; vertical-align: top\">20060411</td>\n",
       "        <td style=\"padding-left: 1em; padding-right: 1em; text-align: center; vertical-align: top\">3</td>\n",
       "        <td style=\"padding-left: 1em; padding-right: 1em; text-align: center; vertical-align: top\">14</td>\n",
       "        <td style=\"padding-left: 1em; padding-right: 1em; text-align: center; vertical-align: top\">1</td>\n",
       "        <td style=\"padding-left: 1em; padding-right: 1em; text-align: center; vertical-align: top\">0.92</td>\n",
       "        <td style=\"padding-left: 1em; padding-right: 1em; text-align: center; vertical-align: top\">PRD0900014</td>\n",
       "        <td style=\"padding-left: 1em; padding-right: 1em; text-align: center; vertical-align: top\">CL00089</td>\n",
       "        <td style=\"padding-left: 1em; padding-right: 1em; text-align: center; vertical-align: top\">DEP00025</td>\n",
       "    </tr>\n",
       "    <tr>\n",
       "        <td style=\"padding-left: 1em; padding-right: 1em; text-align: center; vertical-align: top\">200607</td>\n",
       "        <td style=\"padding-left: 1em; padding-right: 1em; text-align: center; vertical-align: top\">20060414</td>\n",
       "        <td style=\"padding-left: 1em; padding-right: 1em; text-align: center; vertical-align: top\">6</td>\n",
       "        <td style=\"padding-left: 1em; padding-right: 1em; text-align: center; vertical-align: top\">17</td>\n",
       "        <td style=\"padding-left: 1em; padding-right: 1em; text-align: center; vertical-align: top\">1</td>\n",
       "        <td style=\"padding-left: 1em; padding-right: 1em; text-align: center; vertical-align: top\">1.99</td>\n",
       "        <td style=\"padding-left: 1em; padding-right: 1em; text-align: center; vertical-align: top\">PRD0900017</td>\n",
       "        <td style=\"padding-left: 1em; padding-right: 1em; text-align: center; vertical-align: top\">CL00140</td>\n",
       "        <td style=\"padding-left: 1em; padding-right: 1em; text-align: center; vertical-align: top\">DEP00049</td>\n",
       "    </tr>\n",
       "    <tr>\n",
       "        <td style=\"padding-left: 1em; padding-right: 1em; text-align: center; vertical-align: top\">200607</td>\n",
       "        <td style=\"padding-left: 1em; padding-right: 1em; text-align: center; vertical-align: top\">20060414</td>\n",
       "        <td style=\"padding-left: 1em; padding-right: 1em; text-align: center; vertical-align: top\">6</td>\n",
       "        <td style=\"padding-left: 1em; padding-right: 1em; text-align: center; vertical-align: top\">16</td>\n",
       "        <td style=\"padding-left: 1em; padding-right: 1em; text-align: center; vertical-align: top\">1</td>\n",
       "        <td style=\"padding-left: 1em; padding-right: 1em; text-align: center; vertical-align: top\">1.48</td>\n",
       "        <td style=\"padding-left: 1em; padding-right: 1em; text-align: center; vertical-align: top\">PRD0900021</td>\n",
       "        <td style=\"padding-left: 1em; padding-right: 1em; text-align: center; vertical-align: top\">CL00006</td>\n",
       "        <td style=\"padding-left: 1em; padding-right: 1em; text-align: center; vertical-align: top\">DEP00002</td>\n",
       "    </tr>\n",
       "    <tr>\n",
       "        <td style=\"padding-left: 1em; padding-right: 1em; text-align: center; vertical-align: top\">200607</td>\n",
       "        <td style=\"padding-left: 1em; padding-right: 1em; text-align: center; vertical-align: top\">20060411</td>\n",
       "        <td style=\"padding-left: 1em; padding-right: 1em; text-align: center; vertical-align: top\">3</td>\n",
       "        <td style=\"padding-left: 1em; padding-right: 1em; text-align: center; vertical-align: top\">20</td>\n",
       "        <td style=\"padding-left: 1em; padding-right: 1em; text-align: center; vertical-align: top\">1</td>\n",
       "        <td style=\"padding-left: 1em; padding-right: 1em; text-align: center; vertical-align: top\">1.38</td>\n",
       "        <td style=\"padding-left: 1em; padding-right: 1em; text-align: center; vertical-align: top\">PRD0900026</td>\n",
       "        <td style=\"padding-left: 1em; padding-right: 1em; text-align: center; vertical-align: top\">CL00144</td>\n",
       "        <td style=\"padding-left: 1em; padding-right: 1em; text-align: center; vertical-align: top\">DEP00051</td>\n",
       "    </tr>\n",
       "</table>\n",
       "<table frame=\"box\" rules=\"cols\">\n",
       "    <tr>\n",
       "        <th style=\"padding-left: 1em; padding-right: 1em; text-align: center\">PROD_CODE_30</th>\n",
       "        <th style=\"padding-left: 1em; padding-right: 1em; text-align: center\">PROD_CODE_40</th>\n",
       "        <th style=\"padding-left: 1em; padding-right: 1em; text-align: center\">CUST_CODE</th>\n",
       "        <th style=\"padding-left: 1em; padding-right: 1em; text-align: center\">CUST_PRICE_SENSITIVITY</th>\n",
       "        <th style=\"padding-left: 1em; padding-right: 1em; text-align: center\">CUST_LIFESTAGE</th>\n",
       "        <th style=\"padding-left: 1em; padding-right: 1em; text-align: center\">BASKET_ID</th>\n",
       "        <th style=\"padding-left: 1em; padding-right: 1em; text-align: center\">BASKET_SIZE</th>\n",
       "    </tr>\n",
       "    <tr>\n",
       "        <td style=\"padding-left: 1em; padding-right: 1em; text-align: center; vertical-align: top\">G00016</td>\n",
       "        <td style=\"padding-left: 1em; padding-right: 1em; text-align: center; vertical-align: top\">D00003</td>\n",
       "        <td style=\"padding-left: 1em; padding-right: 1em; text-align: center; vertical-align: top\">CUST0000167145</td>\n",
       "        <td style=\"padding-left: 1em; padding-right: 1em; text-align: center; vertical-align: top\">LA</td>\n",
       "        <td style=\"padding-left: 1em; padding-right: 1em; text-align: center; vertical-align: top\">YA</td>\n",
       "        <td style=\"padding-left: 1em; padding-right: 1em; text-align: center; vertical-align: top\">994100100253028</td>\n",
       "        <td style=\"padding-left: 1em; padding-right: 1em; text-align: center; vertical-align: top\">L</td>\n",
       "    </tr>\n",
       "    <tr>\n",
       "        <td style=\"padding-left: 1em; padding-right: 1em; text-align: center; vertical-align: top\">G00016</td>\n",
       "        <td style=\"padding-left: 1em; padding-right: 1em; text-align: center; vertical-align: top\">D00003</td>\n",
       "        <td style=\"padding-left: 1em; padding-right: 1em; text-align: center; vertical-align: top\">CUST0000246027</td>\n",
       "        <td style=\"padding-left: 1em; padding-right: 1em; text-align: center; vertical-align: top\">UM</td>\n",
       "        <td style=\"padding-left: 1em; padding-right: 1em; text-align: center; vertical-align: top\">YA</td>\n",
       "        <td style=\"padding-left: 1em; padding-right: 1em; text-align: center; vertical-align: top\">994100100299966</td>\n",
       "        <td style=\"padding-left: 1em; padding-right: 1em; text-align: center; vertical-align: top\">L</td>\n",
       "    </tr>\n",
       "    <tr>\n",
       "        <td style=\"padding-left: 1em; padding-right: 1em; text-align: center; vertical-align: top\">G00010</td>\n",
       "        <td style=\"padding-left: 1em; padding-right: 1em; text-align: center; vertical-align: top\">D00003</td>\n",
       "        <td style=\"padding-left: 1em; padding-right: 1em; text-align: center; vertical-align: top\">CUST0000140993</td>\n",
       "        <td style=\"padding-left: 1em; padding-right: 1em; text-align: center; vertical-align: top\">LA</td>\n",
       "        <td style=\"padding-left: 1em; padding-right: 1em; text-align: center; vertical-align: top\">OT</td>\n",
       "        <td style=\"padding-left: 1em; padding-right: 1em; text-align: center; vertical-align: top\">994100100237197</td>\n",
       "        <td style=\"padding-left: 1em; padding-right: 1em; text-align: center; vertical-align: top\">L</td>\n",
       "    </tr>\n",
       "    <tr>\n",
       "        <td style=\"padding-left: 1em; padding-right: 1em; text-align: center; vertical-align: top\">G00010</td>\n",
       "        <td style=\"padding-left: 1em; padding-right: 1em; text-align: center; vertical-align: top\">D00003</td>\n",
       "        <td style=\"padding-left: 1em; padding-right: 1em; text-align: center; vertical-align: top\">CUST0000938246</td>\n",
       "        <td style=\"padding-left: 1em; padding-right: 1em; text-align: center; vertical-align: top\">MM</td>\n",
       "        <td style=\"padding-left: 1em; padding-right: 1em; text-align: center; vertical-align: top\">OA</td>\n",
       "        <td style=\"padding-left: 1em; padding-right: 1em; text-align: center; vertical-align: top\">994100100715506</td>\n",
       "        <td style=\"padding-left: 1em; padding-right: 1em; text-align: center; vertical-align: top\">L</td>\n",
       "    </tr>\n",
       "    <tr>\n",
       "        <td style=\"padding-left: 1em; padding-right: 1em; text-align: center; vertical-align: top\">G00004</td>\n",
       "        <td style=\"padding-left: 1em; padding-right: 1em; text-align: center; vertical-align: top\">D00002</td>\n",
       "        <td style=\"padding-left: 1em; padding-right: 1em; text-align: center; vertical-align: top\">CUST0000994485</td>\n",
       "        <td style=\"padding-left: 1em; padding-right: 1em; text-align: center; vertical-align: top\">MM</td>\n",
       "        <td style=\"padding-left: 1em; padding-right: 1em; text-align: center; vertical-align: top\"></td>\n",
       "        <td style=\"padding-left: 1em; padding-right: 1em; text-align: center; vertical-align: top\">994100100749139</td>\n",
       "        <td style=\"padding-left: 1em; padding-right: 1em; text-align: center; vertical-align: top\">L</td>\n",
       "    </tr>\n",
       "    <tr>\n",
       "        <td style=\"padding-left: 1em; padding-right: 1em; text-align: center; vertical-align: top\">G00004</td>\n",
       "        <td style=\"padding-left: 1em; padding-right: 1em; text-align: center; vertical-align: top\">D00002</td>\n",
       "        <td style=\"padding-left: 1em; padding-right: 1em; text-align: center; vertical-align: top\"></td>\n",
       "        <td style=\"padding-left: 1em; padding-right: 1em; text-align: center; vertical-align: top\"></td>\n",
       "        <td style=\"padding-left: 1em; padding-right: 1em; text-align: center; vertical-align: top\"></td>\n",
       "        <td style=\"padding-left: 1em; padding-right: 1em; text-align: center; vertical-align: top\">994100100100943</td>\n",
       "        <td style=\"padding-left: 1em; padding-right: 1em; text-align: center; vertical-align: top\">L</td>\n",
       "    </tr>\n",
       "    <tr>\n",
       "        <td style=\"padding-left: 1em; padding-right: 1em; text-align: center; vertical-align: top\">G00008</td>\n",
       "        <td style=\"padding-left: 1em; padding-right: 1em; text-align: center; vertical-align: top\">D00002</td>\n",
       "        <td style=\"padding-left: 1em; padding-right: 1em; text-align: center; vertical-align: top\">CUST0000618211</td>\n",
       "        <td style=\"padding-left: 1em; padding-right: 1em; text-align: center; vertical-align: top\">LA</td>\n",
       "        <td style=\"padding-left: 1em; padding-right: 1em; text-align: center; vertical-align: top\">YF</td>\n",
       "        <td style=\"padding-left: 1em; padding-right: 1em; text-align: center; vertical-align: top\">994100100522743</td>\n",
       "        <td style=\"padding-left: 1em; padding-right: 1em; text-align: center; vertical-align: top\">L</td>\n",
       "    </tr>\n",
       "    <tr>\n",
       "        <td style=\"padding-left: 1em; padding-right: 1em; text-align: center; vertical-align: top\">G00014</td>\n",
       "        <td style=\"padding-left: 1em; padding-right: 1em; text-align: center; vertical-align: top\">D00003</td>\n",
       "        <td style=\"padding-left: 1em; padding-right: 1em; text-align: center; vertical-align: top\">CUST0000994485</td>\n",
       "        <td style=\"padding-left: 1em; padding-right: 1em; text-align: center; vertical-align: top\">MM</td>\n",
       "        <td style=\"padding-left: 1em; padding-right: 1em; text-align: center; vertical-align: top\"></td>\n",
       "        <td style=\"padding-left: 1em; padding-right: 1em; text-align: center; vertical-align: top\">994100100749139</td>\n",
       "        <td style=\"padding-left: 1em; padding-right: 1em; text-align: center; vertical-align: top\">L</td>\n",
       "    </tr>\n",
       "    <tr>\n",
       "        <td style=\"padding-left: 1em; padding-right: 1em; text-align: center; vertical-align: top\">G00001</td>\n",
       "        <td style=\"padding-left: 1em; padding-right: 1em; text-align: center; vertical-align: top\">D00001</td>\n",
       "        <td style=\"padding-left: 1em; padding-right: 1em; text-align: center; vertical-align: top\">CUST0000576800</td>\n",
       "        <td style=\"padding-left: 1em; padding-right: 1em; text-align: center; vertical-align: top\">MM</td>\n",
       "        <td style=\"padding-left: 1em; padding-right: 1em; text-align: center; vertical-align: top\">OA</td>\n",
       "        <td style=\"padding-left: 1em; padding-right: 1em; text-align: center; vertical-align: top\">994100100497892</td>\n",
       "        <td style=\"padding-left: 1em; padding-right: 1em; text-align: center; vertical-align: top\">L</td>\n",
       "    </tr>\n",
       "    <tr>\n",
       "        <td style=\"padding-left: 1em; padding-right: 1em; text-align: center; vertical-align: top\">G00015</td>\n",
       "        <td style=\"padding-left: 1em; padding-right: 1em; text-align: center; vertical-align: top\">D00003</td>\n",
       "        <td style=\"padding-left: 1em; padding-right: 1em; text-align: center; vertical-align: top\">CUST0000701067</td>\n",
       "        <td style=\"padding-left: 1em; padding-right: 1em; text-align: center; vertical-align: top\">MM</td>\n",
       "        <td style=\"padding-left: 1em; padding-right: 1em; text-align: center; vertical-align: top\">OT</td>\n",
       "        <td style=\"padding-left: 1em; padding-right: 1em; text-align: center; vertical-align: top\">994100100572935</td>\n",
       "        <td style=\"padding-left: 1em; padding-right: 1em; text-align: center; vertical-align: top\">S</td>\n",
       "    </tr>\n",
       "</table>\n",
       "<table frame=\"box\" rules=\"cols\">\n",
       "    <tr>\n",
       "        <th style=\"padding-left: 1em; padding-right: 1em; text-align: center\">BASKET_PRICE_SENSITIVITY</th>\n",
       "        <th style=\"padding-left: 1em; padding-right: 1em; text-align: center\">BASKET_TYPE</th>\n",
       "        <th style=\"padding-left: 1em; padding-right: 1em; text-align: center\">BASKET_DOMINANT_MISSION</th>\n",
       "        <th style=\"padding-left: 1em; padding-right: 1em; text-align: center\">STORE_CODE</th>\n",
       "        <th style=\"padding-left: 1em; padding-right: 1em; text-align: center\">STORE_FORMAT</th>\n",
       "        <th style=\"padding-left: 1em; padding-right: 1em; text-align: center\">STORE_REGION</th>\n",
       "    </tr>\n",
       "    <tr>\n",
       "        <td style=\"padding-left: 1em; padding-right: 1em; text-align: center; vertical-align: top\">MM</td>\n",
       "        <td style=\"padding-left: 1em; padding-right: 1em; text-align: center; vertical-align: top\">Top Up</td>\n",
       "        <td style=\"padding-left: 1em; padding-right: 1em; text-align: center; vertical-align: top\">Mixed</td>\n",
       "        <td style=\"padding-left: 1em; padding-right: 1em; text-align: center; vertical-align: top\">STORE00001</td>\n",
       "        <td style=\"padding-left: 1em; padding-right: 1em; text-align: center; vertical-align: top\">LS</td>\n",
       "        <td style=\"padding-left: 1em; padding-right: 1em; text-align: center; vertical-align: top\">E02</td>\n",
       "    </tr>\n",
       "    <tr>\n",
       "        <td style=\"padding-left: 1em; padding-right: 1em; text-align: center; vertical-align: top\">UM</td>\n",
       "        <td style=\"padding-left: 1em; padding-right: 1em; text-align: center; vertical-align: top\">Top Up</td>\n",
       "        <td style=\"padding-left: 1em; padding-right: 1em; text-align: center; vertical-align: top\">Fresh</td>\n",
       "        <td style=\"padding-left: 1em; padding-right: 1em; text-align: center; vertical-align: top\">STORE00001</td>\n",
       "        <td style=\"padding-left: 1em; padding-right: 1em; text-align: center; vertical-align: top\">LS</td>\n",
       "        <td style=\"padding-left: 1em; padding-right: 1em; text-align: center; vertical-align: top\">E02</td>\n",
       "    </tr>\n",
       "    <tr>\n",
       "        <td style=\"padding-left: 1em; padding-right: 1em; text-align: center; vertical-align: top\">MM</td>\n",
       "        <td style=\"padding-left: 1em; padding-right: 1em; text-align: center; vertical-align: top\">Full Shop</td>\n",
       "        <td style=\"padding-left: 1em; padding-right: 1em; text-align: center; vertical-align: top\">Mixed</td>\n",
       "        <td style=\"padding-left: 1em; padding-right: 1em; text-align: center; vertical-align: top\">STORE00001</td>\n",
       "        <td style=\"padding-left: 1em; padding-right: 1em; text-align: center; vertical-align: top\">LS</td>\n",
       "        <td style=\"padding-left: 1em; padding-right: 1em; text-align: center; vertical-align: top\">E02</td>\n",
       "    </tr>\n",
       "    <tr>\n",
       "        <td style=\"padding-left: 1em; padding-right: 1em; text-align: center; vertical-align: top\">MM</td>\n",
       "        <td style=\"padding-left: 1em; padding-right: 1em; text-align: center; vertical-align: top\">Full Shop</td>\n",
       "        <td style=\"padding-left: 1em; padding-right: 1em; text-align: center; vertical-align: top\">Fresh</td>\n",
       "        <td style=\"padding-left: 1em; padding-right: 1em; text-align: center; vertical-align: top\">STORE00001</td>\n",
       "        <td style=\"padding-left: 1em; padding-right: 1em; text-align: center; vertical-align: top\">LS</td>\n",
       "        <td style=\"padding-left: 1em; padding-right: 1em; text-align: center; vertical-align: top\">E02</td>\n",
       "    </tr>\n",
       "    <tr>\n",
       "        <td style=\"padding-left: 1em; padding-right: 1em; text-align: center; vertical-align: top\">UM</td>\n",
       "        <td style=\"padding-left: 1em; padding-right: 1em; text-align: center; vertical-align: top\">Full Shop</td>\n",
       "        <td style=\"padding-left: 1em; padding-right: 1em; text-align: center; vertical-align: top\">Mixed</td>\n",
       "        <td style=\"padding-left: 1em; padding-right: 1em; text-align: center; vertical-align: top\">STORE00001</td>\n",
       "        <td style=\"padding-left: 1em; padding-right: 1em; text-align: center; vertical-align: top\">LS</td>\n",
       "        <td style=\"padding-left: 1em; padding-right: 1em; text-align: center; vertical-align: top\">E02</td>\n",
       "    </tr>\n",
       "    <tr>\n",
       "        <td style=\"padding-left: 1em; padding-right: 1em; text-align: center; vertical-align: top\">UM</td>\n",
       "        <td style=\"padding-left: 1em; padding-right: 1em; text-align: center; vertical-align: top\">Top Up</td>\n",
       "        <td style=\"padding-left: 1em; padding-right: 1em; text-align: center; vertical-align: top\">Fresh</td>\n",
       "        <td style=\"padding-left: 1em; padding-right: 1em; text-align: center; vertical-align: top\">STORE00001</td>\n",
       "        <td style=\"padding-left: 1em; padding-right: 1em; text-align: center; vertical-align: top\">LS</td>\n",
       "        <td style=\"padding-left: 1em; padding-right: 1em; text-align: center; vertical-align: top\">E02</td>\n",
       "    </tr>\n",
       "    <tr>\n",
       "        <td style=\"padding-left: 1em; padding-right: 1em; text-align: center; vertical-align: top\">LA</td>\n",
       "        <td style=\"padding-left: 1em; padding-right: 1em; text-align: center; vertical-align: top\">Full Shop</td>\n",
       "        <td style=\"padding-left: 1em; padding-right: 1em; text-align: center; vertical-align: top\">Fresh</td>\n",
       "        <td style=\"padding-left: 1em; padding-right: 1em; text-align: center; vertical-align: top\">STORE00001</td>\n",
       "        <td style=\"padding-left: 1em; padding-right: 1em; text-align: center; vertical-align: top\">LS</td>\n",
       "        <td style=\"padding-left: 1em; padding-right: 1em; text-align: center; vertical-align: top\">E02</td>\n",
       "    </tr>\n",
       "    <tr>\n",
       "        <td style=\"padding-left: 1em; padding-right: 1em; text-align: center; vertical-align: top\">UM</td>\n",
       "        <td style=\"padding-left: 1em; padding-right: 1em; text-align: center; vertical-align: top\">Full Shop</td>\n",
       "        <td style=\"padding-left: 1em; padding-right: 1em; text-align: center; vertical-align: top\">Mixed</td>\n",
       "        <td style=\"padding-left: 1em; padding-right: 1em; text-align: center; vertical-align: top\">STORE00001</td>\n",
       "        <td style=\"padding-left: 1em; padding-right: 1em; text-align: center; vertical-align: top\">LS</td>\n",
       "        <td style=\"padding-left: 1em; padding-right: 1em; text-align: center; vertical-align: top\">E02</td>\n",
       "    </tr>\n",
       "    <tr>\n",
       "        <td style=\"padding-left: 1em; padding-right: 1em; text-align: center; vertical-align: top\">MM</td>\n",
       "        <td style=\"padding-left: 1em; padding-right: 1em; text-align: center; vertical-align: top\">Top Up</td>\n",
       "        <td style=\"padding-left: 1em; padding-right: 1em; text-align: center; vertical-align: top\">Fresh</td>\n",
       "        <td style=\"padding-left: 1em; padding-right: 1em; text-align: center; vertical-align: top\">STORE00001</td>\n",
       "        <td style=\"padding-left: 1em; padding-right: 1em; text-align: center; vertical-align: top\">LS</td>\n",
       "        <td style=\"padding-left: 1em; padding-right: 1em; text-align: center; vertical-align: top\">E02</td>\n",
       "    </tr>\n",
       "    <tr>\n",
       "        <td style=\"padding-left: 1em; padding-right: 1em; text-align: center; vertical-align: top\">MM</td>\n",
       "        <td style=\"padding-left: 1em; padding-right: 1em; text-align: center; vertical-align: top\">Small Shop</td>\n",
       "        <td style=\"padding-left: 1em; padding-right: 1em; text-align: center; vertical-align: top\">Mixed</td>\n",
       "        <td style=\"padding-left: 1em; padding-right: 1em; text-align: center; vertical-align: top\">STORE00001</td>\n",
       "        <td style=\"padding-left: 1em; padding-right: 1em; text-align: center; vertical-align: top\">LS</td>\n",
       "        <td style=\"padding-left: 1em; padding-right: 1em; text-align: center; vertical-align: top\">E02</td>\n",
       "    </tr>\n",
       "</table>\n",
       "[33850823 rows x 22 columns]<br/>Note: Only the head of the SFrame is printed.<br/>You can use print_rows(num_rows=m, num_columns=n) to print more rows and columns.\n",
       "</div>"
      ],
      "text/plain": [
       "Columns:\n",
       "\tSHOP_WEEK\tint\n",
       "\tSHOP_DATE\tint\n",
       "\tSHOP_WEEKDAY\tint\n",
       "\tSHOP_HOUR\tint\n",
       "\tQUANTITY\tint\n",
       "\tSPEND\tfloat\n",
       "\tPROD_CODE\tstr\n",
       "\tPROD_CODE_10\tstr\n",
       "\tPROD_CODE_20\tstr\n",
       "\tPROD_CODE_30\tstr\n",
       "\tPROD_CODE_40\tstr\n",
       "\tCUST_CODE\tstr\n",
       "\tCUST_PRICE_SENSITIVITY\tstr\n",
       "\tCUST_LIFESTAGE\tstr\n",
       "\tBASKET_ID\tint\n",
       "\tBASKET_SIZE\tstr\n",
       "\tBASKET_PRICE_SENSITIVITY\tstr\n",
       "\tBASKET_TYPE\tstr\n",
       "\tBASKET_DOMINANT_MISSION\tstr\n",
       "\tSTORE_CODE\tstr\n",
       "\tSTORE_FORMAT\tstr\n",
       "\tSTORE_REGION\tstr\n",
       "\n",
       "Rows: 33850823\n",
       "\n",
       "Data:\n",
       "+-----------+-----------+--------------+-----------+----------+-------+\n",
       "| SHOP_WEEK | SHOP_DATE | SHOP_WEEKDAY | SHOP_HOUR | QUANTITY | SPEND |\n",
       "+-----------+-----------+--------------+-----------+----------+-------+\n",
       "|   200607  |  20060410 |      2       |     16    |    1     |  1.01 |\n",
       "|   200607  |  20060416 |      1       |     9     |    3     |  3.03 |\n",
       "|   200607  |  20060413 |      5       |     19    |    1     |  0.22 |\n",
       "|   200607  |  20060416 |      1       |     17    |    1     |  0.22 |\n",
       "|   200607  |  20060414 |      6       |     17    |    1     |  1.77 |\n",
       "|   200607  |  20060411 |      3       |     16    |    1     |  1.05 |\n",
       "|   200607  |  20060411 |      3       |     14    |    1     |  0.92 |\n",
       "|   200607  |  20060414 |      6       |     17    |    1     |  1.99 |\n",
       "|   200607  |  20060414 |      6       |     16    |    1     |  1.48 |\n",
       "|   200607  |  20060411 |      3       |     20    |    1     |  1.38 |\n",
       "+-----------+-----------+--------------+-----------+----------+-------+\n",
       "+------------+--------------+--------------+--------------+--------------+\n",
       "| PROD_CODE  | PROD_CODE_10 | PROD_CODE_20 | PROD_CODE_30 | PROD_CODE_40 |\n",
       "+------------+--------------+--------------+--------------+--------------+\n",
       "| PRD0900005 |   CL00155    |   DEP00053   |    G00016    |    D00003    |\n",
       "| PRD0900005 |   CL00155    |   DEP00053   |    G00016    |    D00003    |\n",
       "| PRD0900006 |   CL00103    |   DEP00035   |    G00010    |    D00003    |\n",
       "| PRD0900007 |   CL00103    |   DEP00035   |    G00010    |    D00003    |\n",
       "| PRD0900008 |   CL00042    |   DEP00011   |    G00004    |    D00002    |\n",
       "| PRD0900011 |   CL00033    |   DEP00008   |    G00004    |    D00002    |\n",
       "| PRD0900014 |   CL00089    |   DEP00025   |    G00008    |    D00002    |\n",
       "| PRD0900017 |   CL00140    |   DEP00049   |    G00014    |    D00003    |\n",
       "| PRD0900021 |   CL00006    |   DEP00002   |    G00001    |    D00001    |\n",
       "| PRD0900026 |   CL00144    |   DEP00051   |    G00015    |    D00003    |\n",
       "+------------+--------------+--------------+--------------+--------------+\n",
       "+----------------+------------------------+----------------+-----------------+-------------+\n",
       "|   CUST_CODE    | CUST_PRICE_SENSITIVITY | CUST_LIFESTAGE |    BASKET_ID    | BASKET_SIZE |\n",
       "+----------------+------------------------+----------------+-----------------+-------------+\n",
       "| CUST0000167145 |           LA           |       YA       | 994100100253028 |      L      |\n",
       "| CUST0000246027 |           UM           |       YA       | 994100100299966 |      L      |\n",
       "| CUST0000140993 |           LA           |       OT       | 994100100237197 |      L      |\n",
       "| CUST0000938246 |           MM           |       OA       | 994100100715506 |      L      |\n",
       "| CUST0000994485 |           MM           |                | 994100100749139 |      L      |\n",
       "|                |                        |                | 994100100100943 |      L      |\n",
       "| CUST0000618211 |           LA           |       YF       | 994100100522743 |      L      |\n",
       "| CUST0000994485 |           MM           |                | 994100100749139 |      L      |\n",
       "| CUST0000576800 |           MM           |       OA       | 994100100497892 |      L      |\n",
       "| CUST0000701067 |           MM           |       OT       | 994100100572935 |      S      |\n",
       "+----------------+------------------------+----------------+-----------------+-------------+\n",
       "+--------------------------+-------------+-------------------------+------------+-----+\n",
       "| BASKET_PRICE_SENSITIVITY | BASKET_TYPE | BASKET_DOMINANT_MISSION | STORE_CODE | ... |\n",
       "+--------------------------+-------------+-------------------------+------------+-----+\n",
       "|            MM            |    Top Up   |          Mixed          | STORE00001 | ... |\n",
       "|            UM            |    Top Up   |          Fresh          | STORE00001 | ... |\n",
       "|            MM            |  Full Shop  |          Mixed          | STORE00001 | ... |\n",
       "|            MM            |  Full Shop  |          Fresh          | STORE00001 | ... |\n",
       "|            UM            |  Full Shop  |          Mixed          | STORE00001 | ... |\n",
       "|            UM            |    Top Up   |          Fresh          | STORE00001 | ... |\n",
       "|            LA            |  Full Shop  |          Fresh          | STORE00001 | ... |\n",
       "|            UM            |  Full Shop  |          Mixed          | STORE00001 | ... |\n",
       "|            MM            |    Top Up   |          Fresh          | STORE00001 | ... |\n",
       "|            MM            |  Small Shop |          Mixed          | STORE00001 | ... |\n",
       "+--------------------------+-------------+-------------------------+------------+-----+\n",
       "[33850823 rows x 22 columns]\n",
       "Note: Only the head of the SFrame is printed.\n",
       "You can use print_rows(num_rows=m, num_columns=n) to print more rows and columns."
      ]
     },
     "execution_count": 116,
     "metadata": {},
     "output_type": "execute_result"
    }
   ],
   "source": [
    "# Row count\n",
    "print(sf1.num_rows())\n",
    "# sf1\n",
    "# displays number of Rows\n",
    "print sf1.column_names()\n",
    "\n",
    "# groupby\n",
    "sf2 = sf1.groupby(key_columns='SHOP_WEEK', operations={'count': sf.aggregate.COUNT()})"
   ]
  },
  {
   "cell_type": "markdown",
   "metadata": {},
   "source": [
    "##### Create a variable based on if-else\n",
    "\n",
    "We don't have a direct way like pandas, however we can use functions or lambdas to apply if else and other control structures on SFrames"
   ]
  },
  {
   "cell_type": "code",
   "execution_count": 114,
<<<<<<< HEAD
   "metadata": {},
=======
   "metadata": {
    "collapsed": false
   },
>>>>>>> 405479cc1113c3a343a1cfb5751208c616682493
   "outputs": [],
   "source": [
    "sf1['new_var'] = sf1['SPEND','SHOP_HOUR'].apply(lambda x : 'good' if x['SPEND'] > 2 & x['SHOP_HOUR'] > 10 \n",
    "                                                                  else 'ok' if 2 >= x['SPEND'] > 1 & x['SHOP_HOUR'] <= 10 \n",
    "                                                                  else 'not good' )"
   ]
  },
  {
   "cell_type": "code",
   "execution_count": null,
   "metadata": {
    "collapsed": true
   },
   "outputs": [],
   "source": []
  },
  {
   "cell_type": "code",
   "execution_count": null,
   "metadata": {
    "collapsed": true
   },
   "outputs": [],
   "source": []
  },
  {
   "cell_type": "markdown",
   "metadata": {},
   "source": [
    "# Working Dask Dataframe operations from here"
   ]
  },
  {
   "cell_type": "code",
<<<<<<< HEAD
   "execution_count": 1,
=======
   "execution_count": null,
>>>>>>> 405479cc1113c3a343a1cfb5751208c616682493
   "metadata": {
    "collapsed": true
   },
   "outputs": [],
   "source": [
    "import dask.dataframe as dd"
   ]
  },
  {
   "cell_type": "code",
<<<<<<< HEAD
   "execution_count": 6,
   "metadata": {},
   "outputs": [],
   "source": [
    "df = dd.read_csv('D:\\pgdds\\Companies and Investments\\Data_Warehousing_OLAP\\investments.csv')"
   ]
  },
  {
   "cell_type": "code",
   "execution_count": 7,
   "metadata": {},
   "outputs": [
    {
     "data": {
      "text/html": [
       "<div><strong>Dask DataFrame Structure:</strong></div>\n",
       "<div>\n",
       "<style>\n",
       "    .dataframe thead tr:only-child th {\n",
       "        text-align: right;\n",
       "    }\n",
       "\n",
       "    .dataframe thead th {\n",
       "        text-align: left;\n",
       "    }\n",
       "\n",
       "    .dataframe tbody tr th {\n",
       "        vertical-align: top;\n",
       "    }\n",
       "</style>\n",
       "<table border=\"1\" class=\"dataframe\">\n",
       "  <thead>\n",
       "    <tr style=\"text-align: right;\">\n",
       "      <th></th>\n",
       "      <th>company_permalink</th>\n",
       "      <th>company_name</th>\n",
       "      <th>investor_permalink</th>\n",
       "      <th>investor_name</th>\n",
       "      <th>investor_country_code</th>\n",
       "      <th>investor_state_code</th>\n",
       "      <th>investor_region</th>\n",
       "      <th>investor_city</th>\n",
       "      <th>funding_round_permalink</th>\n",
       "      <th>funding_round_type</th>\n",
       "      <th>funding_round_code</th>\n",
       "      <th>funded_at</th>\n",
       "      <th>raised_amount_usd</th>\n",
       "    </tr>\n",
       "    <tr>\n",
       "      <th>npartitions=1</th>\n",
       "      <th></th>\n",
       "      <th></th>\n",
       "      <th></th>\n",
       "      <th></th>\n",
       "      <th></th>\n",
       "      <th></th>\n",
       "      <th></th>\n",
       "      <th></th>\n",
       "      <th></th>\n",
       "      <th></th>\n",
       "      <th></th>\n",
       "      <th></th>\n",
       "      <th></th>\n",
       "    </tr>\n",
       "  </thead>\n",
       "  <tbody>\n",
       "    <tr>\n",
       "      <th></th>\n",
       "      <td>object</td>\n",
       "      <td>object</td>\n",
       "      <td>object</td>\n",
       "      <td>object</td>\n",
       "      <td>object</td>\n",
       "      <td>object</td>\n",
       "      <td>object</td>\n",
       "      <td>object</td>\n",
       "      <td>object</td>\n",
       "      <td>object</td>\n",
       "      <td>object</td>\n",
       "      <td>object</td>\n",
       "      <td>float64</td>\n",
       "    </tr>\n",
       "    <tr>\n",
       "      <th></th>\n",
       "      <td>...</td>\n",
       "      <td>...</td>\n",
       "      <td>...</td>\n",
       "      <td>...</td>\n",
       "      <td>...</td>\n",
       "      <td>...</td>\n",
       "      <td>...</td>\n",
       "      <td>...</td>\n",
       "      <td>...</td>\n",
       "      <td>...</td>\n",
       "      <td>...</td>\n",
       "      <td>...</td>\n",
       "      <td>...</td>\n",
       "    </tr>\n",
       "  </tbody>\n",
       "</table>\n",
       "</div>\n",
       "<div>Dask Name: from-delayed, 3 tasks</div>"
      ],
      "text/plain": [
       "Dask DataFrame Structure:\n",
       "              company_permalink company_name investor_permalink investor_name investor_country_code investor_state_code investor_region investor_city funding_round_permalink funding_round_type funding_round_code funded_at raised_amount_usd\n",
       "npartitions=1                                                                                                                                                                                                                                  \n",
       "                         object       object             object        object                object              object          object        object                  object             object             object    object           float64\n",
       "                            ...          ...                ...           ...                   ...                 ...             ...           ...                     ...                ...                ...       ...               ...\n",
       "Dask Name: from-delayed, 3 tasks"
      ]
     },
     "execution_count": 7,
     "metadata": {},
     "output_type": "execute_result"
    }
   ],
   "source": [
    "df"
   ]
  },
  {
   "cell_type": "markdown",
   "metadata": {},
   "source": [
    "# Dask is lazy which is why above command has no output"
   ]
  },
  {
   "cell_type": "code",
   "execution_count": 8,
   "metadata": {},
   "outputs": [
    {
     "data": {
      "text/html": [
       "<div>\n",
       "<style>\n",
       "    .dataframe thead tr:only-child th {\n",
       "        text-align: right;\n",
       "    }\n",
       "\n",
       "    .dataframe thead th {\n",
       "        text-align: left;\n",
       "    }\n",
       "\n",
       "    .dataframe tbody tr th {\n",
       "        vertical-align: top;\n",
       "    }\n",
       "</style>\n",
       "<table border=\"1\" class=\"dataframe\">\n",
       "  <thead>\n",
       "    <tr style=\"text-align: right;\">\n",
       "      <th></th>\n",
       "      <th>company_permalink</th>\n",
       "      <th>company_name</th>\n",
       "      <th>investor_permalink</th>\n",
       "      <th>investor_name</th>\n",
       "      <th>investor_country_code</th>\n",
       "      <th>investor_state_code</th>\n",
       "      <th>investor_region</th>\n",
       "      <th>investor_city</th>\n",
       "      <th>funding_round_permalink</th>\n",
       "      <th>funding_round_type</th>\n",
       "      <th>funding_round_code</th>\n",
       "      <th>funded_at</th>\n",
       "      <th>raised_amount_usd</th>\n",
       "    </tr>\n",
       "  </thead>\n",
       "  <tbody>\n",
       "    <tr>\n",
       "      <th>0</th>\n",
       "      <td>/organization/0-6-com</td>\n",
       "      <td>0-6.com</td>\n",
       "      <td>/organization/dt-capital-partners</td>\n",
       "      <td>DT Capital Partners</td>\n",
       "      <td>CHN</td>\n",
       "      <td>23</td>\n",
       "      <td>Shanghai</td>\n",
       "      <td>Shanghai</td>\n",
       "      <td>/funding-round/5727accaeaa57461bd22a9bdd945382d</td>\n",
       "      <td>venture</td>\n",
       "      <td>A</td>\n",
       "      <td>19-03-2008</td>\n",
       "      <td>2000000.0</td>\n",
       "    </tr>\n",
       "    <tr>\n",
       "      <th>1</th>\n",
       "      <td>/organization/004-technologies</td>\n",
       "      <td>004 Technologies</td>\n",
       "      <td>/organization/venturecapital-de</td>\n",
       "      <td>VCDE Venture Partners</td>\n",
       "      <td>DEU</td>\n",
       "      <td>5</td>\n",
       "      <td>Frankfurt</td>\n",
       "      <td>Frankfurt</td>\n",
       "      <td>/funding-round/1278dd4e6a37fa4b7d7e06c21b3c1830</td>\n",
       "      <td>venture</td>\n",
       "      <td>NaN</td>\n",
       "      <td>24-07-2014</td>\n",
       "      <td>NaN</td>\n",
       "    </tr>\n",
       "    <tr>\n",
       "      <th>2</th>\n",
       "      <td>/organization/01games-technology</td>\n",
       "      <td>01Games Technology</td>\n",
       "      <td>/organization/cyberport-hong-kong</td>\n",
       "      <td>Cyberport Hong Kong</td>\n",
       "      <td>HKG</td>\n",
       "      <td>NaN</td>\n",
       "      <td>Hong Kong</td>\n",
       "      <td>Hong Kong</td>\n",
       "      <td>/funding-round/7d53696f2b4f607a2f2a8cbb83d01839</td>\n",
       "      <td>undisclosed</td>\n",
       "      <td>NaN</td>\n",
       "      <td>01-07-2014</td>\n",
       "      <td>41250.0</td>\n",
       "    </tr>\n",
       "    <tr>\n",
       "      <th>3</th>\n",
       "      <td>/organization/0xdata</td>\n",
       "      <td>H2O.ai</td>\n",
       "      <td>/organization/capital-one</td>\n",
       "      <td>Capital One</td>\n",
       "      <td>USA</td>\n",
       "      <td>VA</td>\n",
       "      <td>Washington, D.C.</td>\n",
       "      <td>Mclean</td>\n",
       "      <td>/funding-round/3bb2ee4a2d89251a10aaa735b1180e44</td>\n",
       "      <td>venture</td>\n",
       "      <td>B</td>\n",
       "      <td>09-11-2015</td>\n",
       "      <td>20000000.0</td>\n",
       "    </tr>\n",
       "    <tr>\n",
       "      <th>4</th>\n",
       "      <td>/organization/0xdata</td>\n",
       "      <td>H2O.ai</td>\n",
       "      <td>/organization/nexus-venture-partners</td>\n",
       "      <td>Nexus Venture Partners</td>\n",
       "      <td>USA</td>\n",
       "      <td>CA</td>\n",
       "      <td>SF Bay Area</td>\n",
       "      <td>Menlo Park</td>\n",
       "      <td>/funding-round/383a9bd2c04f7038bb543ccef5ba3eae</td>\n",
       "      <td>seed</td>\n",
       "      <td>NaN</td>\n",
       "      <td>22-05-2013</td>\n",
       "      <td>3000000.0</td>\n",
       "    </tr>\n",
       "  </tbody>\n",
       "</table>\n",
       "</div>"
      ],
      "text/plain": [
       "                  company_permalink        company_name  \\\n",
       "0             /organization/0-6-com             0-6.com   \n",
       "1    /organization/004-technologies    004 Technologies   \n",
       "2  /organization/01games-technology  01Games Technology   \n",
       "3              /organization/0xdata              H2O.ai   \n",
       "4              /organization/0xdata              H2O.ai   \n",
       "\n",
       "                     investor_permalink           investor_name  \\\n",
       "0     /organization/dt-capital-partners     DT Capital Partners   \n",
       "1       /organization/venturecapital-de   VCDE Venture Partners   \n",
       "2     /organization/cyberport-hong-kong     Cyberport Hong Kong   \n",
       "3             /organization/capital-one             Capital One   \n",
       "4  /organization/nexus-venture-partners  Nexus Venture Partners   \n",
       "\n",
       "  investor_country_code investor_state_code   investor_region investor_city  \\\n",
       "0                   CHN                  23          Shanghai      Shanghai   \n",
       "1                   DEU                   5         Frankfurt     Frankfurt   \n",
       "2                   HKG                 NaN         Hong Kong     Hong Kong   \n",
       "3                   USA                  VA  Washington, D.C.        Mclean   \n",
       "4                   USA                  CA       SF Bay Area    Menlo Park   \n",
       "\n",
       "                           funding_round_permalink funding_round_type  \\\n",
       "0  /funding-round/5727accaeaa57461bd22a9bdd945382d            venture   \n",
       "1  /funding-round/1278dd4e6a37fa4b7d7e06c21b3c1830            venture   \n",
       "2  /funding-round/7d53696f2b4f607a2f2a8cbb83d01839        undisclosed   \n",
       "3  /funding-round/3bb2ee4a2d89251a10aaa735b1180e44            venture   \n",
       "4  /funding-round/383a9bd2c04f7038bb543ccef5ba3eae               seed   \n",
       "\n",
       "  funding_round_code   funded_at  raised_amount_usd  \n",
       "0                  A  19-03-2008          2000000.0  \n",
       "1                NaN  24-07-2014                NaN  \n",
       "2                NaN  01-07-2014            41250.0  \n",
       "3                  B  09-11-2015         20000000.0  \n",
       "4                NaN  22-05-2013          3000000.0  "
      ]
     },
     "execution_count": 8,
     "metadata": {},
     "output_type": "execute_result"
    }
   ],
   "source": [
    "df.head()"
   ]
  },
  {
   "cell_type": "code",
   "execution_count": 9,
   "metadata": {},
   "outputs": [
    {
     "data": {
      "text/plain": [
       "company_permalink           object\n",
       "company_name                object\n",
       "investor_permalink          object\n",
       "investor_name               object\n",
       "investor_country_code       object\n",
       "investor_state_code         object\n",
       "investor_region             object\n",
       "investor_city               object\n",
       "funding_round_permalink     object\n",
       "funding_round_type          object\n",
       "funding_round_code          object\n",
       "funded_at                   object\n",
       "raised_amount_usd          float64\n",
       "dtype: object"
      ]
     },
     "execution_count": 9,
     "metadata": {},
     "output_type": "execute_result"
    }
   ],
   "source": [
    "df.dtypes"
   ]
  },
  {
   "cell_type": "code",
   "execution_count": 11,
   "metadata": {},
   "outputs": [],
   "source": [
    "df['org'] = df['company_permalink'].map(lambda x : x.lower())"
   ]
  },
  {
   "cell_type": "code",
   "execution_count": 12,
   "metadata": {},
   "outputs": [
    {
     "data": {
      "text/html": [
       "<div>\n",
       "<style>\n",
       "    .dataframe thead tr:only-child th {\n",
       "        text-align: right;\n",
       "    }\n",
       "\n",
       "    .dataframe thead th {\n",
       "        text-align: left;\n",
       "    }\n",
       "\n",
       "    .dataframe tbody tr th {\n",
       "        vertical-align: top;\n",
       "    }\n",
       "</style>\n",
       "<table border=\"1\" class=\"dataframe\">\n",
       "  <thead>\n",
       "    <tr style=\"text-align: right;\">\n",
       "      <th></th>\n",
       "      <th>company_permalink</th>\n",
       "      <th>company_name</th>\n",
       "      <th>investor_permalink</th>\n",
       "      <th>investor_name</th>\n",
       "      <th>investor_country_code</th>\n",
       "      <th>investor_state_code</th>\n",
       "      <th>investor_region</th>\n",
       "      <th>investor_city</th>\n",
       "      <th>funding_round_permalink</th>\n",
       "      <th>funding_round_type</th>\n",
       "      <th>funding_round_code</th>\n",
       "      <th>funded_at</th>\n",
       "      <th>raised_amount_usd</th>\n",
       "      <th>org</th>\n",
       "    </tr>\n",
       "  </thead>\n",
       "  <tbody>\n",
       "    <tr>\n",
       "      <th>0</th>\n",
       "      <td>/organization/0-6-com</td>\n",
       "      <td>0-6.com</td>\n",
       "      <td>/organization/dt-capital-partners</td>\n",
       "      <td>DT Capital Partners</td>\n",
       "      <td>CHN</td>\n",
       "      <td>23</td>\n",
       "      <td>Shanghai</td>\n",
       "      <td>Shanghai</td>\n",
       "      <td>/funding-round/5727accaeaa57461bd22a9bdd945382d</td>\n",
       "      <td>venture</td>\n",
       "      <td>A</td>\n",
       "      <td>19-03-2008</td>\n",
       "      <td>2000000.0</td>\n",
       "      <td>/organization/0-6-com</td>\n",
       "    </tr>\n",
       "    <tr>\n",
       "      <th>1</th>\n",
       "      <td>/organization/004-technologies</td>\n",
       "      <td>004 Technologies</td>\n",
       "      <td>/organization/venturecapital-de</td>\n",
       "      <td>VCDE Venture Partners</td>\n",
       "      <td>DEU</td>\n",
       "      <td>5</td>\n",
       "      <td>Frankfurt</td>\n",
       "      <td>Frankfurt</td>\n",
       "      <td>/funding-round/1278dd4e6a37fa4b7d7e06c21b3c1830</td>\n",
       "      <td>venture</td>\n",
       "      <td>NaN</td>\n",
       "      <td>24-07-2014</td>\n",
       "      <td>NaN</td>\n",
       "      <td>/organization/004-technologies</td>\n",
       "    </tr>\n",
       "    <tr>\n",
       "      <th>2</th>\n",
       "      <td>/organization/01games-technology</td>\n",
       "      <td>01Games Technology</td>\n",
       "      <td>/organization/cyberport-hong-kong</td>\n",
       "      <td>Cyberport Hong Kong</td>\n",
       "      <td>HKG</td>\n",
       "      <td>NaN</td>\n",
       "      <td>Hong Kong</td>\n",
       "      <td>Hong Kong</td>\n",
       "      <td>/funding-round/7d53696f2b4f607a2f2a8cbb83d01839</td>\n",
       "      <td>undisclosed</td>\n",
       "      <td>NaN</td>\n",
       "      <td>01-07-2014</td>\n",
       "      <td>41250.0</td>\n",
       "      <td>/organization/01games-technology</td>\n",
       "    </tr>\n",
       "    <tr>\n",
       "      <th>3</th>\n",
       "      <td>/organization/0xdata</td>\n",
       "      <td>H2O.ai</td>\n",
       "      <td>/organization/capital-one</td>\n",
       "      <td>Capital One</td>\n",
       "      <td>USA</td>\n",
       "      <td>VA</td>\n",
       "      <td>Washington, D.C.</td>\n",
       "      <td>Mclean</td>\n",
       "      <td>/funding-round/3bb2ee4a2d89251a10aaa735b1180e44</td>\n",
       "      <td>venture</td>\n",
       "      <td>B</td>\n",
       "      <td>09-11-2015</td>\n",
       "      <td>20000000.0</td>\n",
       "      <td>/organization/0xdata</td>\n",
       "    </tr>\n",
       "    <tr>\n",
       "      <th>4</th>\n",
       "      <td>/organization/0xdata</td>\n",
       "      <td>H2O.ai</td>\n",
       "      <td>/organization/nexus-venture-partners</td>\n",
       "      <td>Nexus Venture Partners</td>\n",
       "      <td>USA</td>\n",
       "      <td>CA</td>\n",
       "      <td>SF Bay Area</td>\n",
       "      <td>Menlo Park</td>\n",
       "      <td>/funding-round/383a9bd2c04f7038bb543ccef5ba3eae</td>\n",
       "      <td>seed</td>\n",
       "      <td>NaN</td>\n",
       "      <td>22-05-2013</td>\n",
       "      <td>3000000.0</td>\n",
       "      <td>/organization/0xdata</td>\n",
       "    </tr>\n",
       "  </tbody>\n",
       "</table>\n",
       "</div>"
      ],
      "text/plain": [
       "                  company_permalink        company_name  \\\n",
       "0             /organization/0-6-com             0-6.com   \n",
       "1    /organization/004-technologies    004 Technologies   \n",
       "2  /organization/01games-technology  01Games Technology   \n",
       "3              /organization/0xdata              H2O.ai   \n",
       "4              /organization/0xdata              H2O.ai   \n",
       "\n",
       "                     investor_permalink           investor_name  \\\n",
       "0     /organization/dt-capital-partners     DT Capital Partners   \n",
       "1       /organization/venturecapital-de   VCDE Venture Partners   \n",
       "2     /organization/cyberport-hong-kong     Cyberport Hong Kong   \n",
       "3             /organization/capital-one             Capital One   \n",
       "4  /organization/nexus-venture-partners  Nexus Venture Partners   \n",
       "\n",
       "  investor_country_code investor_state_code   investor_region investor_city  \\\n",
       "0                   CHN                  23          Shanghai      Shanghai   \n",
       "1                   DEU                   5         Frankfurt     Frankfurt   \n",
       "2                   HKG                 NaN         Hong Kong     Hong Kong   \n",
       "3                   USA                  VA  Washington, D.C.        Mclean   \n",
       "4                   USA                  CA       SF Bay Area    Menlo Park   \n",
       "\n",
       "                           funding_round_permalink funding_round_type  \\\n",
       "0  /funding-round/5727accaeaa57461bd22a9bdd945382d            venture   \n",
       "1  /funding-round/1278dd4e6a37fa4b7d7e06c21b3c1830            venture   \n",
       "2  /funding-round/7d53696f2b4f607a2f2a8cbb83d01839        undisclosed   \n",
       "3  /funding-round/3bb2ee4a2d89251a10aaa735b1180e44            venture   \n",
       "4  /funding-round/383a9bd2c04f7038bb543ccef5ba3eae               seed   \n",
       "\n",
       "  funding_round_code   funded_at  raised_amount_usd  \\\n",
       "0                  A  19-03-2008          2000000.0   \n",
       "1                NaN  24-07-2014                NaN   \n",
       "2                NaN  01-07-2014            41250.0   \n",
       "3                  B  09-11-2015         20000000.0   \n",
       "4                NaN  22-05-2013          3000000.0   \n",
       "\n",
       "                                org  \n",
       "0             /organization/0-6-com  \n",
       "1    /organization/004-technologies  \n",
       "2  /organization/01games-technology  \n",
       "3              /organization/0xdata  \n",
       "4              /organization/0xdata  "
      ]
     },
     "execution_count": 12,
     "metadata": {},
     "output_type": "execute_result"
    }
   ],
   "source": [
    "df.head()"
   ]
  },
  {
   "cell_type": "markdown",
   "metadata": {},
   "source": [
    "## Creating if else column"
   ]
  },
  {
   "cell_type": "code",
   "execution_count": 19,
   "metadata": {},
   "outputs": [],
   "source": [
    "df['eng_or_non_eng'] = df.investor_country_code.apply(f)"
   ]
  },
  {
   "cell_type": "code",
   "execution_count": 20,
   "metadata": {
    "scrolled": true
   },
   "outputs": [
    {
     "data": {
      "text/html": [
       "<div>\n",
       "<style>\n",
       "    .dataframe thead tr:only-child th {\n",
       "        text-align: right;\n",
       "    }\n",
       "\n",
       "    .dataframe thead th {\n",
       "        text-align: left;\n",
       "    }\n",
       "\n",
       "    .dataframe tbody tr th {\n",
       "        vertical-align: top;\n",
       "    }\n",
       "</style>\n",
       "<table border=\"1\" class=\"dataframe\">\n",
       "  <thead>\n",
       "    <tr style=\"text-align: right;\">\n",
       "      <th></th>\n",
       "      <th>company_permalink</th>\n",
       "      <th>company_name</th>\n",
       "      <th>investor_permalink</th>\n",
       "      <th>investor_name</th>\n",
       "      <th>investor_country_code</th>\n",
       "      <th>investor_state_code</th>\n",
       "      <th>investor_region</th>\n",
       "      <th>investor_city</th>\n",
       "      <th>funding_round_permalink</th>\n",
       "      <th>funding_round_type</th>\n",
       "      <th>funding_round_code</th>\n",
       "      <th>funded_at</th>\n",
       "      <th>raised_amount_usd</th>\n",
       "      <th>org</th>\n",
       "      <th>eng_or_non_eng</th>\n",
       "    </tr>\n",
       "  </thead>\n",
       "  <tbody>\n",
       "    <tr>\n",
       "      <th>0</th>\n",
       "      <td>/organization/0-6-com</td>\n",
       "      <td>0-6.com</td>\n",
       "      <td>/organization/dt-capital-partners</td>\n",
       "      <td>DT Capital Partners</td>\n",
       "      <td>CHN</td>\n",
       "      <td>23</td>\n",
       "      <td>Shanghai</td>\n",
       "      <td>Shanghai</td>\n",
       "      <td>/funding-round/5727accaeaa57461bd22a9bdd945382d</td>\n",
       "      <td>venture</td>\n",
       "      <td>A</td>\n",
       "      <td>19-03-2008</td>\n",
       "      <td>2000000.0</td>\n",
       "      <td>/organization/0-6-com</td>\n",
       "      <td>non-eng</td>\n",
       "    </tr>\n",
       "    <tr>\n",
       "      <th>1</th>\n",
       "      <td>/organization/004-technologies</td>\n",
       "      <td>004 Technologies</td>\n",
       "      <td>/organization/venturecapital-de</td>\n",
       "      <td>VCDE Venture Partners</td>\n",
       "      <td>DEU</td>\n",
       "      <td>5</td>\n",
       "      <td>Frankfurt</td>\n",
       "      <td>Frankfurt</td>\n",
       "      <td>/funding-round/1278dd4e6a37fa4b7d7e06c21b3c1830</td>\n",
       "      <td>venture</td>\n",
       "      <td>NaN</td>\n",
       "      <td>24-07-2014</td>\n",
       "      <td>NaN</td>\n",
       "      <td>/organization/004-technologies</td>\n",
       "      <td>non-eng</td>\n",
       "    </tr>\n",
       "    <tr>\n",
       "      <th>2</th>\n",
       "      <td>/organization/01games-technology</td>\n",
       "      <td>01Games Technology</td>\n",
       "      <td>/organization/cyberport-hong-kong</td>\n",
       "      <td>Cyberport Hong Kong</td>\n",
       "      <td>HKG</td>\n",
       "      <td>NaN</td>\n",
       "      <td>Hong Kong</td>\n",
       "      <td>Hong Kong</td>\n",
       "      <td>/funding-round/7d53696f2b4f607a2f2a8cbb83d01839</td>\n",
       "      <td>undisclosed</td>\n",
       "      <td>NaN</td>\n",
       "      <td>01-07-2014</td>\n",
       "      <td>41250.0</td>\n",
       "      <td>/organization/01games-technology</td>\n",
       "      <td>non-eng</td>\n",
       "    </tr>\n",
       "    <tr>\n",
       "      <th>3</th>\n",
       "      <td>/organization/0xdata</td>\n",
       "      <td>H2O.ai</td>\n",
       "      <td>/organization/capital-one</td>\n",
       "      <td>Capital One</td>\n",
       "      <td>USA</td>\n",
       "      <td>VA</td>\n",
       "      <td>Washington, D.C.</td>\n",
       "      <td>Mclean</td>\n",
       "      <td>/funding-round/3bb2ee4a2d89251a10aaa735b1180e44</td>\n",
       "      <td>venture</td>\n",
       "      <td>B</td>\n",
       "      <td>09-11-2015</td>\n",
       "      <td>20000000.0</td>\n",
       "      <td>/organization/0xdata</td>\n",
       "      <td>us</td>\n",
       "    </tr>\n",
       "    <tr>\n",
       "      <th>4</th>\n",
       "      <td>/organization/0xdata</td>\n",
       "      <td>H2O.ai</td>\n",
       "      <td>/organization/nexus-venture-partners</td>\n",
       "      <td>Nexus Venture Partners</td>\n",
       "      <td>USA</td>\n",
       "      <td>CA</td>\n",
       "      <td>SF Bay Area</td>\n",
       "      <td>Menlo Park</td>\n",
       "      <td>/funding-round/383a9bd2c04f7038bb543ccef5ba3eae</td>\n",
       "      <td>seed</td>\n",
       "      <td>NaN</td>\n",
       "      <td>22-05-2013</td>\n",
       "      <td>3000000.0</td>\n",
       "      <td>/organization/0xdata</td>\n",
       "      <td>us</td>\n",
       "    </tr>\n",
       "  </tbody>\n",
       "</table>\n",
       "</div>"
      ],
      "text/plain": [
       "                  company_permalink        company_name  \\\n",
       "0             /organization/0-6-com             0-6.com   \n",
       "1    /organization/004-technologies    004 Technologies   \n",
       "2  /organization/01games-technology  01Games Technology   \n",
       "3              /organization/0xdata              H2O.ai   \n",
       "4              /organization/0xdata              H2O.ai   \n",
       "\n",
       "                     investor_permalink           investor_name  \\\n",
       "0     /organization/dt-capital-partners     DT Capital Partners   \n",
       "1       /organization/venturecapital-de   VCDE Venture Partners   \n",
       "2     /organization/cyberport-hong-kong     Cyberport Hong Kong   \n",
       "3             /organization/capital-one             Capital One   \n",
       "4  /organization/nexus-venture-partners  Nexus Venture Partners   \n",
       "\n",
       "  investor_country_code investor_state_code   investor_region investor_city  \\\n",
       "0                   CHN                  23          Shanghai      Shanghai   \n",
       "1                   DEU                   5         Frankfurt     Frankfurt   \n",
       "2                   HKG                 NaN         Hong Kong     Hong Kong   \n",
       "3                   USA                  VA  Washington, D.C.        Mclean   \n",
       "4                   USA                  CA       SF Bay Area    Menlo Park   \n",
       "\n",
       "                           funding_round_permalink funding_round_type  \\\n",
       "0  /funding-round/5727accaeaa57461bd22a9bdd945382d            venture   \n",
       "1  /funding-round/1278dd4e6a37fa4b7d7e06c21b3c1830            venture   \n",
       "2  /funding-round/7d53696f2b4f607a2f2a8cbb83d01839        undisclosed   \n",
       "3  /funding-round/3bb2ee4a2d89251a10aaa735b1180e44            venture   \n",
       "4  /funding-round/383a9bd2c04f7038bb543ccef5ba3eae               seed   \n",
       "\n",
       "  funding_round_code   funded_at  raised_amount_usd  \\\n",
       "0                  A  19-03-2008          2000000.0   \n",
       "1                NaN  24-07-2014                NaN   \n",
       "2                NaN  01-07-2014            41250.0   \n",
       "3                  B  09-11-2015         20000000.0   \n",
       "4                NaN  22-05-2013          3000000.0   \n",
       "\n",
       "                                org eng_or_non_eng  \n",
       "0             /organization/0-6-com        non-eng  \n",
       "1    /organization/004-technologies        non-eng  \n",
       "2  /organization/01games-technology        non-eng  \n",
       "3              /organization/0xdata             us  \n",
       "4              /organization/0xdata             us  "
      ]
     },
     "execution_count": 20,
     "metadata": {},
     "output_type": "execute_result"
    }
   ],
   "source": [
    "df.head()"
   ]
  },
  {
   "cell_type": "code",
   "execution_count": 21,
   "metadata": {
    "collapsed": true
   },
   "outputs": [],
   "source": [
    "compdf = dd.read_csv('D:\\pgdds\\Companies and Investments\\Data_Warehousing_OLAP\\companies.csv')"
   ]
  },
  {
   "cell_type": "code",
   "execution_count": 25,
   "metadata": {},
   "outputs": [],
   "source": [
    "compdf['org'] = compdf['permalink'].map(lambda x : x.lower())"
   ]
  },
  {
   "cell_type": "code",
   "execution_count": 32,
   "metadata": {},
   "outputs": [],
   "source": [
    "newdf = df.merge(compdf, on = 'org', how='inner')"
   ]
  },
  {
   "cell_type": "code",
   "execution_count": 29,
   "metadata": {},
   "outputs": [
    {
     "data": {
      "text/html": [
       "<div>\n",
       "<style>\n",
       "    .dataframe thead tr:only-child th {\n",
       "        text-align: right;\n",
       "    }\n",
       "\n",
       "    .dataframe thead th {\n",
       "        text-align: left;\n",
       "    }\n",
       "\n",
       "    .dataframe tbody tr th {\n",
       "        vertical-align: top;\n",
       "    }\n",
       "</style>\n",
       "<table border=\"1\" class=\"dataframe\">\n",
       "  <thead>\n",
       "    <tr style=\"text-align: right;\">\n",
       "      <th></th>\n",
       "      <th>company_permalink</th>\n",
       "      <th>company_name</th>\n",
       "      <th>investor_permalink</th>\n",
       "      <th>investor_name</th>\n",
       "      <th>investor_country_code</th>\n",
       "      <th>investor_state_code</th>\n",
       "      <th>investor_region</th>\n",
       "      <th>investor_city</th>\n",
       "      <th>funding_round_permalink</th>\n",
       "      <th>funding_round_type</th>\n",
       "      <th>...</th>\n",
       "      <th>funding_total_usd</th>\n",
       "      <th>status</th>\n",
       "      <th>country_code</th>\n",
       "      <th>state_code</th>\n",
       "      <th>region</th>\n",
       "      <th>city</th>\n",
       "      <th>funding_rounds</th>\n",
       "      <th>founded_at</th>\n",
       "      <th>first_funding_at</th>\n",
       "      <th>last_funding_at</th>\n",
       "    </tr>\n",
       "  </thead>\n",
       "  <tbody>\n",
       "    <tr>\n",
       "      <th>0</th>\n",
       "      <td>/organization/0-6-com</td>\n",
       "      <td>0-6.com</td>\n",
       "      <td>/organization/dt-capital-partners</td>\n",
       "      <td>DT Capital Partners</td>\n",
       "      <td>CHN</td>\n",
       "      <td>23</td>\n",
       "      <td>Shanghai</td>\n",
       "      <td>Shanghai</td>\n",
       "      <td>/funding-round/5727accaeaa57461bd22a9bdd945382d</td>\n",
       "      <td>venture</td>\n",
       "      <td>...</td>\n",
       "      <td>2000000</td>\n",
       "      <td>operating</td>\n",
       "      <td>CHN</td>\n",
       "      <td>22</td>\n",
       "      <td>Beijing</td>\n",
       "      <td>Beijing</td>\n",
       "      <td>1</td>\n",
       "      <td>2007-01-01</td>\n",
       "      <td>2008-03-19</td>\n",
       "      <td>2008-03-19</td>\n",
       "    </tr>\n",
       "    <tr>\n",
       "      <th>1</th>\n",
       "      <td>/organization/004-technologies</td>\n",
       "      <td>004 Technologies</td>\n",
       "      <td>/organization/venturecapital-de</td>\n",
       "      <td>VCDE Venture Partners</td>\n",
       "      <td>DEU</td>\n",
       "      <td>5</td>\n",
       "      <td>Frankfurt</td>\n",
       "      <td>Frankfurt</td>\n",
       "      <td>/funding-round/1278dd4e6a37fa4b7d7e06c21b3c1830</td>\n",
       "      <td>venture</td>\n",
       "      <td>...</td>\n",
       "      <td>-</td>\n",
       "      <td>operating</td>\n",
       "      <td>USA</td>\n",
       "      <td>IL</td>\n",
       "      <td>Springfield, Illinois</td>\n",
       "      <td>Champaign</td>\n",
       "      <td>1</td>\n",
       "      <td>2010-01-01</td>\n",
       "      <td>2014-07-24</td>\n",
       "      <td>2014-07-24</td>\n",
       "    </tr>\n",
       "    <tr>\n",
       "      <th>2</th>\n",
       "      <td>/organization/01games-technology</td>\n",
       "      <td>01Games Technology</td>\n",
       "      <td>/organization/cyberport-hong-kong</td>\n",
       "      <td>Cyberport Hong Kong</td>\n",
       "      <td>HKG</td>\n",
       "      <td>NaN</td>\n",
       "      <td>Hong Kong</td>\n",
       "      <td>Hong Kong</td>\n",
       "      <td>/funding-round/7d53696f2b4f607a2f2a8cbb83d01839</td>\n",
       "      <td>undisclosed</td>\n",
       "      <td>...</td>\n",
       "      <td>41250</td>\n",
       "      <td>operating</td>\n",
       "      <td>HKG</td>\n",
       "      <td>NaN</td>\n",
       "      <td>Hong Kong</td>\n",
       "      <td>Hong Kong</td>\n",
       "      <td>1</td>\n",
       "      <td>NaN</td>\n",
       "      <td>2014-07-01</td>\n",
       "      <td>2014-07-01</td>\n",
       "    </tr>\n",
       "    <tr>\n",
       "      <th>3</th>\n",
       "      <td>/organization/0xdata</td>\n",
       "      <td>H2O.ai</td>\n",
       "      <td>/organization/capital-one</td>\n",
       "      <td>Capital One</td>\n",
       "      <td>USA</td>\n",
       "      <td>VA</td>\n",
       "      <td>Washington, D.C.</td>\n",
       "      <td>Mclean</td>\n",
       "      <td>/funding-round/3bb2ee4a2d89251a10aaa735b1180e44</td>\n",
       "      <td>venture</td>\n",
       "      <td>...</td>\n",
       "      <td>33600000</td>\n",
       "      <td>operating</td>\n",
       "      <td>USA</td>\n",
       "      <td>CA</td>\n",
       "      <td>SF Bay Area</td>\n",
       "      <td>Mountain View</td>\n",
       "      <td>4</td>\n",
       "      <td>2011-01-01</td>\n",
       "      <td>2013-01-03</td>\n",
       "      <td>2015-11-09</td>\n",
       "    </tr>\n",
       "    <tr>\n",
       "      <th>4</th>\n",
       "      <td>/organization/0xdata</td>\n",
       "      <td>H2O.ai</td>\n",
       "      <td>/organization/nexus-venture-partners</td>\n",
       "      <td>Nexus Venture Partners</td>\n",
       "      <td>USA</td>\n",
       "      <td>CA</td>\n",
       "      <td>SF Bay Area</td>\n",
       "      <td>Menlo Park</td>\n",
       "      <td>/funding-round/383a9bd2c04f7038bb543ccef5ba3eae</td>\n",
       "      <td>seed</td>\n",
       "      <td>...</td>\n",
       "      <td>33600000</td>\n",
       "      <td>operating</td>\n",
       "      <td>USA</td>\n",
       "      <td>CA</td>\n",
       "      <td>SF Bay Area</td>\n",
       "      <td>Mountain View</td>\n",
       "      <td>4</td>\n",
       "      <td>2011-01-01</td>\n",
       "      <td>2013-01-03</td>\n",
       "      <td>2015-11-09</td>\n",
       "    </tr>\n",
       "  </tbody>\n",
       "</table>\n",
       "<p>5 rows × 29 columns</p>\n",
       "</div>"
      ],
      "text/plain": [
       "                  company_permalink        company_name  \\\n",
       "0             /organization/0-6-com             0-6.com   \n",
       "1    /organization/004-technologies    004 Technologies   \n",
       "2  /organization/01games-technology  01Games Technology   \n",
       "3              /organization/0xdata              H2O.ai   \n",
       "4              /organization/0xdata              H2O.ai   \n",
       "\n",
       "                     investor_permalink           investor_name  \\\n",
       "0     /organization/dt-capital-partners     DT Capital Partners   \n",
       "1       /organization/venturecapital-de   VCDE Venture Partners   \n",
       "2     /organization/cyberport-hong-kong     Cyberport Hong Kong   \n",
       "3             /organization/capital-one             Capital One   \n",
       "4  /organization/nexus-venture-partners  Nexus Venture Partners   \n",
       "\n",
       "  investor_country_code investor_state_code   investor_region investor_city  \\\n",
       "0                   CHN                  23          Shanghai      Shanghai   \n",
       "1                   DEU                   5         Frankfurt     Frankfurt   \n",
       "2                   HKG                 NaN         Hong Kong     Hong Kong   \n",
       "3                   USA                  VA  Washington, D.C.        Mclean   \n",
       "4                   USA                  CA       SF Bay Area    Menlo Park   \n",
       "\n",
       "                           funding_round_permalink funding_round_type  \\\n",
       "0  /funding-round/5727accaeaa57461bd22a9bdd945382d            venture   \n",
       "1  /funding-round/1278dd4e6a37fa4b7d7e06c21b3c1830            venture   \n",
       "2  /funding-round/7d53696f2b4f607a2f2a8cbb83d01839        undisclosed   \n",
       "3  /funding-round/3bb2ee4a2d89251a10aaa735b1180e44            venture   \n",
       "4  /funding-round/383a9bd2c04f7038bb543ccef5ba3eae               seed   \n",
       "\n",
       "        ...       funding_total_usd     status  country_code state_code  \\\n",
       "0       ...                 2000000  operating           CHN         22   \n",
       "1       ...                       -  operating           USA         IL   \n",
       "2       ...                   41250  operating           HKG        NaN   \n",
       "3       ...                33600000  operating           USA         CA   \n",
       "4       ...                33600000  operating           USA         CA   \n",
       "\n",
       "                  region           city funding_rounds  founded_at  \\\n",
       "0                Beijing        Beijing              1  2007-01-01   \n",
       "1  Springfield, Illinois      Champaign              1  2010-01-01   \n",
       "2              Hong Kong      Hong Kong              1         NaN   \n",
       "3            SF Bay Area  Mountain View              4  2011-01-01   \n",
       "4            SF Bay Area  Mountain View              4  2011-01-01   \n",
       "\n",
       "  first_funding_at last_funding_at  \n",
       "0       2008-03-19      2008-03-19  \n",
       "1       2014-07-24      2014-07-24  \n",
       "2       2014-07-01      2014-07-01  \n",
       "3       2013-01-03      2015-11-09  \n",
       "4       2013-01-03      2015-11-09  \n",
       "\n",
       "[5 rows x 29 columns]"
      ]
     },
     "execution_count": 29,
     "metadata": {},
     "output_type": "execute_result"
    }
   ],
   "source": [
    "newdf.head()"
   ]
  },
  {
   "cell_type": "code",
   "execution_count": 33,
   "metadata": {},
   "outputs": [
    {
     "data": {
      "text/plain": [
       "company_permalink          168646\n",
       "company_name               168645\n",
       "investor_permalink         168634\n",
       "investor_name              168634\n",
       "investor_country_code      137708\n",
       "investor_state_code        123908\n",
       "investor_region            125430\n",
       "investor_city              136483\n",
       "funding_round_permalink    168646\n",
       "funding_round_type         168646\n",
       "funding_round_code          81062\n",
       "funded_at                  168646\n",
       "raised_amount_usd          147027\n",
       "org                        168646\n",
       "eng_or_non_eng             168646\n",
       "permalink                  168646\n",
       "name                       168645\n",
       "homepage_url               162026\n",
       "category_list              165014\n",
       "funding_total_usd          168646\n",
       "status                     168646\n",
       "country_code               158125\n",
       "state_code                 155215\n",
       "region                     156161\n",
       "city                       156163\n",
       "funding_rounds             168646\n",
       "founded_at                 142094\n",
       "first_funding_at           168592\n",
       "last_funding_at            168646\n",
       "dtype: int64"
      ]
     },
     "execution_count": 33,
     "metadata": {},
     "output_type": "execute_result"
    }
   ],
   "source": [
    "newdf.count().compute()"
   ]
  },
  {
   "cell_type": "code",
   "execution_count": 43,
   "metadata": {},
   "outputs": [
    {
     "data": {
      "text/html": [
       "<div>\n",
       "<style>\n",
       "    .dataframe thead tr:only-child th {\n",
       "        text-align: right;\n",
       "    }\n",
       "\n",
       "    .dataframe thead th {\n",
       "        text-align: left;\n",
       "    }\n",
       "\n",
       "    .dataframe tbody tr th {\n",
       "        vertical-align: top;\n",
       "    }\n",
       "</style>\n",
       "<table border=\"1\" class=\"dataframe\">\n",
       "  <thead>\n",
       "    <tr style=\"text-align: right;\">\n",
       "      <th></th>\n",
       "      <th>company_permalink</th>\n",
       "      <th>company_name</th>\n",
       "      <th>investor_permalink</th>\n",
       "      <th>investor_name</th>\n",
       "      <th>investor_country_code</th>\n",
       "      <th>investor_state_code</th>\n",
       "      <th>investor_region</th>\n",
       "      <th>investor_city</th>\n",
       "      <th>funding_round_permalink</th>\n",
       "      <th>funding_round_type</th>\n",
       "      <th>...</th>\n",
       "      <th>category_list</th>\n",
       "      <th>funding_total_usd</th>\n",
       "      <th>status</th>\n",
       "      <th>country_code</th>\n",
       "      <th>state_code</th>\n",
       "      <th>city</th>\n",
       "      <th>funding_rounds</th>\n",
       "      <th>founded_at</th>\n",
       "      <th>first_funding_at</th>\n",
       "      <th>last_funding_at</th>\n",
       "    </tr>\n",
       "    <tr>\n",
       "      <th>region</th>\n",
       "      <th></th>\n",
       "      <th></th>\n",
       "      <th></th>\n",
       "      <th></th>\n",
       "      <th></th>\n",
       "      <th></th>\n",
       "      <th></th>\n",
       "      <th></th>\n",
       "      <th></th>\n",
       "      <th></th>\n",
       "      <th></th>\n",
       "      <th></th>\n",
       "      <th></th>\n",
       "      <th></th>\n",
       "      <th></th>\n",
       "      <th></th>\n",
       "      <th></th>\n",
       "      <th></th>\n",
       "      <th></th>\n",
       "      <th></th>\n",
       "      <th></th>\n",
       "    </tr>\n",
       "  </thead>\n",
       "  <tbody>\n",
       "    <tr>\n",
       "      <th>A Coruna</th>\n",
       "      <td>3</td>\n",
       "      <td>3</td>\n",
       "      <td>3</td>\n",
       "      <td>3</td>\n",
       "      <td>3</td>\n",
       "      <td>3</td>\n",
       "      <td>3</td>\n",
       "      <td>3</td>\n",
       "      <td>3</td>\n",
       "      <td>3</td>\n",
       "      <td>...</td>\n",
       "      <td>3</td>\n",
       "      <td>3</td>\n",
       "      <td>3</td>\n",
       "      <td>3</td>\n",
       "      <td>3</td>\n",
       "      <td>3</td>\n",
       "      <td>3</td>\n",
       "      <td>1</td>\n",
       "      <td>3</td>\n",
       "      <td>3</td>\n",
       "    </tr>\n",
       "    <tr>\n",
       "      <th>AB - Other</th>\n",
       "      <td>2</td>\n",
       "      <td>2</td>\n",
       "      <td>2</td>\n",
       "      <td>2</td>\n",
       "      <td>2</td>\n",
       "      <td>2</td>\n",
       "      <td>2</td>\n",
       "      <td>2</td>\n",
       "      <td>2</td>\n",
       "      <td>2</td>\n",
       "      <td>...</td>\n",
       "      <td>2</td>\n",
       "      <td>2</td>\n",
       "      <td>2</td>\n",
       "      <td>2</td>\n",
       "      <td>2</td>\n",
       "      <td>2</td>\n",
       "      <td>2</td>\n",
       "      <td>0</td>\n",
       "      <td>2</td>\n",
       "      <td>2</td>\n",
       "    </tr>\n",
       "    <tr>\n",
       "      <th>AK - Other</th>\n",
       "      <td>2</td>\n",
       "      <td>2</td>\n",
       "      <td>2</td>\n",
       "      <td>2</td>\n",
       "      <td>1</td>\n",
       "      <td>1</td>\n",
       "      <td>1</td>\n",
       "      <td>1</td>\n",
       "      <td>2</td>\n",
       "      <td>2</td>\n",
       "      <td>...</td>\n",
       "      <td>2</td>\n",
       "      <td>2</td>\n",
       "      <td>2</td>\n",
       "      <td>2</td>\n",
       "      <td>2</td>\n",
       "      <td>2</td>\n",
       "      <td>2</td>\n",
       "      <td>2</td>\n",
       "      <td>2</td>\n",
       "      <td>2</td>\n",
       "    </tr>\n",
       "    <tr>\n",
       "      <th>AL - Other</th>\n",
       "      <td>4</td>\n",
       "      <td>4</td>\n",
       "      <td>4</td>\n",
       "      <td>4</td>\n",
       "      <td>4</td>\n",
       "      <td>4</td>\n",
       "      <td>4</td>\n",
       "      <td>4</td>\n",
       "      <td>4</td>\n",
       "      <td>4</td>\n",
       "      <td>...</td>\n",
       "      <td>4</td>\n",
       "      <td>4</td>\n",
       "      <td>4</td>\n",
       "      <td>4</td>\n",
       "      <td>4</td>\n",
       "      <td>4</td>\n",
       "      <td>4</td>\n",
       "      <td>3</td>\n",
       "      <td>4</td>\n",
       "      <td>4</td>\n",
       "    </tr>\n",
       "    <tr>\n",
       "      <th>AR - Other</th>\n",
       "      <td>10</td>\n",
       "      <td>10</td>\n",
       "      <td>10</td>\n",
       "      <td>10</td>\n",
       "      <td>7</td>\n",
       "      <td>4</td>\n",
       "      <td>3</td>\n",
       "      <td>7</td>\n",
       "      <td>10</td>\n",
       "      <td>10</td>\n",
       "      <td>...</td>\n",
       "      <td>10</td>\n",
       "      <td>10</td>\n",
       "      <td>10</td>\n",
       "      <td>10</td>\n",
       "      <td>10</td>\n",
       "      <td>10</td>\n",
       "      <td>10</td>\n",
       "      <td>9</td>\n",
       "      <td>10</td>\n",
       "      <td>10</td>\n",
       "    </tr>\n",
       "    <tr>\n",
       "      <th>ARG - Other</th>\n",
       "      <td>20</td>\n",
       "      <td>20</td>\n",
       "      <td>20</td>\n",
       "      <td>20</td>\n",
       "      <td>18</td>\n",
       "      <td>18</td>\n",
       "      <td>18</td>\n",
       "      <td>18</td>\n",
       "      <td>20</td>\n",
       "      <td>20</td>\n",
       "      <td>...</td>\n",
       "      <td>20</td>\n",
       "      <td>20</td>\n",
       "      <td>20</td>\n",
       "      <td>20</td>\n",
       "      <td>20</td>\n",
       "      <td>20</td>\n",
       "      <td>20</td>\n",
       "      <td>16</td>\n",
       "      <td>20</td>\n",
       "      <td>20</td>\n",
       "    </tr>\n",
       "    <tr>\n",
       "      <th>ARM - Other</th>\n",
       "      <td>2</td>\n",
       "      <td>2</td>\n",
       "      <td>2</td>\n",
       "      <td>2</td>\n",
       "      <td>1</td>\n",
       "      <td>1</td>\n",
       "      <td>1</td>\n",
       "      <td>1</td>\n",
       "      <td>2</td>\n",
       "      <td>2</td>\n",
       "      <td>...</td>\n",
       "      <td>2</td>\n",
       "      <td>2</td>\n",
       "      <td>2</td>\n",
       "      <td>2</td>\n",
       "      <td>2</td>\n",
       "      <td>2</td>\n",
       "      <td>2</td>\n",
       "      <td>2</td>\n",
       "      <td>2</td>\n",
       "      <td>2</td>\n",
       "    </tr>\n",
       "    <tr>\n",
       "      <th>AUS - Other</th>\n",
       "      <td>47</td>\n",
       "      <td>47</td>\n",
       "      <td>47</td>\n",
       "      <td>47</td>\n",
       "      <td>33</td>\n",
       "      <td>29</td>\n",
       "      <td>29</td>\n",
       "      <td>33</td>\n",
       "      <td>47</td>\n",
       "      <td>47</td>\n",
       "      <td>...</td>\n",
       "      <td>46</td>\n",
       "      <td>47</td>\n",
       "      <td>47</td>\n",
       "      <td>47</td>\n",
       "      <td>47</td>\n",
       "      <td>47</td>\n",
       "      <td>47</td>\n",
       "      <td>41</td>\n",
       "      <td>47</td>\n",
       "      <td>47</td>\n",
       "    </tr>\n",
       "    <tr>\n",
       "      <th>AUT - Other</th>\n",
       "      <td>25</td>\n",
       "      <td>25</td>\n",
       "      <td>25</td>\n",
       "      <td>25</td>\n",
       "      <td>19</td>\n",
       "      <td>16</td>\n",
       "      <td>16</td>\n",
       "      <td>19</td>\n",
       "      <td>25</td>\n",
       "      <td>25</td>\n",
       "      <td>...</td>\n",
       "      <td>25</td>\n",
       "      <td>25</td>\n",
       "      <td>25</td>\n",
       "      <td>25</td>\n",
       "      <td>25</td>\n",
       "      <td>25</td>\n",
       "      <td>25</td>\n",
       "      <td>18</td>\n",
       "      <td>25</td>\n",
       "      <td>25</td>\n",
       "    </tr>\n",
       "    <tr>\n",
       "      <th>AZ - Other</th>\n",
       "      <td>4</td>\n",
       "      <td>4</td>\n",
       "      <td>4</td>\n",
       "      <td>4</td>\n",
       "      <td>3</td>\n",
       "      <td>2</td>\n",
       "      <td>2</td>\n",
       "      <td>3</td>\n",
       "      <td>4</td>\n",
       "      <td>4</td>\n",
       "      <td>...</td>\n",
       "      <td>4</td>\n",
       "      <td>4</td>\n",
       "      <td>4</td>\n",
       "      <td>4</td>\n",
       "      <td>4</td>\n",
       "      <td>4</td>\n",
       "      <td>4</td>\n",
       "      <td>4</td>\n",
       "      <td>4</td>\n",
       "      <td>4</td>\n",
       "    </tr>\n",
       "    <tr>\n",
       "      <th>AZE - Other</th>\n",
       "      <td>1</td>\n",
       "      <td>1</td>\n",
       "      <td>1</td>\n",
       "      <td>1</td>\n",
       "      <td>1</td>\n",
       "      <td>1</td>\n",
       "      <td>1</td>\n",
       "      <td>1</td>\n",
       "      <td>1</td>\n",
       "      <td>1</td>\n",
       "      <td>...</td>\n",
       "      <td>1</td>\n",
       "      <td>1</td>\n",
       "      <td>1</td>\n",
       "      <td>1</td>\n",
       "      <td>1</td>\n",
       "      <td>1</td>\n",
       "      <td>1</td>\n",
       "      <td>1</td>\n",
       "      <td>1</td>\n",
       "      <td>1</td>\n",
       "    </tr>\n",
       "    <tr>\n",
       "      <th>Aachen</th>\n",
       "      <td>17</td>\n",
       "      <td>17</td>\n",
       "      <td>17</td>\n",
       "      <td>17</td>\n",
       "      <td>13</td>\n",
       "      <td>13</td>\n",
       "      <td>13</td>\n",
       "      <td>13</td>\n",
       "      <td>17</td>\n",
       "      <td>17</td>\n",
       "      <td>...</td>\n",
       "      <td>16</td>\n",
       "      <td>17</td>\n",
       "      <td>17</td>\n",
       "      <td>17</td>\n",
       "      <td>17</td>\n",
       "      <td>17</td>\n",
       "      <td>17</td>\n",
       "      <td>14</td>\n",
       "      <td>17</td>\n",
       "      <td>17</td>\n",
       "    </tr>\n",
       "    <tr>\n",
       "      <th>Aalborg</th>\n",
       "      <td>6</td>\n",
       "      <td>6</td>\n",
       "      <td>6</td>\n",
       "      <td>6</td>\n",
       "      <td>5</td>\n",
       "      <td>5</td>\n",
       "      <td>5</td>\n",
       "      <td>5</td>\n",
       "      <td>6</td>\n",
       "      <td>6</td>\n",
       "      <td>...</td>\n",
       "      <td>5</td>\n",
       "      <td>6</td>\n",
       "      <td>6</td>\n",
       "      <td>6</td>\n",
       "      <td>6</td>\n",
       "      <td>6</td>\n",
       "      <td>6</td>\n",
       "      <td>5</td>\n",
       "      <td>6</td>\n",
       "      <td>6</td>\n",
       "    </tr>\n",
       "    <tr>\n",
       "      <th>Aarhus</th>\n",
       "      <td>21</td>\n",
       "      <td>21</td>\n",
       "      <td>21</td>\n",
       "      <td>21</td>\n",
       "      <td>18</td>\n",
       "      <td>18</td>\n",
       "      <td>18</td>\n",
       "      <td>18</td>\n",
       "      <td>21</td>\n",
       "      <td>21</td>\n",
       "      <td>...</td>\n",
       "      <td>20</td>\n",
       "      <td>21</td>\n",
       "      <td>21</td>\n",
       "      <td>21</td>\n",
       "      <td>21</td>\n",
       "      <td>21</td>\n",
       "      <td>21</td>\n",
       "      <td>17</td>\n",
       "      <td>21</td>\n",
       "      <td>21</td>\n",
       "    </tr>\n",
       "    <tr>\n",
       "      <th>Aberdeen</th>\n",
       "      <td>12</td>\n",
       "      <td>12</td>\n",
       "      <td>12</td>\n",
       "      <td>12</td>\n",
       "      <td>9</td>\n",
       "      <td>9</td>\n",
       "      <td>9</td>\n",
       "      <td>9</td>\n",
       "      <td>12</td>\n",
       "      <td>12</td>\n",
       "      <td>...</td>\n",
       "      <td>12</td>\n",
       "      <td>12</td>\n",
       "      <td>12</td>\n",
       "      <td>12</td>\n",
       "      <td>12</td>\n",
       "      <td>12</td>\n",
       "      <td>12</td>\n",
       "      <td>11</td>\n",
       "      <td>12</td>\n",
       "      <td>12</td>\n",
       "    </tr>\n",
       "    <tr>\n",
       "      <th>Abu Dhabi</th>\n",
       "      <td>2</td>\n",
       "      <td>2</td>\n",
       "      <td>2</td>\n",
       "      <td>2</td>\n",
       "      <td>2</td>\n",
       "      <td>2</td>\n",
       "      <td>2</td>\n",
       "      <td>2</td>\n",
       "      <td>2</td>\n",
       "      <td>2</td>\n",
       "      <td>...</td>\n",
       "      <td>2</td>\n",
       "      <td>2</td>\n",
       "      <td>2</td>\n",
       "      <td>2</td>\n",
       "      <td>2</td>\n",
       "      <td>2</td>\n",
       "      <td>2</td>\n",
       "      <td>2</td>\n",
       "      <td>2</td>\n",
       "      <td>2</td>\n",
       "    </tr>\n",
       "    <tr>\n",
       "      <th>Abuja</th>\n",
       "      <td>6</td>\n",
       "      <td>6</td>\n",
       "      <td>6</td>\n",
       "      <td>6</td>\n",
       "      <td>5</td>\n",
       "      <td>5</td>\n",
       "      <td>5</td>\n",
       "      <td>5</td>\n",
       "      <td>6</td>\n",
       "      <td>6</td>\n",
       "      <td>...</td>\n",
       "      <td>5</td>\n",
       "      <td>6</td>\n",
       "      <td>6</td>\n",
       "      <td>6</td>\n",
       "      <td>6</td>\n",
       "      <td>6</td>\n",
       "      <td>6</td>\n",
       "      <td>5</td>\n",
       "      <td>6</td>\n",
       "      <td>6</td>\n",
       "    </tr>\n",
       "    <tr>\n",
       "      <th>Accra</th>\n",
       "      <td>22</td>\n",
       "      <td>22</td>\n",
       "      <td>22</td>\n",
       "      <td>22</td>\n",
       "      <td>21</td>\n",
       "      <td>20</td>\n",
       "      <td>21</td>\n",
       "      <td>21</td>\n",
       "      <td>22</td>\n",
       "      <td>22</td>\n",
       "      <td>...</td>\n",
       "      <td>22</td>\n",
       "      <td>22</td>\n",
       "      <td>22</td>\n",
       "      <td>22</td>\n",
       "      <td>22</td>\n",
       "      <td>22</td>\n",
       "      <td>22</td>\n",
       "      <td>19</td>\n",
       "      <td>22</td>\n",
       "      <td>22</td>\n",
       "    </tr>\n",
       "    <tr>\n",
       "      <th>Adelaide</th>\n",
       "      <td>15</td>\n",
       "      <td>15</td>\n",
       "      <td>15</td>\n",
       "      <td>15</td>\n",
       "      <td>14</td>\n",
       "      <td>14</td>\n",
       "      <td>14</td>\n",
       "      <td>14</td>\n",
       "      <td>15</td>\n",
       "      <td>15</td>\n",
       "      <td>...</td>\n",
       "      <td>15</td>\n",
       "      <td>15</td>\n",
       "      <td>15</td>\n",
       "      <td>15</td>\n",
       "      <td>15</td>\n",
       "      <td>15</td>\n",
       "      <td>15</td>\n",
       "      <td>14</td>\n",
       "      <td>15</td>\n",
       "      <td>15</td>\n",
       "    </tr>\n",
       "    <tr>\n",
       "      <th>Admiralty</th>\n",
       "      <td>2</td>\n",
       "      <td>2</td>\n",
       "      <td>2</td>\n",
       "      <td>2</td>\n",
       "      <td>2</td>\n",
       "      <td>1</td>\n",
       "      <td>2</td>\n",
       "      <td>2</td>\n",
       "      <td>2</td>\n",
       "      <td>2</td>\n",
       "      <td>...</td>\n",
       "      <td>2</td>\n",
       "      <td>2</td>\n",
       "      <td>2</td>\n",
       "      <td>2</td>\n",
       "      <td>0</td>\n",
       "      <td>2</td>\n",
       "      <td>2</td>\n",
       "      <td>0</td>\n",
       "      <td>2</td>\n",
       "      <td>2</td>\n",
       "    </tr>\n",
       "    <tr>\n",
       "      <th>Ahmedabad</th>\n",
       "      <td>36</td>\n",
       "      <td>36</td>\n",
       "      <td>36</td>\n",
       "      <td>36</td>\n",
       "      <td>20</td>\n",
       "      <td>17</td>\n",
       "      <td>17</td>\n",
       "      <td>20</td>\n",
       "      <td>36</td>\n",
       "      <td>36</td>\n",
       "      <td>...</td>\n",
       "      <td>34</td>\n",
       "      <td>36</td>\n",
       "      <td>36</td>\n",
       "      <td>36</td>\n",
       "      <td>36</td>\n",
       "      <td>36</td>\n",
       "      <td>36</td>\n",
       "      <td>29</td>\n",
       "      <td>36</td>\n",
       "      <td>36</td>\n",
       "    </tr>\n",
       "    <tr>\n",
       "      <th>Aix-en-provence</th>\n",
       "      <td>69</td>\n",
       "      <td>69</td>\n",
       "      <td>69</td>\n",
       "      <td>69</td>\n",
       "      <td>63</td>\n",
       "      <td>63</td>\n",
       "      <td>63</td>\n",
       "      <td>63</td>\n",
       "      <td>69</td>\n",
       "      <td>69</td>\n",
       "      <td>...</td>\n",
       "      <td>69</td>\n",
       "      <td>69</td>\n",
       "      <td>69</td>\n",
       "      <td>69</td>\n",
       "      <td>69</td>\n",
       "      <td>69</td>\n",
       "      <td>69</td>\n",
       "      <td>66</td>\n",
       "      <td>69</td>\n",
       "      <td>69</td>\n",
       "    </tr>\n",
       "    <tr>\n",
       "      <th>Akron - Canton</th>\n",
       "      <td>50</td>\n",
       "      <td>50</td>\n",
       "      <td>50</td>\n",
       "      <td>50</td>\n",
       "      <td>39</td>\n",
       "      <td>37</td>\n",
       "      <td>37</td>\n",
       "      <td>39</td>\n",
       "      <td>50</td>\n",
       "      <td>50</td>\n",
       "      <td>...</td>\n",
       "      <td>50</td>\n",
       "      <td>50</td>\n",
       "      <td>50</td>\n",
       "      <td>50</td>\n",
       "      <td>50</td>\n",
       "      <td>50</td>\n",
       "      <td>50</td>\n",
       "      <td>40</td>\n",
       "      <td>50</td>\n",
       "      <td>50</td>\n",
       "    </tr>\n",
       "    <tr>\n",
       "      <th>Albany, Georgia</th>\n",
       "      <td>1</td>\n",
       "      <td>1</td>\n",
       "      <td>1</td>\n",
       "      <td>1</td>\n",
       "      <td>1</td>\n",
       "      <td>1</td>\n",
       "      <td>1</td>\n",
       "      <td>1</td>\n",
       "      <td>1</td>\n",
       "      <td>1</td>\n",
       "      <td>...</td>\n",
       "      <td>1</td>\n",
       "      <td>1</td>\n",
       "      <td>1</td>\n",
       "      <td>1</td>\n",
       "      <td>1</td>\n",
       "      <td>1</td>\n",
       "      <td>1</td>\n",
       "      <td>1</td>\n",
       "      <td>1</td>\n",
       "      <td>1</td>\n",
       "    </tr>\n",
       "    <tr>\n",
       "      <th>Albany, New York</th>\n",
       "      <td>65</td>\n",
       "      <td>65</td>\n",
       "      <td>65</td>\n",
       "      <td>65</td>\n",
       "      <td>54</td>\n",
       "      <td>54</td>\n",
       "      <td>54</td>\n",
       "      <td>54</td>\n",
       "      <td>65</td>\n",
       "      <td>65</td>\n",
       "      <td>...</td>\n",
       "      <td>65</td>\n",
       "      <td>65</td>\n",
       "      <td>65</td>\n",
       "      <td>65</td>\n",
       "      <td>65</td>\n",
       "      <td>65</td>\n",
       "      <td>65</td>\n",
       "      <td>54</td>\n",
       "      <td>65</td>\n",
       "      <td>65</td>\n",
       "    </tr>\n",
       "    <tr>\n",
       "      <th>Albuquerque</th>\n",
       "      <td>207</td>\n",
       "      <td>207</td>\n",
       "      <td>207</td>\n",
       "      <td>207</td>\n",
       "      <td>192</td>\n",
       "      <td>190</td>\n",
       "      <td>189</td>\n",
       "      <td>191</td>\n",
       "      <td>207</td>\n",
       "      <td>207</td>\n",
       "      <td>...</td>\n",
       "      <td>206</td>\n",
       "      <td>207</td>\n",
       "      <td>207</td>\n",
       "      <td>207</td>\n",
       "      <td>207</td>\n",
       "      <td>207</td>\n",
       "      <td>207</td>\n",
       "      <td>165</td>\n",
       "      <td>207</td>\n",
       "      <td>207</td>\n",
       "    </tr>\n",
       "    <tr>\n",
       "      <th>Alcester</th>\n",
       "      <td>11</td>\n",
       "      <td>11</td>\n",
       "      <td>11</td>\n",
       "      <td>11</td>\n",
       "      <td>10</td>\n",
       "      <td>10</td>\n",
       "      <td>10</td>\n",
       "      <td>10</td>\n",
       "      <td>11</td>\n",
       "      <td>11</td>\n",
       "      <td>...</td>\n",
       "      <td>11</td>\n",
       "      <td>11</td>\n",
       "      <td>11</td>\n",
       "      <td>11</td>\n",
       "      <td>11</td>\n",
       "      <td>11</td>\n",
       "      <td>11</td>\n",
       "      <td>11</td>\n",
       "      <td>11</td>\n",
       "      <td>11</td>\n",
       "    </tr>\n",
       "    <tr>\n",
       "      <th>Alcorcon</th>\n",
       "      <td>5</td>\n",
       "      <td>5</td>\n",
       "      <td>5</td>\n",
       "      <td>5</td>\n",
       "      <td>4</td>\n",
       "      <td>4</td>\n",
       "      <td>4</td>\n",
       "      <td>4</td>\n",
       "      <td>5</td>\n",
       "      <td>5</td>\n",
       "      <td>...</td>\n",
       "      <td>5</td>\n",
       "      <td>5</td>\n",
       "      <td>5</td>\n",
       "      <td>5</td>\n",
       "      <td>5</td>\n",
       "      <td>5</td>\n",
       "      <td>5</td>\n",
       "      <td>5</td>\n",
       "      <td>5</td>\n",
       "      <td>5</td>\n",
       "    </tr>\n",
       "    <tr>\n",
       "      <th>Alcoy</th>\n",
       "      <td>1</td>\n",
       "      <td>1</td>\n",
       "      <td>1</td>\n",
       "      <td>1</td>\n",
       "      <td>1</td>\n",
       "      <td>1</td>\n",
       "      <td>1</td>\n",
       "      <td>1</td>\n",
       "      <td>1</td>\n",
       "      <td>1</td>\n",
       "      <td>...</td>\n",
       "      <td>1</td>\n",
       "      <td>1</td>\n",
       "      <td>1</td>\n",
       "      <td>1</td>\n",
       "      <td>1</td>\n",
       "      <td>1</td>\n",
       "      <td>1</td>\n",
       "      <td>1</td>\n",
       "      <td>1</td>\n",
       "      <td>1</td>\n",
       "    </tr>\n",
       "    <tr>\n",
       "      <th>Aldershot</th>\n",
       "      <td>2</td>\n",
       "      <td>2</td>\n",
       "      <td>2</td>\n",
       "      <td>2</td>\n",
       "      <td>2</td>\n",
       "      <td>2</td>\n",
       "      <td>2</td>\n",
       "      <td>2</td>\n",
       "      <td>2</td>\n",
       "      <td>2</td>\n",
       "      <td>...</td>\n",
       "      <td>2</td>\n",
       "      <td>2</td>\n",
       "      <td>2</td>\n",
       "      <td>2</td>\n",
       "      <td>2</td>\n",
       "      <td>2</td>\n",
       "      <td>2</td>\n",
       "      <td>2</td>\n",
       "      <td>2</td>\n",
       "      <td>2</td>\n",
       "    </tr>\n",
       "    <tr>\n",
       "      <th>...</th>\n",
       "      <td>...</td>\n",
       "      <td>...</td>\n",
       "      <td>...</td>\n",
       "      <td>...</td>\n",
       "      <td>...</td>\n",
       "      <td>...</td>\n",
       "      <td>...</td>\n",
       "      <td>...</td>\n",
       "      <td>...</td>\n",
       "      <td>...</td>\n",
       "      <td>...</td>\n",
       "      <td>...</td>\n",
       "      <td>...</td>\n",
       "      <td>...</td>\n",
       "      <td>...</td>\n",
       "      <td>...</td>\n",
       "      <td>...</td>\n",
       "      <td>...</td>\n",
       "      <td>...</td>\n",
       "      <td>...</td>\n",
       "      <td>...</td>\n",
       "    </tr>\n",
       "    <tr>\n",
       "      <th>Wilmington - Cape Fear, North Carolina</th>\n",
       "      <td>16</td>\n",
       "      <td>16</td>\n",
       "      <td>16</td>\n",
       "      <td>16</td>\n",
       "      <td>9</td>\n",
       "      <td>8</td>\n",
       "      <td>8</td>\n",
       "      <td>9</td>\n",
       "      <td>16</td>\n",
       "      <td>16</td>\n",
       "      <td>...</td>\n",
       "      <td>16</td>\n",
       "      <td>16</td>\n",
       "      <td>16</td>\n",
       "      <td>16</td>\n",
       "      <td>16</td>\n",
       "      <td>16</td>\n",
       "      <td>16</td>\n",
       "      <td>14</td>\n",
       "      <td>16</td>\n",
       "      <td>16</td>\n",
       "    </tr>\n",
       "    <tr>\n",
       "      <th>Wilmington, Delaware</th>\n",
       "      <td>82</td>\n",
       "      <td>82</td>\n",
       "      <td>82</td>\n",
       "      <td>82</td>\n",
       "      <td>66</td>\n",
       "      <td>61</td>\n",
       "      <td>61</td>\n",
       "      <td>65</td>\n",
       "      <td>82</td>\n",
       "      <td>82</td>\n",
       "      <td>...</td>\n",
       "      <td>81</td>\n",
       "      <td>82</td>\n",
       "      <td>82</td>\n",
       "      <td>82</td>\n",
       "      <td>82</td>\n",
       "      <td>82</td>\n",
       "      <td>82</td>\n",
       "      <td>59</td>\n",
       "      <td>82</td>\n",
       "      <td>82</td>\n",
       "    </tr>\n",
       "    <tr>\n",
       "      <th>Wilmslow</th>\n",
       "      <td>2</td>\n",
       "      <td>2</td>\n",
       "      <td>2</td>\n",
       "      <td>2</td>\n",
       "      <td>1</td>\n",
       "      <td>1</td>\n",
       "      <td>1</td>\n",
       "      <td>1</td>\n",
       "      <td>2</td>\n",
       "      <td>2</td>\n",
       "      <td>...</td>\n",
       "      <td>2</td>\n",
       "      <td>2</td>\n",
       "      <td>2</td>\n",
       "      <td>2</td>\n",
       "      <td>2</td>\n",
       "      <td>2</td>\n",
       "      <td>2</td>\n",
       "      <td>2</td>\n",
       "      <td>2</td>\n",
       "      <td>2</td>\n",
       "    </tr>\n",
       "    <tr>\n",
       "      <th>Wimbledon</th>\n",
       "      <td>3</td>\n",
       "      <td>3</td>\n",
       "      <td>3</td>\n",
       "      <td>3</td>\n",
       "      <td>3</td>\n",
       "      <td>3</td>\n",
       "      <td>3</td>\n",
       "      <td>3</td>\n",
       "      <td>3</td>\n",
       "      <td>3</td>\n",
       "      <td>...</td>\n",
       "      <td>2</td>\n",
       "      <td>3</td>\n",
       "      <td>3</td>\n",
       "      <td>3</td>\n",
       "      <td>3</td>\n",
       "      <td>3</td>\n",
       "      <td>3</td>\n",
       "      <td>2</td>\n",
       "      <td>3</td>\n",
       "      <td>3</td>\n",
       "    </tr>\n",
       "    <tr>\n",
       "      <th>Winnipeg</th>\n",
       "      <td>7</td>\n",
       "      <td>7</td>\n",
       "      <td>7</td>\n",
       "      <td>7</td>\n",
       "      <td>5</td>\n",
       "      <td>5</td>\n",
       "      <td>5</td>\n",
       "      <td>5</td>\n",
       "      <td>7</td>\n",
       "      <td>7</td>\n",
       "      <td>...</td>\n",
       "      <td>7</td>\n",
       "      <td>7</td>\n",
       "      <td>7</td>\n",
       "      <td>7</td>\n",
       "      <td>7</td>\n",
       "      <td>7</td>\n",
       "      <td>7</td>\n",
       "      <td>6</td>\n",
       "      <td>7</td>\n",
       "      <td>7</td>\n",
       "    </tr>\n",
       "    <tr>\n",
       "      <th>Winston-Salem</th>\n",
       "      <td>29</td>\n",
       "      <td>29</td>\n",
       "      <td>29</td>\n",
       "      <td>29</td>\n",
       "      <td>28</td>\n",
       "      <td>27</td>\n",
       "      <td>27</td>\n",
       "      <td>27</td>\n",
       "      <td>29</td>\n",
       "      <td>29</td>\n",
       "      <td>...</td>\n",
       "      <td>29</td>\n",
       "      <td>29</td>\n",
       "      <td>29</td>\n",
       "      <td>29</td>\n",
       "      <td>29</td>\n",
       "      <td>29</td>\n",
       "      <td>29</td>\n",
       "      <td>28</td>\n",
       "      <td>29</td>\n",
       "      <td>29</td>\n",
       "    </tr>\n",
       "    <tr>\n",
       "      <th>Wokingham</th>\n",
       "      <td>5</td>\n",
       "      <td>5</td>\n",
       "      <td>5</td>\n",
       "      <td>5</td>\n",
       "      <td>5</td>\n",
       "      <td>5</td>\n",
       "      <td>5</td>\n",
       "      <td>5</td>\n",
       "      <td>5</td>\n",
       "      <td>5</td>\n",
       "      <td>...</td>\n",
       "      <td>5</td>\n",
       "      <td>5</td>\n",
       "      <td>5</td>\n",
       "      <td>5</td>\n",
       "      <td>5</td>\n",
       "      <td>5</td>\n",
       "      <td>5</td>\n",
       "      <td>5</td>\n",
       "      <td>5</td>\n",
       "      <td>5</td>\n",
       "    </tr>\n",
       "    <tr>\n",
       "      <th>Wolverhampton</th>\n",
       "      <td>4</td>\n",
       "      <td>4</td>\n",
       "      <td>4</td>\n",
       "      <td>4</td>\n",
       "      <td>4</td>\n",
       "      <td>4</td>\n",
       "      <td>4</td>\n",
       "      <td>4</td>\n",
       "      <td>4</td>\n",
       "      <td>4</td>\n",
       "      <td>...</td>\n",
       "      <td>2</td>\n",
       "      <td>4</td>\n",
       "      <td>4</td>\n",
       "      <td>4</td>\n",
       "      <td>4</td>\n",
       "      <td>4</td>\n",
       "      <td>4</td>\n",
       "      <td>1</td>\n",
       "      <td>4</td>\n",
       "      <td>4</td>\n",
       "    </tr>\n",
       "    <tr>\n",
       "      <th>Worcester</th>\n",
       "      <td>231</td>\n",
       "      <td>231</td>\n",
       "      <td>231</td>\n",
       "      <td>231</td>\n",
       "      <td>210</td>\n",
       "      <td>209</td>\n",
       "      <td>209</td>\n",
       "      <td>210</td>\n",
       "      <td>231</td>\n",
       "      <td>231</td>\n",
       "      <td>...</td>\n",
       "      <td>224</td>\n",
       "      <td>231</td>\n",
       "      <td>231</td>\n",
       "      <td>231</td>\n",
       "      <td>231</td>\n",
       "      <td>231</td>\n",
       "      <td>231</td>\n",
       "      <td>194</td>\n",
       "      <td>231</td>\n",
       "      <td>231</td>\n",
       "    </tr>\n",
       "    <tr>\n",
       "      <th>Wroclaw</th>\n",
       "      <td>16</td>\n",
       "      <td>16</td>\n",
       "      <td>16</td>\n",
       "      <td>16</td>\n",
       "      <td>8</td>\n",
       "      <td>8</td>\n",
       "      <td>8</td>\n",
       "      <td>8</td>\n",
       "      <td>16</td>\n",
       "      <td>16</td>\n",
       "      <td>...</td>\n",
       "      <td>15</td>\n",
       "      <td>16</td>\n",
       "      <td>16</td>\n",
       "      <td>16</td>\n",
       "      <td>16</td>\n",
       "      <td>16</td>\n",
       "      <td>16</td>\n",
       "      <td>13</td>\n",
       "      <td>16</td>\n",
       "      <td>16</td>\n",
       "    </tr>\n",
       "    <tr>\n",
       "      <th>Wuhan</th>\n",
       "      <td>7</td>\n",
       "      <td>7</td>\n",
       "      <td>7</td>\n",
       "      <td>7</td>\n",
       "      <td>7</td>\n",
       "      <td>5</td>\n",
       "      <td>7</td>\n",
       "      <td>7</td>\n",
       "      <td>7</td>\n",
       "      <td>7</td>\n",
       "      <td>...</td>\n",
       "      <td>7</td>\n",
       "      <td>7</td>\n",
       "      <td>7</td>\n",
       "      <td>7</td>\n",
       "      <td>7</td>\n",
       "      <td>7</td>\n",
       "      <td>7</td>\n",
       "      <td>3</td>\n",
       "      <td>7</td>\n",
       "      <td>7</td>\n",
       "    </tr>\n",
       "    <tr>\n",
       "      <th>Wuxi</th>\n",
       "      <td>4</td>\n",
       "      <td>4</td>\n",
       "      <td>4</td>\n",
       "      <td>4</td>\n",
       "      <td>3</td>\n",
       "      <td>3</td>\n",
       "      <td>3</td>\n",
       "      <td>3</td>\n",
       "      <td>4</td>\n",
       "      <td>4</td>\n",
       "      <td>...</td>\n",
       "      <td>4</td>\n",
       "      <td>4</td>\n",
       "      <td>4</td>\n",
       "      <td>4</td>\n",
       "      <td>4</td>\n",
       "      <td>4</td>\n",
       "      <td>4</td>\n",
       "      <td>4</td>\n",
       "      <td>4</td>\n",
       "      <td>4</td>\n",
       "    </tr>\n",
       "    <tr>\n",
       "      <th>Xiamen</th>\n",
       "      <td>17</td>\n",
       "      <td>17</td>\n",
       "      <td>17</td>\n",
       "      <td>17</td>\n",
       "      <td>14</td>\n",
       "      <td>13</td>\n",
       "      <td>14</td>\n",
       "      <td>14</td>\n",
       "      <td>17</td>\n",
       "      <td>17</td>\n",
       "      <td>...</td>\n",
       "      <td>17</td>\n",
       "      <td>17</td>\n",
       "      <td>17</td>\n",
       "      <td>17</td>\n",
       "      <td>17</td>\n",
       "      <td>17</td>\n",
       "      <td>17</td>\n",
       "      <td>7</td>\n",
       "      <td>17</td>\n",
       "      <td>17</td>\n",
       "    </tr>\n",
       "    <tr>\n",
       "      <th>Yangon</th>\n",
       "      <td>1</td>\n",
       "      <td>1</td>\n",
       "      <td>1</td>\n",
       "      <td>1</td>\n",
       "      <td>0</td>\n",
       "      <td>0</td>\n",
       "      <td>0</td>\n",
       "      <td>0</td>\n",
       "      <td>1</td>\n",
       "      <td>1</td>\n",
       "      <td>...</td>\n",
       "      <td>1</td>\n",
       "      <td>1</td>\n",
       "      <td>1</td>\n",
       "      <td>1</td>\n",
       "      <td>1</td>\n",
       "      <td>1</td>\n",
       "      <td>1</td>\n",
       "      <td>1</td>\n",
       "      <td>1</td>\n",
       "      <td>1</td>\n",
       "    </tr>\n",
       "    <tr>\n",
       "      <th>Yerevan</th>\n",
       "      <td>3</td>\n",
       "      <td>3</td>\n",
       "      <td>3</td>\n",
       "      <td>3</td>\n",
       "      <td>3</td>\n",
       "      <td>3</td>\n",
       "      <td>3</td>\n",
       "      <td>3</td>\n",
       "      <td>3</td>\n",
       "      <td>3</td>\n",
       "      <td>...</td>\n",
       "      <td>3</td>\n",
       "      <td>3</td>\n",
       "      <td>3</td>\n",
       "      <td>3</td>\n",
       "      <td>3</td>\n",
       "      <td>3</td>\n",
       "      <td>3</td>\n",
       "      <td>3</td>\n",
       "      <td>3</td>\n",
       "      <td>3</td>\n",
       "    </tr>\n",
       "    <tr>\n",
       "      <th>Yokohama</th>\n",
       "      <td>3</td>\n",
       "      <td>3</td>\n",
       "      <td>3</td>\n",
       "      <td>3</td>\n",
       "      <td>3</td>\n",
       "      <td>2</td>\n",
       "      <td>2</td>\n",
       "      <td>2</td>\n",
       "      <td>3</td>\n",
       "      <td>3</td>\n",
       "      <td>...</td>\n",
       "      <td>3</td>\n",
       "      <td>3</td>\n",
       "      <td>3</td>\n",
       "      <td>3</td>\n",
       "      <td>3</td>\n",
       "      <td>3</td>\n",
       "      <td>3</td>\n",
       "      <td>2</td>\n",
       "      <td>3</td>\n",
       "      <td>3</td>\n",
       "    </tr>\n",
       "    <tr>\n",
       "      <th>York</th>\n",
       "      <td>9</td>\n",
       "      <td>9</td>\n",
       "      <td>9</td>\n",
       "      <td>9</td>\n",
       "      <td>9</td>\n",
       "      <td>7</td>\n",
       "      <td>7</td>\n",
       "      <td>7</td>\n",
       "      <td>9</td>\n",
       "      <td>9</td>\n",
       "      <td>...</td>\n",
       "      <td>9</td>\n",
       "      <td>9</td>\n",
       "      <td>9</td>\n",
       "      <td>9</td>\n",
       "      <td>9</td>\n",
       "      <td>9</td>\n",
       "      <td>9</td>\n",
       "      <td>4</td>\n",
       "      <td>9</td>\n",
       "      <td>9</td>\n",
       "    </tr>\n",
       "    <tr>\n",
       "      <th>Youngstown</th>\n",
       "      <td>6</td>\n",
       "      <td>6</td>\n",
       "      <td>6</td>\n",
       "      <td>6</td>\n",
       "      <td>6</td>\n",
       "      <td>6</td>\n",
       "      <td>6</td>\n",
       "      <td>6</td>\n",
       "      <td>6</td>\n",
       "      <td>6</td>\n",
       "      <td>...</td>\n",
       "      <td>5</td>\n",
       "      <td>6</td>\n",
       "      <td>6</td>\n",
       "      <td>6</td>\n",
       "      <td>6</td>\n",
       "      <td>6</td>\n",
       "      <td>6</td>\n",
       "      <td>5</td>\n",
       "      <td>6</td>\n",
       "      <td>6</td>\n",
       "    </tr>\n",
       "    <tr>\n",
       "      <th>Yucatan</th>\n",
       "      <td>3</td>\n",
       "      <td>3</td>\n",
       "      <td>3</td>\n",
       "      <td>3</td>\n",
       "      <td>3</td>\n",
       "      <td>3</td>\n",
       "      <td>3</td>\n",
       "      <td>3</td>\n",
       "      <td>3</td>\n",
       "      <td>3</td>\n",
       "      <td>...</td>\n",
       "      <td>3</td>\n",
       "      <td>3</td>\n",
       "      <td>3</td>\n",
       "      <td>3</td>\n",
       "      <td>3</td>\n",
       "      <td>3</td>\n",
       "      <td>3</td>\n",
       "      <td>1</td>\n",
       "      <td>3</td>\n",
       "      <td>3</td>\n",
       "    </tr>\n",
       "    <tr>\n",
       "      <th>Yverdon-les-bains</th>\n",
       "      <td>5</td>\n",
       "      <td>5</td>\n",
       "      <td>5</td>\n",
       "      <td>5</td>\n",
       "      <td>4</td>\n",
       "      <td>2</td>\n",
       "      <td>3</td>\n",
       "      <td>4</td>\n",
       "      <td>5</td>\n",
       "      <td>5</td>\n",
       "      <td>...</td>\n",
       "      <td>5</td>\n",
       "      <td>5</td>\n",
       "      <td>5</td>\n",
       "      <td>5</td>\n",
       "      <td>5</td>\n",
       "      <td>5</td>\n",
       "      <td>5</td>\n",
       "      <td>5</td>\n",
       "      <td>5</td>\n",
       "      <td>5</td>\n",
       "    </tr>\n",
       "    <tr>\n",
       "      <th>ZAF - Other</th>\n",
       "      <td>6</td>\n",
       "      <td>6</td>\n",
       "      <td>6</td>\n",
       "      <td>6</td>\n",
       "      <td>3</td>\n",
       "      <td>1</td>\n",
       "      <td>1</td>\n",
       "      <td>3</td>\n",
       "      <td>6</td>\n",
       "      <td>6</td>\n",
       "      <td>...</td>\n",
       "      <td>6</td>\n",
       "      <td>6</td>\n",
       "      <td>6</td>\n",
       "      <td>6</td>\n",
       "      <td>0</td>\n",
       "      <td>6</td>\n",
       "      <td>6</td>\n",
       "      <td>6</td>\n",
       "      <td>6</td>\n",
       "      <td>6</td>\n",
       "    </tr>\n",
       "    <tr>\n",
       "      <th>ZMB - Other</th>\n",
       "      <td>5</td>\n",
       "      <td>5</td>\n",
       "      <td>5</td>\n",
       "      <td>5</td>\n",
       "      <td>0</td>\n",
       "      <td>0</td>\n",
       "      <td>0</td>\n",
       "      <td>0</td>\n",
       "      <td>5</td>\n",
       "      <td>5</td>\n",
       "      <td>...</td>\n",
       "      <td>5</td>\n",
       "      <td>5</td>\n",
       "      <td>5</td>\n",
       "      <td>5</td>\n",
       "      <td>0</td>\n",
       "      <td>5</td>\n",
       "      <td>5</td>\n",
       "      <td>5</td>\n",
       "      <td>5</td>\n",
       "      <td>5</td>\n",
       "    </tr>\n",
       "    <tr>\n",
       "      <th>Zagreb</th>\n",
       "      <td>9</td>\n",
       "      <td>9</td>\n",
       "      <td>9</td>\n",
       "      <td>9</td>\n",
       "      <td>7</td>\n",
       "      <td>5</td>\n",
       "      <td>5</td>\n",
       "      <td>7</td>\n",
       "      <td>9</td>\n",
       "      <td>9</td>\n",
       "      <td>...</td>\n",
       "      <td>9</td>\n",
       "      <td>9</td>\n",
       "      <td>9</td>\n",
       "      <td>9</td>\n",
       "      <td>9</td>\n",
       "      <td>9</td>\n",
       "      <td>9</td>\n",
       "      <td>8</td>\n",
       "      <td>9</td>\n",
       "      <td>9</td>\n",
       "    </tr>\n",
       "    <tr>\n",
       "      <th>Zamudio</th>\n",
       "      <td>2</td>\n",
       "      <td>2</td>\n",
       "      <td>2</td>\n",
       "      <td>2</td>\n",
       "      <td>1</td>\n",
       "      <td>1</td>\n",
       "      <td>1</td>\n",
       "      <td>1</td>\n",
       "      <td>2</td>\n",
       "      <td>2</td>\n",
       "      <td>...</td>\n",
       "      <td>2</td>\n",
       "      <td>2</td>\n",
       "      <td>2</td>\n",
       "      <td>2</td>\n",
       "      <td>2</td>\n",
       "      <td>2</td>\n",
       "      <td>2</td>\n",
       "      <td>0</td>\n",
       "      <td>2</td>\n",
       "      <td>2</td>\n",
       "    </tr>\n",
       "    <tr>\n",
       "      <th>Zaragoza</th>\n",
       "      <td>8</td>\n",
       "      <td>8</td>\n",
       "      <td>8</td>\n",
       "      <td>8</td>\n",
       "      <td>8</td>\n",
       "      <td>7</td>\n",
       "      <td>7</td>\n",
       "      <td>8</td>\n",
       "      <td>8</td>\n",
       "      <td>8</td>\n",
       "      <td>...</td>\n",
       "      <td>8</td>\n",
       "      <td>8</td>\n",
       "      <td>8</td>\n",
       "      <td>8</td>\n",
       "      <td>8</td>\n",
       "      <td>8</td>\n",
       "      <td>8</td>\n",
       "      <td>3</td>\n",
       "      <td>8</td>\n",
       "      <td>8</td>\n",
       "    </tr>\n",
       "    <tr>\n",
       "      <th>Zhengzhou</th>\n",
       "      <td>3</td>\n",
       "      <td>3</td>\n",
       "      <td>3</td>\n",
       "      <td>3</td>\n",
       "      <td>3</td>\n",
       "      <td>3</td>\n",
       "      <td>3</td>\n",
       "      <td>3</td>\n",
       "      <td>3</td>\n",
       "      <td>3</td>\n",
       "      <td>...</td>\n",
       "      <td>3</td>\n",
       "      <td>3</td>\n",
       "      <td>3</td>\n",
       "      <td>3</td>\n",
       "      <td>3</td>\n",
       "      <td>3</td>\n",
       "      <td>3</td>\n",
       "      <td>1</td>\n",
       "      <td>3</td>\n",
       "      <td>3</td>\n",
       "    </tr>\n",
       "    <tr>\n",
       "      <th>Zhuhai</th>\n",
       "      <td>6</td>\n",
       "      <td>6</td>\n",
       "      <td>6</td>\n",
       "      <td>6</td>\n",
       "      <td>5</td>\n",
       "      <td>4</td>\n",
       "      <td>4</td>\n",
       "      <td>4</td>\n",
       "      <td>6</td>\n",
       "      <td>6</td>\n",
       "      <td>...</td>\n",
       "      <td>6</td>\n",
       "      <td>6</td>\n",
       "      <td>6</td>\n",
       "      <td>6</td>\n",
       "      <td>6</td>\n",
       "      <td>6</td>\n",
       "      <td>6</td>\n",
       "      <td>2</td>\n",
       "      <td>6</td>\n",
       "      <td>6</td>\n",
       "    </tr>\n",
       "    <tr>\n",
       "      <th>Zurich</th>\n",
       "      <td>248</td>\n",
       "      <td>248</td>\n",
       "      <td>248</td>\n",
       "      <td>248</td>\n",
       "      <td>178</td>\n",
       "      <td>139</td>\n",
       "      <td>132</td>\n",
       "      <td>168</td>\n",
       "      <td>248</td>\n",
       "      <td>248</td>\n",
       "      <td>...</td>\n",
       "      <td>245</td>\n",
       "      <td>248</td>\n",
       "      <td>248</td>\n",
       "      <td>248</td>\n",
       "      <td>248</td>\n",
       "      <td>248</td>\n",
       "      <td>248</td>\n",
       "      <td>229</td>\n",
       "      <td>248</td>\n",
       "      <td>248</td>\n",
       "    </tr>\n",
       "    <tr>\n",
       "      <th>Ã‡an</th>\n",
       "      <td>71</td>\n",
       "      <td>71</td>\n",
       "      <td>71</td>\n",
       "      <td>71</td>\n",
       "      <td>66</td>\n",
       "      <td>65</td>\n",
       "      <td>64</td>\n",
       "      <td>65</td>\n",
       "      <td>71</td>\n",
       "      <td>71</td>\n",
       "      <td>...</td>\n",
       "      <td>70</td>\n",
       "      <td>71</td>\n",
       "      <td>71</td>\n",
       "      <td>71</td>\n",
       "      <td>71</td>\n",
       "      <td>71</td>\n",
       "      <td>71</td>\n",
       "      <td>46</td>\n",
       "      <td>71</td>\n",
       "      <td>71</td>\n",
       "    </tr>\n",
       "    <tr>\n",
       "      <th>Ã‰vry</th>\n",
       "      <td>8</td>\n",
       "      <td>8</td>\n",
       "      <td>8</td>\n",
       "      <td>8</td>\n",
       "      <td>7</td>\n",
       "      <td>7</td>\n",
       "      <td>7</td>\n",
       "      <td>7</td>\n",
       "      <td>8</td>\n",
       "      <td>8</td>\n",
       "      <td>...</td>\n",
       "      <td>8</td>\n",
       "      <td>8</td>\n",
       "      <td>8</td>\n",
       "      <td>8</td>\n",
       "      <td>8</td>\n",
       "      <td>8</td>\n",
       "      <td>8</td>\n",
       "      <td>6</td>\n",
       "      <td>8</td>\n",
       "      <td>8</td>\n",
       "    </tr>\n",
       "  </tbody>\n",
       "</table>\n",
       "<p>983 rows × 28 columns</p>\n",
       "</div>"
      ],
      "text/plain": [
       "                                        company_permalink  company_name  \\\n",
       "region                                                                    \n",
       "A Coruna                                                3             3   \n",
       "AB - Other                                              2             2   \n",
       "AK - Other                                              2             2   \n",
       "AL - Other                                              4             4   \n",
       "AR - Other                                             10            10   \n",
       "ARG - Other                                            20            20   \n",
       "ARM - Other                                             2             2   \n",
       "AUS - Other                                            47            47   \n",
       "AUT - Other                                            25            25   \n",
       "AZ - Other                                              4             4   \n",
       "AZE - Other                                             1             1   \n",
       "Aachen                                                 17            17   \n",
       "Aalborg                                                 6             6   \n",
       "Aarhus                                                 21            21   \n",
       "Aberdeen                                               12            12   \n",
       "Abu Dhabi                                               2             2   \n",
       "Abuja                                                   6             6   \n",
       "Accra                                                  22            22   \n",
       "Adelaide                                               15            15   \n",
       "Admiralty                                               2             2   \n",
       "Ahmedabad                                              36            36   \n",
       "Aix-en-provence                                        69            69   \n",
       "Akron - Canton                                         50            50   \n",
       "Albany, Georgia                                         1             1   \n",
       "Albany, New York                                       65            65   \n",
       "Albuquerque                                           207           207   \n",
       "Alcester                                               11            11   \n",
       "Alcorcon                                                5             5   \n",
       "Alcoy                                                   1             1   \n",
       "Aldershot                                               2             2   \n",
       "...                                                   ...           ...   \n",
       "Wilmington - Cape Fear, North Carolina                 16            16   \n",
       "Wilmington, Delaware                                   82            82   \n",
       "Wilmslow                                                2             2   \n",
       "Wimbledon                                               3             3   \n",
       "Winnipeg                                                7             7   \n",
       "Winston-Salem                                          29            29   \n",
       "Wokingham                                               5             5   \n",
       "Wolverhampton                                           4             4   \n",
       "Worcester                                             231           231   \n",
       "Wroclaw                                                16            16   \n",
       "Wuhan                                                   7             7   \n",
       "Wuxi                                                    4             4   \n",
       "Xiamen                                                 17            17   \n",
       "Yangon                                                  1             1   \n",
       "Yerevan                                                 3             3   \n",
       "Yokohama                                                3             3   \n",
       "York                                                    9             9   \n",
       "Youngstown                                              6             6   \n",
       "Yucatan                                                 3             3   \n",
       "Yverdon-les-bains                                       5             5   \n",
       "ZAF - Other                                             6             6   \n",
       "ZMB - Other                                             5             5   \n",
       "Zagreb                                                  9             9   \n",
       "Zamudio                                                 2             2   \n",
       "Zaragoza                                                8             8   \n",
       "Zhengzhou                                               3             3   \n",
       "Zhuhai                                                  6             6   \n",
       "Zurich                                                248           248   \n",
       "Ã‡an                                                   71            71   \n",
       "Ã‰vry                                                   8             8   \n",
       "\n",
       "                                        investor_permalink  investor_name  \\\n",
       "region                                                                      \n",
       "A Coruna                                                 3              3   \n",
       "AB - Other                                               2              2   \n",
       "AK - Other                                               2              2   \n",
       "AL - Other                                               4              4   \n",
       "AR - Other                                              10             10   \n",
       "ARG - Other                                             20             20   \n",
       "ARM - Other                                              2              2   \n",
       "AUS - Other                                             47             47   \n",
       "AUT - Other                                             25             25   \n",
       "AZ - Other                                               4              4   \n",
       "AZE - Other                                              1              1   \n",
       "Aachen                                                  17             17   \n",
       "Aalborg                                                  6              6   \n",
       "Aarhus                                                  21             21   \n",
       "Aberdeen                                                12             12   \n",
       "Abu Dhabi                                                2              2   \n",
       "Abuja                                                    6              6   \n",
       "Accra                                                   22             22   \n",
       "Adelaide                                                15             15   \n",
       "Admiralty                                                2              2   \n",
       "Ahmedabad                                               36             36   \n",
       "Aix-en-provence                                         69             69   \n",
       "Akron - Canton                                          50             50   \n",
       "Albany, Georgia                                          1              1   \n",
       "Albany, New York                                        65             65   \n",
       "Albuquerque                                            207            207   \n",
       "Alcester                                                11             11   \n",
       "Alcorcon                                                 5              5   \n",
       "Alcoy                                                    1              1   \n",
       "Aldershot                                                2              2   \n",
       "...                                                    ...            ...   \n",
       "Wilmington - Cape Fear, North Carolina                  16             16   \n",
       "Wilmington, Delaware                                    82             82   \n",
       "Wilmslow                                                 2              2   \n",
       "Wimbledon                                                3              3   \n",
       "Winnipeg                                                 7              7   \n",
       "Winston-Salem                                           29             29   \n",
       "Wokingham                                                5              5   \n",
       "Wolverhampton                                            4              4   \n",
       "Worcester                                              231            231   \n",
       "Wroclaw                                                 16             16   \n",
       "Wuhan                                                    7              7   \n",
       "Wuxi                                                     4              4   \n",
       "Xiamen                                                  17             17   \n",
       "Yangon                                                   1              1   \n",
       "Yerevan                                                  3              3   \n",
       "Yokohama                                                 3              3   \n",
       "York                                                     9              9   \n",
       "Youngstown                                               6              6   \n",
       "Yucatan                                                  3              3   \n",
       "Yverdon-les-bains                                        5              5   \n",
       "ZAF - Other                                              6              6   \n",
       "ZMB - Other                                              5              5   \n",
       "Zagreb                                                   9              9   \n",
       "Zamudio                                                  2              2   \n",
       "Zaragoza                                                 8              8   \n",
       "Zhengzhou                                                3              3   \n",
       "Zhuhai                                                   6              6   \n",
       "Zurich                                                 248            248   \n",
       "Ã‡an                                                    71             71   \n",
       "Ã‰vry                                                    8              8   \n",
       "\n",
       "                                        investor_country_code  \\\n",
       "region                                                          \n",
       "A Coruna                                                    3   \n",
       "AB - Other                                                  2   \n",
       "AK - Other                                                  1   \n",
       "AL - Other                                                  4   \n",
       "AR - Other                                                  7   \n",
       "ARG - Other                                                18   \n",
       "ARM - Other                                                 1   \n",
       "AUS - Other                                                33   \n",
       "AUT - Other                                                19   \n",
       "AZ - Other                                                  3   \n",
       "AZE - Other                                                 1   \n",
       "Aachen                                                     13   \n",
       "Aalborg                                                     5   \n",
       "Aarhus                                                     18   \n",
       "Aberdeen                                                    9   \n",
       "Abu Dhabi                                                   2   \n",
       "Abuja                                                       5   \n",
       "Accra                                                      21   \n",
       "Adelaide                                                   14   \n",
       "Admiralty                                                   2   \n",
       "Ahmedabad                                                  20   \n",
       "Aix-en-provence                                            63   \n",
       "Akron - Canton                                             39   \n",
       "Albany, Georgia                                             1   \n",
       "Albany, New York                                           54   \n",
       "Albuquerque                                               192   \n",
       "Alcester                                                   10   \n",
       "Alcorcon                                                    4   \n",
       "Alcoy                                                       1   \n",
       "Aldershot                                                   2   \n",
       "...                                                       ...   \n",
       "Wilmington - Cape Fear, North Carolina                      9   \n",
       "Wilmington, Delaware                                       66   \n",
       "Wilmslow                                                    1   \n",
       "Wimbledon                                                   3   \n",
       "Winnipeg                                                    5   \n",
       "Winston-Salem                                              28   \n",
       "Wokingham                                                   5   \n",
       "Wolverhampton                                               4   \n",
       "Worcester                                                 210   \n",
       "Wroclaw                                                     8   \n",
       "Wuhan                                                       7   \n",
       "Wuxi                                                        3   \n",
       "Xiamen                                                     14   \n",
       "Yangon                                                      0   \n",
       "Yerevan                                                     3   \n",
       "Yokohama                                                    3   \n",
       "York                                                        9   \n",
       "Youngstown                                                  6   \n",
       "Yucatan                                                     3   \n",
       "Yverdon-les-bains                                           4   \n",
       "ZAF - Other                                                 3   \n",
       "ZMB - Other                                                 0   \n",
       "Zagreb                                                      7   \n",
       "Zamudio                                                     1   \n",
       "Zaragoza                                                    8   \n",
       "Zhengzhou                                                   3   \n",
       "Zhuhai                                                      5   \n",
       "Zurich                                                    178   \n",
       "Ã‡an                                                       66   \n",
       "Ã‰vry                                                       7   \n",
       "\n",
       "                                        investor_state_code  investor_region  \\\n",
       "region                                                                         \n",
       "A Coruna                                                  3                3   \n",
       "AB - Other                                                2                2   \n",
       "AK - Other                                                1                1   \n",
       "AL - Other                                                4                4   \n",
       "AR - Other                                                4                3   \n",
       "ARG - Other                                              18               18   \n",
       "ARM - Other                                               1                1   \n",
       "AUS - Other                                              29               29   \n",
       "AUT - Other                                              16               16   \n",
       "AZ - Other                                                2                2   \n",
       "AZE - Other                                               1                1   \n",
       "Aachen                                                   13               13   \n",
       "Aalborg                                                   5                5   \n",
       "Aarhus                                                   18               18   \n",
       "Aberdeen                                                  9                9   \n",
       "Abu Dhabi                                                 2                2   \n",
       "Abuja                                                     5                5   \n",
       "Accra                                                    20               21   \n",
       "Adelaide                                                 14               14   \n",
       "Admiralty                                                 1                2   \n",
       "Ahmedabad                                                17               17   \n",
       "Aix-en-provence                                          63               63   \n",
       "Akron - Canton                                           37               37   \n",
       "Albany, Georgia                                           1                1   \n",
       "Albany, New York                                         54               54   \n",
       "Albuquerque                                             190              189   \n",
       "Alcester                                                 10               10   \n",
       "Alcorcon                                                  4                4   \n",
       "Alcoy                                                     1                1   \n",
       "Aldershot                                                 2                2   \n",
       "...                                                     ...              ...   \n",
       "Wilmington - Cape Fear, North Carolina                    8                8   \n",
       "Wilmington, Delaware                                     61               61   \n",
       "Wilmslow                                                  1                1   \n",
       "Wimbledon                                                 3                3   \n",
       "Winnipeg                                                  5                5   \n",
       "Winston-Salem                                            27               27   \n",
       "Wokingham                                                 5                5   \n",
       "Wolverhampton                                             4                4   \n",
       "Worcester                                               209              209   \n",
       "Wroclaw                                                   8                8   \n",
       "Wuhan                                                     5                7   \n",
       "Wuxi                                                      3                3   \n",
       "Xiamen                                                   13               14   \n",
       "Yangon                                                    0                0   \n",
       "Yerevan                                                   3                3   \n",
       "Yokohama                                                  2                2   \n",
       "York                                                      7                7   \n",
       "Youngstown                                                6                6   \n",
       "Yucatan                                                   3                3   \n",
       "Yverdon-les-bains                                         2                3   \n",
       "ZAF - Other                                               1                1   \n",
       "ZMB - Other                                               0                0   \n",
       "Zagreb                                                    5                5   \n",
       "Zamudio                                                   1                1   \n",
       "Zaragoza                                                  7                7   \n",
       "Zhengzhou                                                 3                3   \n",
       "Zhuhai                                                    4                4   \n",
       "Zurich                                                  139              132   \n",
       "Ã‡an                                                     65               64   \n",
       "Ã‰vry                                                     7                7   \n",
       "\n",
       "                                        investor_city  \\\n",
       "region                                                  \n",
       "A Coruna                                            3   \n",
       "AB - Other                                          2   \n",
       "AK - Other                                          1   \n",
       "AL - Other                                          4   \n",
       "AR - Other                                          7   \n",
       "ARG - Other                                        18   \n",
       "ARM - Other                                         1   \n",
       "AUS - Other                                        33   \n",
       "AUT - Other                                        19   \n",
       "AZ - Other                                          3   \n",
       "AZE - Other                                         1   \n",
       "Aachen                                             13   \n",
       "Aalborg                                             5   \n",
       "Aarhus                                             18   \n",
       "Aberdeen                                            9   \n",
       "Abu Dhabi                                           2   \n",
       "Abuja                                               5   \n",
       "Accra                                              21   \n",
       "Adelaide                                           14   \n",
       "Admiralty                                           2   \n",
       "Ahmedabad                                          20   \n",
       "Aix-en-provence                                    63   \n",
       "Akron - Canton                                     39   \n",
       "Albany, Georgia                                     1   \n",
       "Albany, New York                                   54   \n",
       "Albuquerque                                       191   \n",
       "Alcester                                           10   \n",
       "Alcorcon                                            4   \n",
       "Alcoy                                               1   \n",
       "Aldershot                                           2   \n",
       "...                                               ...   \n",
       "Wilmington - Cape Fear, North Carolina              9   \n",
       "Wilmington, Delaware                               65   \n",
       "Wilmslow                                            1   \n",
       "Wimbledon                                           3   \n",
       "Winnipeg                                            5   \n",
       "Winston-Salem                                      27   \n",
       "Wokingham                                           5   \n",
       "Wolverhampton                                       4   \n",
       "Worcester                                         210   \n",
       "Wroclaw                                             8   \n",
       "Wuhan                                               7   \n",
       "Wuxi                                                3   \n",
       "Xiamen                                             14   \n",
       "Yangon                                              0   \n",
       "Yerevan                                             3   \n",
       "Yokohama                                            2   \n",
       "York                                                7   \n",
       "Youngstown                                          6   \n",
       "Yucatan                                             3   \n",
       "Yverdon-les-bains                                   4   \n",
       "ZAF - Other                                         3   \n",
       "ZMB - Other                                         0   \n",
       "Zagreb                                              7   \n",
       "Zamudio                                             1   \n",
       "Zaragoza                                            8   \n",
       "Zhengzhou                                           3   \n",
       "Zhuhai                                              4   \n",
       "Zurich                                            168   \n",
       "Ã‡an                                               65   \n",
       "Ã‰vry                                               7   \n",
       "\n",
       "                                        funding_round_permalink  \\\n",
       "region                                                            \n",
       "A Coruna                                                      3   \n",
       "AB - Other                                                    2   \n",
       "AK - Other                                                    2   \n",
       "AL - Other                                                    4   \n",
       "AR - Other                                                   10   \n",
       "ARG - Other                                                  20   \n",
       "ARM - Other                                                   2   \n",
       "AUS - Other                                                  47   \n",
       "AUT - Other                                                  25   \n",
       "AZ - Other                                                    4   \n",
       "AZE - Other                                                   1   \n",
       "Aachen                                                       17   \n",
       "Aalborg                                                       6   \n",
       "Aarhus                                                       21   \n",
       "Aberdeen                                                     12   \n",
       "Abu Dhabi                                                     2   \n",
       "Abuja                                                         6   \n",
       "Accra                                                        22   \n",
       "Adelaide                                                     15   \n",
       "Admiralty                                                     2   \n",
       "Ahmedabad                                                    36   \n",
       "Aix-en-provence                                              69   \n",
       "Akron - Canton                                               50   \n",
       "Albany, Georgia                                               1   \n",
       "Albany, New York                                             65   \n",
       "Albuquerque                                                 207   \n",
       "Alcester                                                     11   \n",
       "Alcorcon                                                      5   \n",
       "Alcoy                                                         1   \n",
       "Aldershot                                                     2   \n",
       "...                                                         ...   \n",
       "Wilmington - Cape Fear, North Carolina                       16   \n",
       "Wilmington, Delaware                                         82   \n",
       "Wilmslow                                                      2   \n",
       "Wimbledon                                                     3   \n",
       "Winnipeg                                                      7   \n",
       "Winston-Salem                                                29   \n",
       "Wokingham                                                     5   \n",
       "Wolverhampton                                                 4   \n",
       "Worcester                                                   231   \n",
       "Wroclaw                                                      16   \n",
       "Wuhan                                                         7   \n",
       "Wuxi                                                          4   \n",
       "Xiamen                                                       17   \n",
       "Yangon                                                        1   \n",
       "Yerevan                                                       3   \n",
       "Yokohama                                                      3   \n",
       "York                                                          9   \n",
       "Youngstown                                                    6   \n",
       "Yucatan                                                       3   \n",
       "Yverdon-les-bains                                             5   \n",
       "ZAF - Other                                                   6   \n",
       "ZMB - Other                                                   5   \n",
       "Zagreb                                                        9   \n",
       "Zamudio                                                       2   \n",
       "Zaragoza                                                      8   \n",
       "Zhengzhou                                                     3   \n",
       "Zhuhai                                                        6   \n",
       "Zurich                                                      248   \n",
       "Ã‡an                                                         71   \n",
       "Ã‰vry                                                         8   \n",
       "\n",
       "                                        funding_round_type       ...         \\\n",
       "region                                                           ...          \n",
       "A Coruna                                                 3       ...          \n",
       "AB - Other                                               2       ...          \n",
       "AK - Other                                               2       ...          \n",
       "AL - Other                                               4       ...          \n",
       "AR - Other                                              10       ...          \n",
       "ARG - Other                                             20       ...          \n",
       "ARM - Other                                              2       ...          \n",
       "AUS - Other                                             47       ...          \n",
       "AUT - Other                                             25       ...          \n",
       "AZ - Other                                               4       ...          \n",
       "AZE - Other                                              1       ...          \n",
       "Aachen                                                  17       ...          \n",
       "Aalborg                                                  6       ...          \n",
       "Aarhus                                                  21       ...          \n",
       "Aberdeen                                                12       ...          \n",
       "Abu Dhabi                                                2       ...          \n",
       "Abuja                                                    6       ...          \n",
       "Accra                                                   22       ...          \n",
       "Adelaide                                                15       ...          \n",
       "Admiralty                                                2       ...          \n",
       "Ahmedabad                                               36       ...          \n",
       "Aix-en-provence                                         69       ...          \n",
       "Akron - Canton                                          50       ...          \n",
       "Albany, Georgia                                          1       ...          \n",
       "Albany, New York                                        65       ...          \n",
       "Albuquerque                                            207       ...          \n",
       "Alcester                                                11       ...          \n",
       "Alcorcon                                                 5       ...          \n",
       "Alcoy                                                    1       ...          \n",
       "Aldershot                                                2       ...          \n",
       "...                                                    ...       ...          \n",
       "Wilmington - Cape Fear, North Carolina                  16       ...          \n",
       "Wilmington, Delaware                                    82       ...          \n",
       "Wilmslow                                                 2       ...          \n",
       "Wimbledon                                                3       ...          \n",
       "Winnipeg                                                 7       ...          \n",
       "Winston-Salem                                           29       ...          \n",
       "Wokingham                                                5       ...          \n",
       "Wolverhampton                                            4       ...          \n",
       "Worcester                                              231       ...          \n",
       "Wroclaw                                                 16       ...          \n",
       "Wuhan                                                    7       ...          \n",
       "Wuxi                                                     4       ...          \n",
       "Xiamen                                                  17       ...          \n",
       "Yangon                                                   1       ...          \n",
       "Yerevan                                                  3       ...          \n",
       "Yokohama                                                 3       ...          \n",
       "York                                                     9       ...          \n",
       "Youngstown                                               6       ...          \n",
       "Yucatan                                                  3       ...          \n",
       "Yverdon-les-bains                                        5       ...          \n",
       "ZAF - Other                                              6       ...          \n",
       "ZMB - Other                                              5       ...          \n",
       "Zagreb                                                   9       ...          \n",
       "Zamudio                                                  2       ...          \n",
       "Zaragoza                                                 8       ...          \n",
       "Zhengzhou                                                3       ...          \n",
       "Zhuhai                                                   6       ...          \n",
       "Zurich                                                 248       ...          \n",
       "Ã‡an                                                    71       ...          \n",
       "Ã‰vry                                                    8       ...          \n",
       "\n",
       "                                        category_list  funding_total_usd  \\\n",
       "region                                                                     \n",
       "A Coruna                                            3                  3   \n",
       "AB - Other                                          2                  2   \n",
       "AK - Other                                          2                  2   \n",
       "AL - Other                                          4                  4   \n",
       "AR - Other                                         10                 10   \n",
       "ARG - Other                                        20                 20   \n",
       "ARM - Other                                         2                  2   \n",
       "AUS - Other                                        46                 47   \n",
       "AUT - Other                                        25                 25   \n",
       "AZ - Other                                          4                  4   \n",
       "AZE - Other                                         1                  1   \n",
       "Aachen                                             16                 17   \n",
       "Aalborg                                             5                  6   \n",
       "Aarhus                                             20                 21   \n",
       "Aberdeen                                           12                 12   \n",
       "Abu Dhabi                                           2                  2   \n",
       "Abuja                                               5                  6   \n",
       "Accra                                              22                 22   \n",
       "Adelaide                                           15                 15   \n",
       "Admiralty                                           2                  2   \n",
       "Ahmedabad                                          34                 36   \n",
       "Aix-en-provence                                    69                 69   \n",
       "Akron - Canton                                     50                 50   \n",
       "Albany, Georgia                                     1                  1   \n",
       "Albany, New York                                   65                 65   \n",
       "Albuquerque                                       206                207   \n",
       "Alcester                                           11                 11   \n",
       "Alcorcon                                            5                  5   \n",
       "Alcoy                                               1                  1   \n",
       "Aldershot                                           2                  2   \n",
       "...                                               ...                ...   \n",
       "Wilmington - Cape Fear, North Carolina             16                 16   \n",
       "Wilmington, Delaware                               81                 82   \n",
       "Wilmslow                                            2                  2   \n",
       "Wimbledon                                           2                  3   \n",
       "Winnipeg                                            7                  7   \n",
       "Winston-Salem                                      29                 29   \n",
       "Wokingham                                           5                  5   \n",
       "Wolverhampton                                       2                  4   \n",
       "Worcester                                         224                231   \n",
       "Wroclaw                                            15                 16   \n",
       "Wuhan                                               7                  7   \n",
       "Wuxi                                                4                  4   \n",
       "Xiamen                                             17                 17   \n",
       "Yangon                                              1                  1   \n",
       "Yerevan                                             3                  3   \n",
       "Yokohama                                            3                  3   \n",
       "York                                                9                  9   \n",
       "Youngstown                                          5                  6   \n",
       "Yucatan                                             3                  3   \n",
       "Yverdon-les-bains                                   5                  5   \n",
       "ZAF - Other                                         6                  6   \n",
       "ZMB - Other                                         5                  5   \n",
       "Zagreb                                              9                  9   \n",
       "Zamudio                                             2                  2   \n",
       "Zaragoza                                            8                  8   \n",
       "Zhengzhou                                           3                  3   \n",
       "Zhuhai                                              6                  6   \n",
       "Zurich                                            245                248   \n",
       "Ã‡an                                               70                 71   \n",
       "Ã‰vry                                               8                  8   \n",
       "\n",
       "                                        status  country_code  state_code  \\\n",
       "region                                                                     \n",
       "A Coruna                                     3             3           3   \n",
       "AB - Other                                   2             2           2   \n",
       "AK - Other                                   2             2           2   \n",
       "AL - Other                                   4             4           4   \n",
       "AR - Other                                  10            10          10   \n",
       "ARG - Other                                 20            20          20   \n",
       "ARM - Other                                  2             2           2   \n",
       "AUS - Other                                 47            47          47   \n",
       "AUT - Other                                 25            25          25   \n",
       "AZ - Other                                   4             4           4   \n",
       "AZE - Other                                  1             1           1   \n",
       "Aachen                                      17            17          17   \n",
       "Aalborg                                      6             6           6   \n",
       "Aarhus                                      21            21          21   \n",
       "Aberdeen                                    12            12          12   \n",
       "Abu Dhabi                                    2             2           2   \n",
       "Abuja                                        6             6           6   \n",
       "Accra                                       22            22          22   \n",
       "Adelaide                                    15            15          15   \n",
       "Admiralty                                    2             2           0   \n",
       "Ahmedabad                                   36            36          36   \n",
       "Aix-en-provence                             69            69          69   \n",
       "Akron - Canton                              50            50          50   \n",
       "Albany, Georgia                              1             1           1   \n",
       "Albany, New York                            65            65          65   \n",
       "Albuquerque                                207           207         207   \n",
       "Alcester                                    11            11          11   \n",
       "Alcorcon                                     5             5           5   \n",
       "Alcoy                                        1             1           1   \n",
       "Aldershot                                    2             2           2   \n",
       "...                                        ...           ...         ...   \n",
       "Wilmington - Cape Fear, North Carolina      16            16          16   \n",
       "Wilmington, Delaware                        82            82          82   \n",
       "Wilmslow                                     2             2           2   \n",
       "Wimbledon                                    3             3           3   \n",
       "Winnipeg                                     7             7           7   \n",
       "Winston-Salem                               29            29          29   \n",
       "Wokingham                                    5             5           5   \n",
       "Wolverhampton                                4             4           4   \n",
       "Worcester                                  231           231         231   \n",
       "Wroclaw                                     16            16          16   \n",
       "Wuhan                                        7             7           7   \n",
       "Wuxi                                         4             4           4   \n",
       "Xiamen                                      17            17          17   \n",
       "Yangon                                       1             1           1   \n",
       "Yerevan                                      3             3           3   \n",
       "Yokohama                                     3             3           3   \n",
       "York                                         9             9           9   \n",
       "Youngstown                                   6             6           6   \n",
       "Yucatan                                      3             3           3   \n",
       "Yverdon-les-bains                            5             5           5   \n",
       "ZAF - Other                                  6             6           0   \n",
       "ZMB - Other                                  5             5           0   \n",
       "Zagreb                                       9             9           9   \n",
       "Zamudio                                      2             2           2   \n",
       "Zaragoza                                     8             8           8   \n",
       "Zhengzhou                                    3             3           3   \n",
       "Zhuhai                                       6             6           6   \n",
       "Zurich                                     248           248         248   \n",
       "Ã‡an                                        71            71          71   \n",
       "Ã‰vry                                        8             8           8   \n",
       "\n",
       "                                        city  funding_rounds  founded_at  \\\n",
       "region                                                                     \n",
       "A Coruna                                   3               3           1   \n",
       "AB - Other                                 2               2           0   \n",
       "AK - Other                                 2               2           2   \n",
       "AL - Other                                 4               4           3   \n",
       "AR - Other                                10              10           9   \n",
       "ARG - Other                               20              20          16   \n",
       "ARM - Other                                2               2           2   \n",
       "AUS - Other                               47              47          41   \n",
       "AUT - Other                               25              25          18   \n",
       "AZ - Other                                 4               4           4   \n",
       "AZE - Other                                1               1           1   \n",
       "Aachen                                    17              17          14   \n",
       "Aalborg                                    6               6           5   \n",
       "Aarhus                                    21              21          17   \n",
       "Aberdeen                                  12              12          11   \n",
       "Abu Dhabi                                  2               2           2   \n",
       "Abuja                                      6               6           5   \n",
       "Accra                                     22              22          19   \n",
       "Adelaide                                  15              15          14   \n",
       "Admiralty                                  2               2           0   \n",
       "Ahmedabad                                 36              36          29   \n",
       "Aix-en-provence                           69              69          66   \n",
       "Akron - Canton                            50              50          40   \n",
       "Albany, Georgia                            1               1           1   \n",
       "Albany, New York                          65              65          54   \n",
       "Albuquerque                              207             207         165   \n",
       "Alcester                                  11              11          11   \n",
       "Alcorcon                                   5               5           5   \n",
       "Alcoy                                      1               1           1   \n",
       "Aldershot                                  2               2           2   \n",
       "...                                      ...             ...         ...   \n",
       "Wilmington - Cape Fear, North Carolina    16              16          14   \n",
       "Wilmington, Delaware                      82              82          59   \n",
       "Wilmslow                                   2               2           2   \n",
       "Wimbledon                                  3               3           2   \n",
       "Winnipeg                                   7               7           6   \n",
       "Winston-Salem                             29              29          28   \n",
       "Wokingham                                  5               5           5   \n",
       "Wolverhampton                              4               4           1   \n",
       "Worcester                                231             231         194   \n",
       "Wroclaw                                   16              16          13   \n",
       "Wuhan                                      7               7           3   \n",
       "Wuxi                                       4               4           4   \n",
       "Xiamen                                    17              17           7   \n",
       "Yangon                                     1               1           1   \n",
       "Yerevan                                    3               3           3   \n",
       "Yokohama                                   3               3           2   \n",
       "York                                       9               9           4   \n",
       "Youngstown                                 6               6           5   \n",
       "Yucatan                                    3               3           1   \n",
       "Yverdon-les-bains                          5               5           5   \n",
       "ZAF - Other                                6               6           6   \n",
       "ZMB - Other                                5               5           5   \n",
       "Zagreb                                     9               9           8   \n",
       "Zamudio                                    2               2           0   \n",
       "Zaragoza                                   8               8           3   \n",
       "Zhengzhou                                  3               3           1   \n",
       "Zhuhai                                     6               6           2   \n",
       "Zurich                                   248             248         229   \n",
       "Ã‡an                                      71              71          46   \n",
       "Ã‰vry                                      8               8           6   \n",
       "\n",
       "                                        first_funding_at  last_funding_at  \n",
       "region                                                                     \n",
       "A Coruna                                               3                3  \n",
       "AB - Other                                             2                2  \n",
       "AK - Other                                             2                2  \n",
       "AL - Other                                             4                4  \n",
       "AR - Other                                            10               10  \n",
       "ARG - Other                                           20               20  \n",
       "ARM - Other                                            2                2  \n",
       "AUS - Other                                           47               47  \n",
       "AUT - Other                                           25               25  \n",
       "AZ - Other                                             4                4  \n",
       "AZE - Other                                            1                1  \n",
       "Aachen                                                17               17  \n",
       "Aalborg                                                6                6  \n",
       "Aarhus                                                21               21  \n",
       "Aberdeen                                              12               12  \n",
       "Abu Dhabi                                              2                2  \n",
       "Abuja                                                  6                6  \n",
       "Accra                                                 22               22  \n",
       "Adelaide                                              15               15  \n",
       "Admiralty                                              2                2  \n",
       "Ahmedabad                                             36               36  \n",
       "Aix-en-provence                                       69               69  \n",
       "Akron - Canton                                        50               50  \n",
       "Albany, Georgia                                        1                1  \n",
       "Albany, New York                                      65               65  \n",
       "Albuquerque                                          207              207  \n",
       "Alcester                                              11               11  \n",
       "Alcorcon                                               5                5  \n",
       "Alcoy                                                  1                1  \n",
       "Aldershot                                              2                2  \n",
       "...                                                  ...              ...  \n",
       "Wilmington - Cape Fear, North Carolina                16               16  \n",
       "Wilmington, Delaware                                  82               82  \n",
       "Wilmslow                                               2                2  \n",
       "Wimbledon                                              3                3  \n",
       "Winnipeg                                               7                7  \n",
       "Winston-Salem                                         29               29  \n",
       "Wokingham                                              5                5  \n",
       "Wolverhampton                                          4                4  \n",
       "Worcester                                            231              231  \n",
       "Wroclaw                                               16               16  \n",
       "Wuhan                                                  7                7  \n",
       "Wuxi                                                   4                4  \n",
       "Xiamen                                                17               17  \n",
       "Yangon                                                 1                1  \n",
       "Yerevan                                                3                3  \n",
       "Yokohama                                               3                3  \n",
       "York                                                   9                9  \n",
       "Youngstown                                             6                6  \n",
       "Yucatan                                                3                3  \n",
       "Yverdon-les-bains                                      5                5  \n",
       "ZAF - Other                                            6                6  \n",
       "ZMB - Other                                            5                5  \n",
       "Zagreb                                                 9                9  \n",
       "Zamudio                                                2                2  \n",
       "Zaragoza                                               8                8  \n",
       "Zhengzhou                                              3                3  \n",
       "Zhuhai                                                 6                6  \n",
       "Zurich                                               248              248  \n",
       "Ã‡an                                                  71               71  \n",
       "Ã‰vry                                                  8                8  \n",
       "\n",
       "[983 rows x 28 columns]"
      ]
     },
     "execution_count": 43,
     "metadata": {},
     "output_type": "execute_result"
    }
   ],
   "source": [
    "newdf.groupby(['region']).count().compute()"
   ]
  },
  {
   "cell_type": "code",
   "execution_count": null,
   "metadata": {
    "collapsed": true
=======
   "execution_count": null,
   "metadata": {
    "collapsed": false
>>>>>>> 405479cc1113c3a343a1cfb5751208c616682493
   },
   "outputs": [],
   "source": []
  }
 ],
 "metadata": {
  "kernelspec": {
<<<<<<< HEAD
   "display_name": "Python 2",
   "language": "python",
   "name": "python2"
=======
   "display_name": "Python 3",
   "language": "python",
   "name": "python3"
>>>>>>> 405479cc1113c3a343a1cfb5751208c616682493
  },
  "language_info": {
   "codemirror_mode": {
    "name": "ipython",
<<<<<<< HEAD
    "version": 2
=======
    "version": 3
>>>>>>> 405479cc1113c3a343a1cfb5751208c616682493
   },
   "file_extension": ".py",
   "mimetype": "text/x-python",
   "name": "python",
   "nbconvert_exporter": "python",
<<<<<<< HEAD
   "pygments_lexer": "ipython2",
   "version": "2.7.13"
  }
 },
 "nbformat": 4,
 "nbformat_minor": 1
=======
   "pygments_lexer": "ipython3",
   "version": "3.4.3"
  }
 },
 "nbformat": 4,
 "nbformat_minor": 0
>>>>>>> 405479cc1113c3a343a1cfb5751208c616682493
}
